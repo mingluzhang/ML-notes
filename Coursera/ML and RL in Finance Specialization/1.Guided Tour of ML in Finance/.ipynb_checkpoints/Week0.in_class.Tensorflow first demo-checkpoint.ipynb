{
 "cells": [
  {
   "cell_type": "markdown",
   "metadata": {},
   "source": [
    "### Creating and running a graph"
   ]
  },
  {
   "cell_type": "code",
   "execution_count": 82,
   "metadata": {},
   "outputs": [],
   "source": [
    "import numpy as np\n",
    "import os\n",
    "import matplotlib\n",
    "import matplotlib.pyplot as plt\n",
    "import time"
   ]
  },
  {
   "cell_type": "code",
   "execution_count": 83,
   "metadata": {},
   "outputs": [],
   "source": [
    "def reset_graph(seed=42):\n",
    "    tf.reset_default_graph()\n",
    "    tf.set_random_seed(seed)\n",
    "    np.random.seed(seed)"
   ]
  },
  {
   "cell_type": "code",
   "execution_count": 84,
   "metadata": {},
   "outputs": [],
   "source": [
    "import tensorflow as tf"
   ]
  },
  {
   "cell_type": "code",
   "execution_count": 85,
   "metadata": {},
   "outputs": [],
   "source": [
    "# create variables on the default graph\n",
    "reset_graph()\n",
    "\n",
    "# vars and consts\n",
    "x = tf.Variable(3, name=\"x\")\n",
    "y = tf.Variable(4, name=\"y\")\n",
    "a = tf.constant(2, name=\"a\")"
   ]
  },
  {
   "cell_type": "code",
   "execution_count": 86,
   "metadata": {},
   "outputs": [
    {
     "name": "stdout",
     "output_type": "stream",
     "text": [
      "True\n",
      "True\n",
      "True\n"
     ]
    }
   ],
   "source": [
    "# are these nodes on the graph?\n",
    "print(x.graph is tf.get_default_graph())\n",
    "print(y.graph is tf.get_default_graph())\n",
    "print(a.graph is tf.get_default_graph())"
   ]
  },
  {
   "cell_type": "code",
   "execution_count": 87,
   "metadata": {},
   "outputs": [
    {
     "name": "stdout",
     "output_type": "stream",
     "text": [
      "True\n",
      "False\n"
     ]
    }
   ],
   "source": [
    "# we can add nodes to a specific graph:\n",
    "graph = tf.Graph()\n",
    "with graph.as_default():\n",
    "    x2 = tf.Variable(2)\n",
    "    \n",
    "print(x2.graph is graph)\n",
    "print(x2.graph is tf.get_default_graph())\n",
    "\n",
    "# to remove duplicate or unwanted nodes\n",
    "# tf.reset_default_graph()"
   ]
  },
  {
   "cell_type": "code",
   "execution_count": 88,
   "metadata": {},
   "outputs": [
    {
     "data": {
      "text/plain": [
       "(<tf.Variable 'x:0' shape=() dtype=int32_ref>,\n",
       " <tf.Variable 'y:0' shape=() dtype=int32_ref>,\n",
       " <tf.Tensor 'a:0' shape=() dtype=int32>)"
      ]
     },
     "execution_count": 88,
     "metadata": {},
     "output_type": "execute_result"
    }
   ],
   "source": [
    "x, y, a"
   ]
  },
  {
   "cell_type": "code",
   "execution_count": 89,
   "metadata": {},
   "outputs": [],
   "source": [
    "# f(x, y) = x^2 + y + a\n",
    "f = x*x + y + a"
   ]
  },
  {
   "cell_type": "code",
   "execution_count": 90,
   "metadata": {},
   "outputs": [
    {
     "data": {
      "text/plain": [
       "<tf.Tensor 'add_1:0' shape=() dtype=int32>"
      ]
     },
     "execution_count": 90,
     "metadata": {},
     "output_type": "execute_result"
    }
   ],
   "source": [
    "f"
   ]
  },
  {
   "cell_type": "markdown",
   "metadata": {},
   "source": [
    "### To evaluate the graph, we open a TensorFlow session"
   ]
  },
  {
   "cell_type": "markdown",
   "metadata": {},
   "source": [
    "A TF session init all vars and evaluate the graph. It puts graph opers on a CPU or GPU or a cluster and holds all var values."
   ]
  },
  {
   "cell_type": "code",
   "execution_count": 91,
   "metadata": {},
   "outputs": [
    {
     "name": "stdout",
     "output_type": "stream",
     "text": [
      "a= 2\n",
      "result= 15\n"
     ]
    }
   ],
   "source": [
    "# a verbose way\n",
    "sess = tf.Session()\n",
    "sess.run(x.initializer)\n",
    "sess.run(y.initializer)\n",
    "result = sess.run(f)\n",
    "a_val = a.eval(session=sess) # const donnot need to init\n",
    "print(\"a=\", a_val)\n",
    "print(\"result=\", result)\n",
    "sess.close()"
   ]
  },
  {
   "cell_type": "code",
   "execution_count": 92,
   "metadata": {},
   "outputs": [
    {
     "name": "stdout",
     "output_type": "stream",
     "text": [
      "a= 2\n",
      "result= 15\n"
     ]
    }
   ],
   "source": [
    "# run a session with automatic closing at the end\n",
    "with tf.Session() as sess:\n",
    "    x.initializer.run()\n",
    "    y.initializer.run()\n",
    "    result = f.eval()\n",
    "    a_val = a.eval()\n",
    "    \n",
    "print(\"a=\", a_val)\n",
    "print(\"result=\", result)"
   ]
  },
  {
   "cell_type": "markdown",
   "metadata": {},
   "source": [
    "### Init all var at once"
   ]
  },
  {
   "cell_type": "code",
   "execution_count": 93,
   "metadata": {
    "scrolled": true
   },
   "outputs": [
    {
     "name": "stdout",
     "output_type": "stream",
     "text": [
      "result= 15\n"
     ]
    }
   ],
   "source": [
    "init = tf.global_variables_initializer()\n",
    "\n",
    "with tf.Session() as sess:\n",
    "    init.run()\n",
    "    result = f.eval()\n",
    "    \n",
    "print(\"result=\", result)"
   ]
  },
  {
   "cell_type": "code",
   "execution_count": 94,
   "metadata": {
    "scrolled": true
   },
   "outputs": [
    {
     "data": {
      "text/plain": [
       "<tf.Operation 'init' type=NoOp>"
      ]
     },
     "execution_count": 94,
     "metadata": {},
     "output_type": "execute_result"
    }
   ],
   "source": [
    "init"
   ]
  },
  {
   "cell_type": "markdown",
   "metadata": {},
   "source": [
    "### Lifecycle of a node value"
   ]
  },
  {
   "cell_type": "code",
   "execution_count": 95,
   "metadata": {},
   "outputs": [
    {
     "name": "stdout",
     "output_type": "stream",
     "text": [
      "10\n",
      "15\n"
     ]
    }
   ],
   "source": [
    "w = tf.constant(3)\n",
    "# w = 3  # Traceback: AttributeError: 'int' object has no attribute 'eval'\n",
    "x = w + 2\n",
    "y = x + 5\n",
    "z = x * 3\n",
    "\n",
    "with tf.Session() as sess:\n",
    "    print(y.eval())\n",
    "    print(z.eval())"
   ]
  },
  {
   "cell_type": "code",
   "execution_count": 96,
   "metadata": {},
   "outputs": [
    {
     "name": "stdout",
     "output_type": "stream",
     "text": [
      "10\n",
      "15\n"
     ]
    }
   ],
   "source": [
    "# more efficient evaluation of tf graph\n",
    "with tf.Session() as sess:\n",
    "    y_val, z_val = sess.run([y, z])\n",
    "    print(y_val)\n",
    "    print(z_val) "
   ]
  },
  {
   "cell_type": "markdown",
   "metadata": {},
   "source": [
    "All node values are dropped between runs, except var values"
   ]
  },
  {
   "cell_type": "code",
   "execution_count": 98,
   "metadata": {},
   "outputs": [
    {
     "data": {
      "text/plain": [
       "<tf.Tensor 'add_2:0' shape=() dtype=int32>"
      ]
     },
     "execution_count": 98,
     "metadata": {},
     "output_type": "execute_result"
    }
   ],
   "source": [
    "x\n",
    "# x.eval()  # Traceback: ValueError: Cannot evaluate tensor using `eval()`: \n",
    "            # No default session is registered. Use `with sess.as_default()` \n",
    "            # or pass an explicit session to `eval(session=sess)`"
   ]
  },
  {
   "cell_type": "markdown",
   "metadata": {},
   "source": [
    "### Reverse-mode autodiff in TF"
   ]
  },
  {
   "cell_type": "code",
   "execution_count": 99,
   "metadata": {},
   "outputs": [],
   "source": [
    "# def some func\n",
    "def my_func(w, x):\n",
    "    f0 = tf.exp(w[0,0] + w[0,1] * x)\n",
    "    f1 = tf.exp(w[1,0] + w[1,1] * f0)\n",
    "    f2 = tf.exp(w[2,0] + w[2,1] * f1)\n",
    "    \n",
    "    return f2,f1,f0"
   ]
  },
  {
   "cell_type": "code",
   "execution_count": 100,
   "metadata": {},
   "outputs": [],
   "source": [
    "# using name_scope\n",
    "def my_func2(w, x):\n",
    "    with tf.name_scope(\"f_0_level\") as scope_0:\n",
    "        f0 = tf.exp(w[0,0] + w[0,1] * x)\n",
    "    with tf.name_scope(\"f_1_level\") as scope_1:\n",
    "        f1 = tf.exp(w[1,0] + w[1,1] * f0)\n",
    "    with tf.name_scope(\"f_2_level\") as scope_2:\n",
    "        f2 = tf.exp(w[2,0] + w[2,1] * f1)\n",
    "        \n",
    "    return f2,f1,f0"
   ]
  },
  {
   "cell_type": "code",
   "execution_count": 101,
   "metadata": {},
   "outputs": [],
   "source": [
    "w0 = np.vstack((np.zeros(3), np.ones(3))).T"
   ]
  },
  {
   "cell_type": "code",
   "execution_count": 102,
   "metadata": {},
   "outputs": [
    {
     "data": {
      "text/plain": [
       "array([[0., 1.],\n",
       "       [0., 1.],\n",
       "       [0., 1.]])"
      ]
     },
     "execution_count": 102,
     "metadata": {},
     "output_type": "execute_result"
    }
   ],
   "source": [
    "w0"
   ]
  },
  {
   "cell_type": "code",
   "execution_count": 103,
   "metadata": {},
   "outputs": [
    {
     "data": {
      "text/plain": [
       "[<tf.Tensor 'gradients/AddN:0' shape=(3, 2) dtype=float32>]"
      ]
     },
     "execution_count": 103,
     "metadata": {},
     "output_type": "execute_result"
    }
   ],
   "source": [
    "reset_graph()\n",
    "\n",
    "w = tf.Variable(w0, name=\"w\", dtype=tf.float32)\n",
    "x = tf.Variable(1.0, name=\"x\", dtype=tf.float32, trainable=False)\n",
    "\n",
    "# f2,f1,f0 = my_func(w, x)\n",
    "f2,f1,f0 = my_func2(w, x)\n",
    "grads = tf.gradients(f2, w)  # zml\n",
    "\n",
    "grads"
   ]
  },
  {
   "cell_type": "code",
   "execution_count": 104,
   "metadata": {},
   "outputs": [
    {
     "name": "stdout",
     "output_type": "stream",
     "text": [
      "Computed derivatives in 0.037057 sec\n",
      "Function values =  [3814273.0, 15.154261, 2.7182817]\n",
      "Gradients =  [array([[1.5712344e+08, 1.5712344e+08],\n",
      "       [5.7802488e+07, 1.5712344e+08],\n",
      "       [3.8142730e+06, 5.7802488e+07]], dtype=float32)]\n"
     ]
    }
   ],
   "source": [
    "init = tf.global_variables_initializer()\n",
    "t0 = time.time()\n",
    "with tf.Session() as sess:\n",
    "    sess.run(init)\n",
    "    gradients, function_vals = sess.run([grads, [f2, f1, f0]])\n",
    "    \n",
    "print(\"Computed derivatives in %f sec\" % (time.time() - t0))\n",
    "print(\"Function values = \", function_vals)\n",
    "print(\"Gradients = \", gradients)"
   ]
  },
  {
   "cell_type": "code",
   "execution_count": 105,
   "metadata": {},
   "outputs": [
    {
     "data": {
      "text/plain": [
       "(<tf.Tensor 'f_2_level_1/Exp:0' shape=() dtype=float32>,\n",
       " <tf.Tensor 'f_1_level_1/Exp:0' shape=() dtype=float32>,\n",
       " <tf.Tensor 'f_0_level_1/Exp:0' shape=() dtype=float32>)"
      ]
     },
     "execution_count": 105,
     "metadata": {},
     "output_type": "execute_result"
    }
   ],
   "source": [
    "my_func2(w0, x)"
   ]
  },
  {
   "cell_type": "markdown",
   "metadata": {},
   "source": [
    "### Visualize graph"
   ]
  },
  {
   "cell_type": "code",
   "execution_count": 106,
   "metadata": {},
   "outputs": [],
   "source": [
    "from IPython.display import clear_output, Image, display, HTML"
   ]
  },
  {
   "cell_type": "code",
   "execution_count": 107,
   "metadata": {},
   "outputs": [],
   "source": [
    "def strip_consts(graph_def, max_const_size=32):\n",
    "    strip_def = tf.GraphDef()\n",
    "    for n0 in graph_def.node:\n",
    "        n = strip_def.node.add()\n",
    "        n.MergeFrom(n0)\n",
    "        if n.op == \"Const\":\n",
    "            tensor = n.attr[\"value\"].tensor\n",
    "            size = len(tensor.tensor_content)\n",
    "            if size > max_const_size:\n",
    "                tensor.tensor_content = b\"<stripped %d bytes>\" % size\n",
    "    return strip_def"
   ]
  },
  {
   "cell_type": "code",
   "execution_count": 112,
   "metadata": {},
   "outputs": [],
   "source": [
    "def show_graph(graph_def, max_const_size=32):\n",
    "    \"\"\" need connect website https://tensorboard.appspot.com/tf-graph-basic.build.html\n",
    "    \"\"\"\n",
    "    if hasattr(graph_def, \"as_graph_def\"):\n",
    "        graph_def = graph_def.as_graph_def()\n",
    "    strip_def = strip_consts(graph_def, max_const_size=max_const_size)\n",
    "    code = \"\"\"\n",
    "    <script>\n",
    "        function load() {{\n",
    "            document.getElementById(\"{id}\").pbtxt = {data};\n",
    "        }}\n",
    "    </script>\n",
    "    <link rel=\"import\" href=\"https://tensorboard.appspot.com/tf-graph-basic.build.html\" onload=load()>\n",
    "    <div style=\"height:600px\">\n",
    "        <tf-graph-basic id=\"{id}\"></tf-graph-basic>\n",
    "    </div>\n",
    "    \"\"\".format(data=repr(str(strip_def)), id=\"graph\"+str(np.random.rand()))\n",
    "    iframe = \"\"\"\n",
    "    <iframe seamless style=\"width:1200px;height:620px;border:0\" srcdoc=\"{}\"></iframe>\n",
    "    \"\"\".format(code.replace('\"', \"&quot\"))\n",
    "    display(HTML(iframe))"
   ]
  },
  {
   "cell_type": "code",
   "execution_count": 113,
   "metadata": {},
   "outputs": [
    {
     "data": {
      "text/html": [
       "\n",
       "    <iframe seamless style=\"width:1200px;height:620px;border:0\" srcdoc=\"\n",
       "    <script>\n",
       "        function load() {\n",
       "            document.getElementById(&quotgraph0.7319939418114051&quot).pbtxt = 'node {\\n  name: &quotw/initial_value&quot\\n  op: &quotConst&quot\\n  attr {\\n    key: &quotdtype&quot\\n    value {\\n      type: DT_FLOAT\\n    }\\n  }\\n  attr {\\n    key: &quotvalue&quot\\n    value {\\n      tensor {\\n        dtype: DT_FLOAT\\n        tensor_shape {\\n          dim {\\n            size: 3\\n          }\\n          dim {\\n            size: 2\\n          }\\n        }\\n        tensor_content: &quot\\\\000\\\\000\\\\000\\\\000\\\\000\\\\000\\\\200?\\\\000\\\\000\\\\000\\\\000\\\\000\\\\000\\\\200?\\\\000\\\\000\\\\000\\\\000\\\\000\\\\000\\\\200?&quot\\n      }\\n    }\\n  }\\n}\\nnode {\\n  name: &quotw&quot\\n  op: &quotVariableV2&quot\\n  attr {\\n    key: &quotcontainer&quot\\n    value {\\n      s: &quot&quot\\n    }\\n  }\\n  attr {\\n    key: &quotdtype&quot\\n    value {\\n      type: DT_FLOAT\\n    }\\n  }\\n  attr {\\n    key: &quotshape&quot\\n    value {\\n      shape {\\n        dim {\\n          size: 3\\n        }\\n        dim {\\n          size: 2\\n        }\\n      }\\n    }\\n  }\\n  attr {\\n    key: &quotshared_name&quot\\n    value {\\n      s: &quot&quot\\n    }\\n  }\\n}\\nnode {\\n  name: &quotw/Assign&quot\\n  op: &quotAssign&quot\\n  input: &quotw&quot\\n  input: &quotw/initial_value&quot\\n  attr {\\n    key: &quotT&quot\\n    value {\\n      type: DT_FLOAT\\n    }\\n  }\\n  attr {\\n    key: &quot_class&quot\\n    value {\\n      list {\\n        s: &quotloc:@w&quot\\n      }\\n    }\\n  }\\n  attr {\\n    key: &quotuse_locking&quot\\n    value {\\n      b: true\\n    }\\n  }\\n  attr {\\n    key: &quotvalidate_shape&quot\\n    value {\\n      b: true\\n    }\\n  }\\n}\\nnode {\\n  name: &quotw/read&quot\\n  op: &quotIdentity&quot\\n  input: &quotw&quot\\n  attr {\\n    key: &quotT&quot\\n    value {\\n      type: DT_FLOAT\\n    }\\n  }\\n  attr {\\n    key: &quot_class&quot\\n    value {\\n      list {\\n        s: &quotloc:@w&quot\\n      }\\n    }\\n  }\\n}\\nnode {\\n  name: &quotx/initial_value&quot\\n  op: &quotConst&quot\\n  attr {\\n    key: &quotdtype&quot\\n    value {\\n      type: DT_FLOAT\\n    }\\n  }\\n  attr {\\n    key: &quotvalue&quot\\n    value {\\n      tensor {\\n        dtype: DT_FLOAT\\n        tensor_shape {\\n        }\\n        float_val: 1.0\\n      }\\n    }\\n  }\\n}\\nnode {\\n  name: &quotx&quot\\n  op: &quotVariableV2&quot\\n  attr {\\n    key: &quotcontainer&quot\\n    value {\\n      s: &quot&quot\\n    }\\n  }\\n  attr {\\n    key: &quotdtype&quot\\n    value {\\n      type: DT_FLOAT\\n    }\\n  }\\n  attr {\\n    key: &quotshape&quot\\n    value {\\n      shape {\\n      }\\n    }\\n  }\\n  attr {\\n    key: &quotshared_name&quot\\n    value {\\n      s: &quot&quot\\n    }\\n  }\\n}\\nnode {\\n  name: &quotx/Assign&quot\\n  op: &quotAssign&quot\\n  input: &quotx&quot\\n  input: &quotx/initial_value&quot\\n  attr {\\n    key: &quotT&quot\\n    value {\\n      type: DT_FLOAT\\n    }\\n  }\\n  attr {\\n    key: &quot_class&quot\\n    value {\\n      list {\\n        s: &quotloc:@x&quot\\n      }\\n    }\\n  }\\n  attr {\\n    key: &quotuse_locking&quot\\n    value {\\n      b: true\\n    }\\n  }\\n  attr {\\n    key: &quotvalidate_shape&quot\\n    value {\\n      b: true\\n    }\\n  }\\n}\\nnode {\\n  name: &quotx/read&quot\\n  op: &quotIdentity&quot\\n  input: &quotx&quot\\n  attr {\\n    key: &quotT&quot\\n    value {\\n      type: DT_FLOAT\\n    }\\n  }\\n  attr {\\n    key: &quot_class&quot\\n    value {\\n      list {\\n        s: &quotloc:@x&quot\\n      }\\n    }\\n  }\\n}\\nnode {\\n  name: &quotf_0_level/strided_slice/stack&quot\\n  op: &quotConst&quot\\n  attr {\\n    key: &quotdtype&quot\\n    value {\\n      type: DT_INT32\\n    }\\n  }\\n  attr {\\n    key: &quotvalue&quot\\n    value {\\n      tensor {\\n        dtype: DT_INT32\\n        tensor_shape {\\n          dim {\\n            size: 2\\n          }\\n        }\\n        tensor_content: &quot\\\\000\\\\000\\\\000\\\\000\\\\000\\\\000\\\\000\\\\000&quot\\n      }\\n    }\\n  }\\n}\\nnode {\\n  name: &quotf_0_level/strided_slice/stack_1&quot\\n  op: &quotConst&quot\\n  attr {\\n    key: &quotdtype&quot\\n    value {\\n      type: DT_INT32\\n    }\\n  }\\n  attr {\\n    key: &quotvalue&quot\\n    value {\\n      tensor {\\n        dtype: DT_INT32\\n        tensor_shape {\\n          dim {\\n            size: 2\\n          }\\n        }\\n        tensor_content: &quot\\\\001\\\\000\\\\000\\\\000\\\\001\\\\000\\\\000\\\\000&quot\\n      }\\n    }\\n  }\\n}\\nnode {\\n  name: &quotf_0_level/strided_slice/stack_2&quot\\n  op: &quotConst&quot\\n  attr {\\n    key: &quotdtype&quot\\n    value {\\n      type: DT_INT32\\n    }\\n  }\\n  attr {\\n    key: &quotvalue&quot\\n    value {\\n      tensor {\\n        dtype: DT_INT32\\n        tensor_shape {\\n          dim {\\n            size: 2\\n          }\\n        }\\n        tensor_content: &quot\\\\001\\\\000\\\\000\\\\000\\\\001\\\\000\\\\000\\\\000&quot\\n      }\\n    }\\n  }\\n}\\nnode {\\n  name: &quotf_0_level/strided_slice&quot\\n  op: &quotStridedSlice&quot\\n  input: &quotw/read&quot\\n  input: &quotf_0_level/strided_slice/stack&quot\\n  input: &quotf_0_level/strided_slice/stack_1&quot\\n  input: &quotf_0_level/strided_slice/stack_2&quot\\n  attr {\\n    key: &quotIndex&quot\\n    value {\\n      type: DT_INT32\\n    }\\n  }\\n  attr {\\n    key: &quotT&quot\\n    value {\\n      type: DT_FLOAT\\n    }\\n  }\\n  attr {\\n    key: &quotbegin_mask&quot\\n    value {\\n      i: 0\\n    }\\n  }\\n  attr {\\n    key: &quotellipsis_mask&quot\\n    value {\\n      i: 0\\n    }\\n  }\\n  attr {\\n    key: &quotend_mask&quot\\n    value {\\n      i: 0\\n    }\\n  }\\n  attr {\\n    key: &quotnew_axis_mask&quot\\n    value {\\n      i: 0\\n    }\\n  }\\n  attr {\\n    key: &quotshrink_axis_mask&quot\\n    value {\\n      i: 3\\n    }\\n  }\\n}\\nnode {\\n  name: &quotf_0_level/strided_slice_1/stack&quot\\n  op: &quotConst&quot\\n  attr {\\n    key: &quotdtype&quot\\n    value {\\n      type: DT_INT32\\n    }\\n  }\\n  attr {\\n    key: &quotvalue&quot\\n    value {\\n      tensor {\\n        dtype: DT_INT32\\n        tensor_shape {\\n          dim {\\n            size: 2\\n          }\\n        }\\n        tensor_content: &quot\\\\000\\\\000\\\\000\\\\000\\\\001\\\\000\\\\000\\\\000&quot\\n      }\\n    }\\n  }\\n}\\nnode {\\n  name: &quotf_0_level/strided_slice_1/stack_1&quot\\n  op: &quotConst&quot\\n  attr {\\n    key: &quotdtype&quot\\n    value {\\n      type: DT_INT32\\n    }\\n  }\\n  attr {\\n    key: &quotvalue&quot\\n    value {\\n      tensor {\\n        dtype: DT_INT32\\n        tensor_shape {\\n          dim {\\n            size: 2\\n          }\\n        }\\n        tensor_content: &quot\\\\001\\\\000\\\\000\\\\000\\\\002\\\\000\\\\000\\\\000&quot\\n      }\\n    }\\n  }\\n}\\nnode {\\n  name: &quotf_0_level/strided_slice_1/stack_2&quot\\n  op: &quotConst&quot\\n  attr {\\n    key: &quotdtype&quot\\n    value {\\n      type: DT_INT32\\n    }\\n  }\\n  attr {\\n    key: &quotvalue&quot\\n    value {\\n      tensor {\\n        dtype: DT_INT32\\n        tensor_shape {\\n          dim {\\n            size: 2\\n          }\\n        }\\n        tensor_content: &quot\\\\001\\\\000\\\\000\\\\000\\\\001\\\\000\\\\000\\\\000&quot\\n      }\\n    }\\n  }\\n}\\nnode {\\n  name: &quotf_0_level/strided_slice_1&quot\\n  op: &quotStridedSlice&quot\\n  input: &quotw/read&quot\\n  input: &quotf_0_level/strided_slice_1/stack&quot\\n  input: &quotf_0_level/strided_slice_1/stack_1&quot\\n  input: &quotf_0_level/strided_slice_1/stack_2&quot\\n  attr {\\n    key: &quotIndex&quot\\n    value {\\n      type: DT_INT32\\n    }\\n  }\\n  attr {\\n    key: &quotT&quot\\n    value {\\n      type: DT_FLOAT\\n    }\\n  }\\n  attr {\\n    key: &quotbegin_mask&quot\\n    value {\\n      i: 0\\n    }\\n  }\\n  attr {\\n    key: &quotellipsis_mask&quot\\n    value {\\n      i: 0\\n    }\\n  }\\n  attr {\\n    key: &quotend_mask&quot\\n    value {\\n      i: 0\\n    }\\n  }\\n  attr {\\n    key: &quotnew_axis_mask&quot\\n    value {\\n      i: 0\\n    }\\n  }\\n  attr {\\n    key: &quotshrink_axis_mask&quot\\n    value {\\n      i: 3\\n    }\\n  }\\n}\\nnode {\\n  name: &quotf_0_level/mul&quot\\n  op: &quotMul&quot\\n  input: &quotf_0_level/strided_slice_1&quot\\n  input: &quotx/read&quot\\n  attr {\\n    key: &quotT&quot\\n    value {\\n      type: DT_FLOAT\\n    }\\n  }\\n}\\nnode {\\n  name: &quotf_0_level/add&quot\\n  op: &quotAdd&quot\\n  input: &quotf_0_level/strided_slice&quot\\n  input: &quotf_0_level/mul&quot\\n  attr {\\n    key: &quotT&quot\\n    value {\\n      type: DT_FLOAT\\n    }\\n  }\\n}\\nnode {\\n  name: &quotf_0_level/Exp&quot\\n  op: &quotExp&quot\\n  input: &quotf_0_level/add&quot\\n  attr {\\n    key: &quotT&quot\\n    value {\\n      type: DT_FLOAT\\n    }\\n  }\\n}\\nnode {\\n  name: &quotf_1_level/strided_slice/stack&quot\\n  op: &quotConst&quot\\n  attr {\\n    key: &quotdtype&quot\\n    value {\\n      type: DT_INT32\\n    }\\n  }\\n  attr {\\n    key: &quotvalue&quot\\n    value {\\n      tensor {\\n        dtype: DT_INT32\\n        tensor_shape {\\n          dim {\\n            size: 2\\n          }\\n        }\\n        tensor_content: &quot\\\\001\\\\000\\\\000\\\\000\\\\000\\\\000\\\\000\\\\000&quot\\n      }\\n    }\\n  }\\n}\\nnode {\\n  name: &quotf_1_level/strided_slice/stack_1&quot\\n  op: &quotConst&quot\\n  attr {\\n    key: &quotdtype&quot\\n    value {\\n      type: DT_INT32\\n    }\\n  }\\n  attr {\\n    key: &quotvalue&quot\\n    value {\\n      tensor {\\n        dtype: DT_INT32\\n        tensor_shape {\\n          dim {\\n            size: 2\\n          }\\n        }\\n        tensor_content: &quot\\\\002\\\\000\\\\000\\\\000\\\\001\\\\000\\\\000\\\\000&quot\\n      }\\n    }\\n  }\\n}\\nnode {\\n  name: &quotf_1_level/strided_slice/stack_2&quot\\n  op: &quotConst&quot\\n  attr {\\n    key: &quotdtype&quot\\n    value {\\n      type: DT_INT32\\n    }\\n  }\\n  attr {\\n    key: &quotvalue&quot\\n    value {\\n      tensor {\\n        dtype: DT_INT32\\n        tensor_shape {\\n          dim {\\n            size: 2\\n          }\\n        }\\n        tensor_content: &quot\\\\001\\\\000\\\\000\\\\000\\\\001\\\\000\\\\000\\\\000&quot\\n      }\\n    }\\n  }\\n}\\nnode {\\n  name: &quotf_1_level/strided_slice&quot\\n  op: &quotStridedSlice&quot\\n  input: &quotw/read&quot\\n  input: &quotf_1_level/strided_slice/stack&quot\\n  input: &quotf_1_level/strided_slice/stack_1&quot\\n  input: &quotf_1_level/strided_slice/stack_2&quot\\n  attr {\\n    key: &quotIndex&quot\\n    value {\\n      type: DT_INT32\\n    }\\n  }\\n  attr {\\n    key: &quotT&quot\\n    value {\\n      type: DT_FLOAT\\n    }\\n  }\\n  attr {\\n    key: &quotbegin_mask&quot\\n    value {\\n      i: 0\\n    }\\n  }\\n  attr {\\n    key: &quotellipsis_mask&quot\\n    value {\\n      i: 0\\n    }\\n  }\\n  attr {\\n    key: &quotend_mask&quot\\n    value {\\n      i: 0\\n    }\\n  }\\n  attr {\\n    key: &quotnew_axis_mask&quot\\n    value {\\n      i: 0\\n    }\\n  }\\n  attr {\\n    key: &quotshrink_axis_mask&quot\\n    value {\\n      i: 3\\n    }\\n  }\\n}\\nnode {\\n  name: &quotf_1_level/strided_slice_1/stack&quot\\n  op: &quotConst&quot\\n  attr {\\n    key: &quotdtype&quot\\n    value {\\n      type: DT_INT32\\n    }\\n  }\\n  attr {\\n    key: &quotvalue&quot\\n    value {\\n      tensor {\\n        dtype: DT_INT32\\n        tensor_shape {\\n          dim {\\n            size: 2\\n          }\\n        }\\n        tensor_content: &quot\\\\001\\\\000\\\\000\\\\000\\\\001\\\\000\\\\000\\\\000&quot\\n      }\\n    }\\n  }\\n}\\nnode {\\n  name: &quotf_1_level/strided_slice_1/stack_1&quot\\n  op: &quotConst&quot\\n  attr {\\n    key: &quotdtype&quot\\n    value {\\n      type: DT_INT32\\n    }\\n  }\\n  attr {\\n    key: &quotvalue&quot\\n    value {\\n      tensor {\\n        dtype: DT_INT32\\n        tensor_shape {\\n          dim {\\n            size: 2\\n          }\\n        }\\n        tensor_content: &quot\\\\002\\\\000\\\\000\\\\000\\\\002\\\\000\\\\000\\\\000&quot\\n      }\\n    }\\n  }\\n}\\nnode {\\n  name: &quotf_1_level/strided_slice_1/stack_2&quot\\n  op: &quotConst&quot\\n  attr {\\n    key: &quotdtype&quot\\n    value {\\n      type: DT_INT32\\n    }\\n  }\\n  attr {\\n    key: &quotvalue&quot\\n    value {\\n      tensor {\\n        dtype: DT_INT32\\n        tensor_shape {\\n          dim {\\n            size: 2\\n          }\\n        }\\n        tensor_content: &quot\\\\001\\\\000\\\\000\\\\000\\\\001\\\\000\\\\000\\\\000&quot\\n      }\\n    }\\n  }\\n}\\nnode {\\n  name: &quotf_1_level/strided_slice_1&quot\\n  op: &quotStridedSlice&quot\\n  input: &quotw/read&quot\\n  input: &quotf_1_level/strided_slice_1/stack&quot\\n  input: &quotf_1_level/strided_slice_1/stack_1&quot\\n  input: &quotf_1_level/strided_slice_1/stack_2&quot\\n  attr {\\n    key: &quotIndex&quot\\n    value {\\n      type: DT_INT32\\n    }\\n  }\\n  attr {\\n    key: &quotT&quot\\n    value {\\n      type: DT_FLOAT\\n    }\\n  }\\n  attr {\\n    key: &quotbegin_mask&quot\\n    value {\\n      i: 0\\n    }\\n  }\\n  attr {\\n    key: &quotellipsis_mask&quot\\n    value {\\n      i: 0\\n    }\\n  }\\n  attr {\\n    key: &quotend_mask&quot\\n    value {\\n      i: 0\\n    }\\n  }\\n  attr {\\n    key: &quotnew_axis_mask&quot\\n    value {\\n      i: 0\\n    }\\n  }\\n  attr {\\n    key: &quotshrink_axis_mask&quot\\n    value {\\n      i: 3\\n    }\\n  }\\n}\\nnode {\\n  name: &quotf_1_level/mul&quot\\n  op: &quotMul&quot\\n  input: &quotf_1_level/strided_slice_1&quot\\n  input: &quotf_0_level/Exp&quot\\n  attr {\\n    key: &quotT&quot\\n    value {\\n      type: DT_FLOAT\\n    }\\n  }\\n}\\nnode {\\n  name: &quotf_1_level/add&quot\\n  op: &quotAdd&quot\\n  input: &quotf_1_level/strided_slice&quot\\n  input: &quotf_1_level/mul&quot\\n  attr {\\n    key: &quotT&quot\\n    value {\\n      type: DT_FLOAT\\n    }\\n  }\\n}\\nnode {\\n  name: &quotf_1_level/Exp&quot\\n  op: &quotExp&quot\\n  input: &quotf_1_level/add&quot\\n  attr {\\n    key: &quotT&quot\\n    value {\\n      type: DT_FLOAT\\n    }\\n  }\\n}\\nnode {\\n  name: &quotf_2_level/strided_slice/stack&quot\\n  op: &quotConst&quot\\n  attr {\\n    key: &quotdtype&quot\\n    value {\\n      type: DT_INT32\\n    }\\n  }\\n  attr {\\n    key: &quotvalue&quot\\n    value {\\n      tensor {\\n        dtype: DT_INT32\\n        tensor_shape {\\n          dim {\\n            size: 2\\n          }\\n        }\\n        tensor_content: &quot\\\\002\\\\000\\\\000\\\\000\\\\000\\\\000\\\\000\\\\000&quot\\n      }\\n    }\\n  }\\n}\\nnode {\\n  name: &quotf_2_level/strided_slice/stack_1&quot\\n  op: &quotConst&quot\\n  attr {\\n    key: &quotdtype&quot\\n    value {\\n      type: DT_INT32\\n    }\\n  }\\n  attr {\\n    key: &quotvalue&quot\\n    value {\\n      tensor {\\n        dtype: DT_INT32\\n        tensor_shape {\\n          dim {\\n            size: 2\\n          }\\n        }\\n        tensor_content: &quot\\\\003\\\\000\\\\000\\\\000\\\\001\\\\000\\\\000\\\\000&quot\\n      }\\n    }\\n  }\\n}\\nnode {\\n  name: &quotf_2_level/strided_slice/stack_2&quot\\n  op: &quotConst&quot\\n  attr {\\n    key: &quotdtype&quot\\n    value {\\n      type: DT_INT32\\n    }\\n  }\\n  attr {\\n    key: &quotvalue&quot\\n    value {\\n      tensor {\\n        dtype: DT_INT32\\n        tensor_shape {\\n          dim {\\n            size: 2\\n          }\\n        }\\n        tensor_content: &quot\\\\001\\\\000\\\\000\\\\000\\\\001\\\\000\\\\000\\\\000&quot\\n      }\\n    }\\n  }\\n}\\nnode {\\n  name: &quotf_2_level/strided_slice&quot\\n  op: &quotStridedSlice&quot\\n  input: &quotw/read&quot\\n  input: &quotf_2_level/strided_slice/stack&quot\\n  input: &quotf_2_level/strided_slice/stack_1&quot\\n  input: &quotf_2_level/strided_slice/stack_2&quot\\n  attr {\\n    key: &quotIndex&quot\\n    value {\\n      type: DT_INT32\\n    }\\n  }\\n  attr {\\n    key: &quotT&quot\\n    value {\\n      type: DT_FLOAT\\n    }\\n  }\\n  attr {\\n    key: &quotbegin_mask&quot\\n    value {\\n      i: 0\\n    }\\n  }\\n  attr {\\n    key: &quotellipsis_mask&quot\\n    value {\\n      i: 0\\n    }\\n  }\\n  attr {\\n    key: &quotend_mask&quot\\n    value {\\n      i: 0\\n    }\\n  }\\n  attr {\\n    key: &quotnew_axis_mask&quot\\n    value {\\n      i: 0\\n    }\\n  }\\n  attr {\\n    key: &quotshrink_axis_mask&quot\\n    value {\\n      i: 3\\n    }\\n  }\\n}\\nnode {\\n  name: &quotf_2_level/strided_slice_1/stack&quot\\n  op: &quotConst&quot\\n  attr {\\n    key: &quotdtype&quot\\n    value {\\n      type: DT_INT32\\n    }\\n  }\\n  attr {\\n    key: &quotvalue&quot\\n    value {\\n      tensor {\\n        dtype: DT_INT32\\n        tensor_shape {\\n          dim {\\n            size: 2\\n          }\\n        }\\n        tensor_content: &quot\\\\002\\\\000\\\\000\\\\000\\\\001\\\\000\\\\000\\\\000&quot\\n      }\\n    }\\n  }\\n}\\nnode {\\n  name: &quotf_2_level/strided_slice_1/stack_1&quot\\n  op: &quotConst&quot\\n  attr {\\n    key: &quotdtype&quot\\n    value {\\n      type: DT_INT32\\n    }\\n  }\\n  attr {\\n    key: &quotvalue&quot\\n    value {\\n      tensor {\\n        dtype: DT_INT32\\n        tensor_shape {\\n          dim {\\n            size: 2\\n          }\\n        }\\n        tensor_content: &quot\\\\003\\\\000\\\\000\\\\000\\\\002\\\\000\\\\000\\\\000&quot\\n      }\\n    }\\n  }\\n}\\nnode {\\n  name: &quotf_2_level/strided_slice_1/stack_2&quot\\n  op: &quotConst&quot\\n  attr {\\n    key: &quotdtype&quot\\n    value {\\n      type: DT_INT32\\n    }\\n  }\\n  attr {\\n    key: &quotvalue&quot\\n    value {\\n      tensor {\\n        dtype: DT_INT32\\n        tensor_shape {\\n          dim {\\n            size: 2\\n          }\\n        }\\n        tensor_content: &quot\\\\001\\\\000\\\\000\\\\000\\\\001\\\\000\\\\000\\\\000&quot\\n      }\\n    }\\n  }\\n}\\nnode {\\n  name: &quotf_2_level/strided_slice_1&quot\\n  op: &quotStridedSlice&quot\\n  input: &quotw/read&quot\\n  input: &quotf_2_level/strided_slice_1/stack&quot\\n  input: &quotf_2_level/strided_slice_1/stack_1&quot\\n  input: &quotf_2_level/strided_slice_1/stack_2&quot\\n  attr {\\n    key: &quotIndex&quot\\n    value {\\n      type: DT_INT32\\n    }\\n  }\\n  attr {\\n    key: &quotT&quot\\n    value {\\n      type: DT_FLOAT\\n    }\\n  }\\n  attr {\\n    key: &quotbegin_mask&quot\\n    value {\\n      i: 0\\n    }\\n  }\\n  attr {\\n    key: &quotellipsis_mask&quot\\n    value {\\n      i: 0\\n    }\\n  }\\n  attr {\\n    key: &quotend_mask&quot\\n    value {\\n      i: 0\\n    }\\n  }\\n  attr {\\n    key: &quotnew_axis_mask&quot\\n    value {\\n      i: 0\\n    }\\n  }\\n  attr {\\n    key: &quotshrink_axis_mask&quot\\n    value {\\n      i: 3\\n    }\\n  }\\n}\\nnode {\\n  name: &quotf_2_level/mul&quot\\n  op: &quotMul&quot\\n  input: &quotf_2_level/strided_slice_1&quot\\n  input: &quotf_1_level/Exp&quot\\n  attr {\\n    key: &quotT&quot\\n    value {\\n      type: DT_FLOAT\\n    }\\n  }\\n}\\nnode {\\n  name: &quotf_2_level/add&quot\\n  op: &quotAdd&quot\\n  input: &quotf_2_level/strided_slice&quot\\n  input: &quotf_2_level/mul&quot\\n  attr {\\n    key: &quotT&quot\\n    value {\\n      type: DT_FLOAT\\n    }\\n  }\\n}\\nnode {\\n  name: &quotf_2_level/Exp&quot\\n  op: &quotExp&quot\\n  input: &quotf_2_level/add&quot\\n  attr {\\n    key: &quotT&quot\\n    value {\\n      type: DT_FLOAT\\n    }\\n  }\\n}\\nnode {\\n  name: &quotgradients/Shape&quot\\n  op: &quotConst&quot\\n  attr {\\n    key: &quotdtype&quot\\n    value {\\n      type: DT_INT32\\n    }\\n  }\\n  attr {\\n    key: &quotvalue&quot\\n    value {\\n      tensor {\\n        dtype: DT_INT32\\n        tensor_shape {\\n          dim {\\n          }\\n        }\\n      }\\n    }\\n  }\\n}\\nnode {\\n  name: &quotgradients/grad_ys_0&quot\\n  op: &quotConst&quot\\n  attr {\\n    key: &quotdtype&quot\\n    value {\\n      type: DT_FLOAT\\n    }\\n  }\\n  attr {\\n    key: &quotvalue&quot\\n    value {\\n      tensor {\\n        dtype: DT_FLOAT\\n        tensor_shape {\\n        }\\n        float_val: 1.0\\n      }\\n    }\\n  }\\n}\\nnode {\\n  name: &quotgradients/Fill&quot\\n  op: &quotFill&quot\\n  input: &quotgradients/Shape&quot\\n  input: &quotgradients/grad_ys_0&quot\\n  attr {\\n    key: &quotT&quot\\n    value {\\n      type: DT_FLOAT\\n    }\\n  }\\n  attr {\\n    key: &quotindex_type&quot\\n    value {\\n      type: DT_INT32\\n    }\\n  }\\n}\\nnode {\\n  name: &quotgradients/f_2_level/Exp_grad/mul&quot\\n  op: &quotMul&quot\\n  input: &quotgradients/Fill&quot\\n  input: &quotf_2_level/Exp&quot\\n  attr {\\n    key: &quotT&quot\\n    value {\\n      type: DT_FLOAT\\n    }\\n  }\\n}\\nnode {\\n  name: &quotgradients/f_2_level/strided_slice_grad/Shape&quot\\n  op: &quotConst&quot\\n  attr {\\n    key: &quotdtype&quot\\n    value {\\n      type: DT_INT32\\n    }\\n  }\\n  attr {\\n    key: &quotvalue&quot\\n    value {\\n      tensor {\\n        dtype: DT_INT32\\n        tensor_shape {\\n          dim {\\n            size: 2\\n          }\\n        }\\n        tensor_content: &quot\\\\003\\\\000\\\\000\\\\000\\\\002\\\\000\\\\000\\\\000&quot\\n      }\\n    }\\n  }\\n}\\nnode {\\n  name: &quotgradients/f_2_level/strided_slice_grad/StridedSliceGrad&quot\\n  op: &quotStridedSliceGrad&quot\\n  input: &quotgradients/f_2_level/strided_slice_grad/Shape&quot\\n  input: &quotf_2_level/strided_slice/stack&quot\\n  input: &quotf_2_level/strided_slice/stack_1&quot\\n  input: &quotf_2_level/strided_slice/stack_2&quot\\n  input: &quotgradients/f_2_level/Exp_grad/mul&quot\\n  attr {\\n    key: &quotIndex&quot\\n    value {\\n      type: DT_INT32\\n    }\\n  }\\n  attr {\\n    key: &quotT&quot\\n    value {\\n      type: DT_FLOAT\\n    }\\n  }\\n  attr {\\n    key: &quotbegin_mask&quot\\n    value {\\n      i: 0\\n    }\\n  }\\n  attr {\\n    key: &quotellipsis_mask&quot\\n    value {\\n      i: 0\\n    }\\n  }\\n  attr {\\n    key: &quotend_mask&quot\\n    value {\\n      i: 0\\n    }\\n  }\\n  attr {\\n    key: &quotnew_axis_mask&quot\\n    value {\\n      i: 0\\n    }\\n  }\\n  attr {\\n    key: &quotshrink_axis_mask&quot\\n    value {\\n      i: 3\\n    }\\n  }\\n}\\nnode {\\n  name: &quotgradients/f_2_level/mul_grad/Mul&quot\\n  op: &quotMul&quot\\n  input: &quotgradients/f_2_level/Exp_grad/mul&quot\\n  input: &quotf_1_level/Exp&quot\\n  attr {\\n    key: &quotT&quot\\n    value {\\n      type: DT_FLOAT\\n    }\\n  }\\n}\\nnode {\\n  name: &quotgradients/f_2_level/mul_grad/Mul_1&quot\\n  op: &quotMul&quot\\n  input: &quotgradients/f_2_level/Exp_grad/mul&quot\\n  input: &quotf_2_level/strided_slice_1&quot\\n  attr {\\n    key: &quotT&quot\\n    value {\\n      type: DT_FLOAT\\n    }\\n  }\\n}\\nnode {\\n  name: &quotgradients/f_2_level/strided_slice_1_grad/Shape&quot\\n  op: &quotConst&quot\\n  attr {\\n    key: &quotdtype&quot\\n    value {\\n      type: DT_INT32\\n    }\\n  }\\n  attr {\\n    key: &quotvalue&quot\\n    value {\\n      tensor {\\n        dtype: DT_INT32\\n        tensor_shape {\\n          dim {\\n            size: 2\\n          }\\n        }\\n        tensor_content: &quot\\\\003\\\\000\\\\000\\\\000\\\\002\\\\000\\\\000\\\\000&quot\\n      }\\n    }\\n  }\\n}\\nnode {\\n  name: &quotgradients/f_2_level/strided_slice_1_grad/StridedSliceGrad&quot\\n  op: &quotStridedSliceGrad&quot\\n  input: &quotgradients/f_2_level/strided_slice_1_grad/Shape&quot\\n  input: &quotf_2_level/strided_slice_1/stack&quot\\n  input: &quotf_2_level/strided_slice_1/stack_1&quot\\n  input: &quotf_2_level/strided_slice_1/stack_2&quot\\n  input: &quotgradients/f_2_level/mul_grad/Mul&quot\\n  attr {\\n    key: &quotIndex&quot\\n    value {\\n      type: DT_INT32\\n    }\\n  }\\n  attr {\\n    key: &quotT&quot\\n    value {\\n      type: DT_FLOAT\\n    }\\n  }\\n  attr {\\n    key: &quotbegin_mask&quot\\n    value {\\n      i: 0\\n    }\\n  }\\n  attr {\\n    key: &quotellipsis_mask&quot\\n    value {\\n      i: 0\\n    }\\n  }\\n  attr {\\n    key: &quotend_mask&quot\\n    value {\\n      i: 0\\n    }\\n  }\\n  attr {\\n    key: &quotnew_axis_mask&quot\\n    value {\\n      i: 0\\n    }\\n  }\\n  attr {\\n    key: &quotshrink_axis_mask&quot\\n    value {\\n      i: 3\\n    }\\n  }\\n}\\nnode {\\n  name: &quotgradients/f_1_level/Exp_grad/mul&quot\\n  op: &quotMul&quot\\n  input: &quotgradients/f_2_level/mul_grad/Mul_1&quot\\n  input: &quotf_1_level/Exp&quot\\n  attr {\\n    key: &quotT&quot\\n    value {\\n      type: DT_FLOAT\\n    }\\n  }\\n}\\nnode {\\n  name: &quotgradients/f_1_level/strided_slice_grad/Shape&quot\\n  op: &quotConst&quot\\n  attr {\\n    key: &quotdtype&quot\\n    value {\\n      type: DT_INT32\\n    }\\n  }\\n  attr {\\n    key: &quotvalue&quot\\n    value {\\n      tensor {\\n        dtype: DT_INT32\\n        tensor_shape {\\n          dim {\\n            size: 2\\n          }\\n        }\\n        tensor_content: &quot\\\\003\\\\000\\\\000\\\\000\\\\002\\\\000\\\\000\\\\000&quot\\n      }\\n    }\\n  }\\n}\\nnode {\\n  name: &quotgradients/f_1_level/strided_slice_grad/StridedSliceGrad&quot\\n  op: &quotStridedSliceGrad&quot\\n  input: &quotgradients/f_1_level/strided_slice_grad/Shape&quot\\n  input: &quotf_1_level/strided_slice/stack&quot\\n  input: &quotf_1_level/strided_slice/stack_1&quot\\n  input: &quotf_1_level/strided_slice/stack_2&quot\\n  input: &quotgradients/f_1_level/Exp_grad/mul&quot\\n  attr {\\n    key: &quotIndex&quot\\n    value {\\n      type: DT_INT32\\n    }\\n  }\\n  attr {\\n    key: &quotT&quot\\n    value {\\n      type: DT_FLOAT\\n    }\\n  }\\n  attr {\\n    key: &quotbegin_mask&quot\\n    value {\\n      i: 0\\n    }\\n  }\\n  attr {\\n    key: &quotellipsis_mask&quot\\n    value {\\n      i: 0\\n    }\\n  }\\n  attr {\\n    key: &quotend_mask&quot\\n    value {\\n      i: 0\\n    }\\n  }\\n  attr {\\n    key: &quotnew_axis_mask&quot\\n    value {\\n      i: 0\\n    }\\n  }\\n  attr {\\n    key: &quotshrink_axis_mask&quot\\n    value {\\n      i: 3\\n    }\\n  }\\n}\\nnode {\\n  name: &quotgradients/f_1_level/mul_grad/Mul&quot\\n  op: &quotMul&quot\\n  input: &quotgradients/f_1_level/Exp_grad/mul&quot\\n  input: &quotf_0_level/Exp&quot\\n  attr {\\n    key: &quotT&quot\\n    value {\\n      type: DT_FLOAT\\n    }\\n  }\\n}\\nnode {\\n  name: &quotgradients/f_1_level/mul_grad/Mul_1&quot\\n  op: &quotMul&quot\\n  input: &quotgradients/f_1_level/Exp_grad/mul&quot\\n  input: &quotf_1_level/strided_slice_1&quot\\n  attr {\\n    key: &quotT&quot\\n    value {\\n      type: DT_FLOAT\\n    }\\n  }\\n}\\nnode {\\n  name: &quotgradients/f_1_level/strided_slice_1_grad/Shape&quot\\n  op: &quotConst&quot\\n  attr {\\n    key: &quotdtype&quot\\n    value {\\n      type: DT_INT32\\n    }\\n  }\\n  attr {\\n    key: &quotvalue&quot\\n    value {\\n      tensor {\\n        dtype: DT_INT32\\n        tensor_shape {\\n          dim {\\n            size: 2\\n          }\\n        }\\n        tensor_content: &quot\\\\003\\\\000\\\\000\\\\000\\\\002\\\\000\\\\000\\\\000&quot\\n      }\\n    }\\n  }\\n}\\nnode {\\n  name: &quotgradients/f_1_level/strided_slice_1_grad/StridedSliceGrad&quot\\n  op: &quotStridedSliceGrad&quot\\n  input: &quotgradients/f_1_level/strided_slice_1_grad/Shape&quot\\n  input: &quotf_1_level/strided_slice_1/stack&quot\\n  input: &quotf_1_level/strided_slice_1/stack_1&quot\\n  input: &quotf_1_level/strided_slice_1/stack_2&quot\\n  input: &quotgradients/f_1_level/mul_grad/Mul&quot\\n  attr {\\n    key: &quotIndex&quot\\n    value {\\n      type: DT_INT32\\n    }\\n  }\\n  attr {\\n    key: &quotT&quot\\n    value {\\n      type: DT_FLOAT\\n    }\\n  }\\n  attr {\\n    key: &quotbegin_mask&quot\\n    value {\\n      i: 0\\n    }\\n  }\\n  attr {\\n    key: &quotellipsis_mask&quot\\n    value {\\n      i: 0\\n    }\\n  }\\n  attr {\\n    key: &quotend_mask&quot\\n    value {\\n      i: 0\\n    }\\n  }\\n  attr {\\n    key: &quotnew_axis_mask&quot\\n    value {\\n      i: 0\\n    }\\n  }\\n  attr {\\n    key: &quotshrink_axis_mask&quot\\n    value {\\n      i: 3\\n    }\\n  }\\n}\\nnode {\\n  name: &quotgradients/f_0_level/Exp_grad/mul&quot\\n  op: &quotMul&quot\\n  input: &quotgradients/f_1_level/mul_grad/Mul_1&quot\\n  input: &quotf_0_level/Exp&quot\\n  attr {\\n    key: &quotT&quot\\n    value {\\n      type: DT_FLOAT\\n    }\\n  }\\n}\\nnode {\\n  name: &quotgradients/f_0_level/strided_slice_grad/Shape&quot\\n  op: &quotConst&quot\\n  attr {\\n    key: &quotdtype&quot\\n    value {\\n      type: DT_INT32\\n    }\\n  }\\n  attr {\\n    key: &quotvalue&quot\\n    value {\\n      tensor {\\n        dtype: DT_INT32\\n        tensor_shape {\\n          dim {\\n            size: 2\\n          }\\n        }\\n        tensor_content: &quot\\\\003\\\\000\\\\000\\\\000\\\\002\\\\000\\\\000\\\\000&quot\\n      }\\n    }\\n  }\\n}\\nnode {\\n  name: &quotgradients/f_0_level/strided_slice_grad/StridedSliceGrad&quot\\n  op: &quotStridedSliceGrad&quot\\n  input: &quotgradients/f_0_level/strided_slice_grad/Shape&quot\\n  input: &quotf_0_level/strided_slice/stack&quot\\n  input: &quotf_0_level/strided_slice/stack_1&quot\\n  input: &quotf_0_level/strided_slice/stack_2&quot\\n  input: &quotgradients/f_0_level/Exp_grad/mul&quot\\n  attr {\\n    key: &quotIndex&quot\\n    value {\\n      type: DT_INT32\\n    }\\n  }\\n  attr {\\n    key: &quotT&quot\\n    value {\\n      type: DT_FLOAT\\n    }\\n  }\\n  attr {\\n    key: &quotbegin_mask&quot\\n    value {\\n      i: 0\\n    }\\n  }\\n  attr {\\n    key: &quotellipsis_mask&quot\\n    value {\\n      i: 0\\n    }\\n  }\\n  attr {\\n    key: &quotend_mask&quot\\n    value {\\n      i: 0\\n    }\\n  }\\n  attr {\\n    key: &quotnew_axis_mask&quot\\n    value {\\n      i: 0\\n    }\\n  }\\n  attr {\\n    key: &quotshrink_axis_mask&quot\\n    value {\\n      i: 3\\n    }\\n  }\\n}\\nnode {\\n  name: &quotgradients/f_0_level/mul_grad/Mul&quot\\n  op: &quotMul&quot\\n  input: &quotgradients/f_0_level/Exp_grad/mul&quot\\n  input: &quotx/read&quot\\n  attr {\\n    key: &quotT&quot\\n    value {\\n      type: DT_FLOAT\\n    }\\n  }\\n}\\nnode {\\n  name: &quotgradients/f_0_level/mul_grad/Mul_1&quot\\n  op: &quotMul&quot\\n  input: &quotgradients/f_0_level/Exp_grad/mul&quot\\n  input: &quotf_0_level/strided_slice_1&quot\\n  attr {\\n    key: &quotT&quot\\n    value {\\n      type: DT_FLOAT\\n    }\\n  }\\n}\\nnode {\\n  name: &quotgradients/f_0_level/strided_slice_1_grad/Shape&quot\\n  op: &quotConst&quot\\n  attr {\\n    key: &quotdtype&quot\\n    value {\\n      type: DT_INT32\\n    }\\n  }\\n  attr {\\n    key: &quotvalue&quot\\n    value {\\n      tensor {\\n        dtype: DT_INT32\\n        tensor_shape {\\n          dim {\\n            size: 2\\n          }\\n        }\\n        tensor_content: &quot\\\\003\\\\000\\\\000\\\\000\\\\002\\\\000\\\\000\\\\000&quot\\n      }\\n    }\\n  }\\n}\\nnode {\\n  name: &quotgradients/f_0_level/strided_slice_1_grad/StridedSliceGrad&quot\\n  op: &quotStridedSliceGrad&quot\\n  input: &quotgradients/f_0_level/strided_slice_1_grad/Shape&quot\\n  input: &quotf_0_level/strided_slice_1/stack&quot\\n  input: &quotf_0_level/strided_slice_1/stack_1&quot\\n  input: &quotf_0_level/strided_slice_1/stack_2&quot\\n  input: &quotgradients/f_0_level/mul_grad/Mul&quot\\n  attr {\\n    key: &quotIndex&quot\\n    value {\\n      type: DT_INT32\\n    }\\n  }\\n  attr {\\n    key: &quotT&quot\\n    value {\\n      type: DT_FLOAT\\n    }\\n  }\\n  attr {\\n    key: &quotbegin_mask&quot\\n    value {\\n      i: 0\\n    }\\n  }\\n  attr {\\n    key: &quotellipsis_mask&quot\\n    value {\\n      i: 0\\n    }\\n  }\\n  attr {\\n    key: &quotend_mask&quot\\n    value {\\n      i: 0\\n    }\\n  }\\n  attr {\\n    key: &quotnew_axis_mask&quot\\n    value {\\n      i: 0\\n    }\\n  }\\n  attr {\\n    key: &quotshrink_axis_mask&quot\\n    value {\\n      i: 3\\n    }\\n  }\\n}\\nnode {\\n  name: &quotgradients/AddN&quot\\n  op: &quotAddN&quot\\n  input: &quotgradients/f_2_level/strided_slice_grad/StridedSliceGrad&quot\\n  input: &quotgradients/f_2_level/strided_slice_1_grad/StridedSliceGrad&quot\\n  input: &quotgradients/f_1_level/strided_slice_grad/StridedSliceGrad&quot\\n  input: &quotgradients/f_1_level/strided_slice_1_grad/StridedSliceGrad&quot\\n  input: &quotgradients/f_0_level/strided_slice_grad/StridedSliceGrad&quot\\n  input: &quotgradients/f_0_level/strided_slice_1_grad/StridedSliceGrad&quot\\n  attr {\\n    key: &quotN&quot\\n    value {\\n      i: 6\\n    }\\n  }\\n  attr {\\n    key: &quotT&quot\\n    value {\\n      type: DT_FLOAT\\n    }\\n  }\\n  attr {\\n    key: &quot_class&quot\\n    value {\\n      list {\\n        s: &quotloc:@gradients/f_2_level/strided_slice_grad/StridedSliceGrad&quot\\n      }\\n    }\\n  }\\n}\\nnode {\\n  name: &quotinit&quot\\n  op: &quotNoOp&quot\\n  input: &quot^w/Assign&quot\\n  input: &quot^x/Assign&quot\\n}\\nnode {\\n  name: &quotf_0_level_1/mul/x&quot\\n  op: &quotConst&quot\\n  attr {\\n    key: &quotdtype&quot\\n    value {\\n      type: DT_FLOAT\\n    }\\n  }\\n  attr {\\n    key: &quotvalue&quot\\n    value {\\n      tensor {\\n        dtype: DT_FLOAT\\n        tensor_shape {\\n        }\\n        float_val: 1.0\\n      }\\n    }\\n  }\\n}\\nnode {\\n  name: &quotf_0_level_1/mul&quot\\n  op: &quotMul&quot\\n  input: &quotf_0_level_1/mul/x&quot\\n  input: &quotx/read&quot\\n  attr {\\n    key: &quotT&quot\\n    value {\\n      type: DT_FLOAT\\n    }\\n  }\\n}\\nnode {\\n  name: &quotf_0_level_1/add/x&quot\\n  op: &quotConst&quot\\n  attr {\\n    key: &quotdtype&quot\\n    value {\\n      type: DT_FLOAT\\n    }\\n  }\\n  attr {\\n    key: &quotvalue&quot\\n    value {\\n      tensor {\\n        dtype: DT_FLOAT\\n        tensor_shape {\\n        }\\n        float_val: 0.0\\n      }\\n    }\\n  }\\n}\\nnode {\\n  name: &quotf_0_level_1/add&quot\\n  op: &quotAdd&quot\\n  input: &quotf_0_level_1/add/x&quot\\n  input: &quotf_0_level_1/mul&quot\\n  attr {\\n    key: &quotT&quot\\n    value {\\n      type: DT_FLOAT\\n    }\\n  }\\n}\\nnode {\\n  name: &quotf_0_level_1/Exp&quot\\n  op: &quotExp&quot\\n  input: &quotf_0_level_1/add&quot\\n  attr {\\n    key: &quotT&quot\\n    value {\\n      type: DT_FLOAT\\n    }\\n  }\\n}\\nnode {\\n  name: &quotf_1_level_1/mul/x&quot\\n  op: &quotConst&quot\\n  attr {\\n    key: &quotdtype&quot\\n    value {\\n      type: DT_FLOAT\\n    }\\n  }\\n  attr {\\n    key: &quotvalue&quot\\n    value {\\n      tensor {\\n        dtype: DT_FLOAT\\n        tensor_shape {\\n        }\\n        float_val: 1.0\\n      }\\n    }\\n  }\\n}\\nnode {\\n  name: &quotf_1_level_1/mul&quot\\n  op: &quotMul&quot\\n  input: &quotf_1_level_1/mul/x&quot\\n  input: &quotf_0_level_1/Exp&quot\\n  attr {\\n    key: &quotT&quot\\n    value {\\n      type: DT_FLOAT\\n    }\\n  }\\n}\\nnode {\\n  name: &quotf_1_level_1/add/x&quot\\n  op: &quotConst&quot\\n  attr {\\n    key: &quotdtype&quot\\n    value {\\n      type: DT_FLOAT\\n    }\\n  }\\n  attr {\\n    key: &quotvalue&quot\\n    value {\\n      tensor {\\n        dtype: DT_FLOAT\\n        tensor_shape {\\n        }\\n        float_val: 0.0\\n      }\\n    }\\n  }\\n}\\nnode {\\n  name: &quotf_1_level_1/add&quot\\n  op: &quotAdd&quot\\n  input: &quotf_1_level_1/add/x&quot\\n  input: &quotf_1_level_1/mul&quot\\n  attr {\\n    key: &quotT&quot\\n    value {\\n      type: DT_FLOAT\\n    }\\n  }\\n}\\nnode {\\n  name: &quotf_1_level_1/Exp&quot\\n  op: &quotExp&quot\\n  input: &quotf_1_level_1/add&quot\\n  attr {\\n    key: &quotT&quot\\n    value {\\n      type: DT_FLOAT\\n    }\\n  }\\n}\\nnode {\\n  name: &quotf_2_level_1/mul/x&quot\\n  op: &quotConst&quot\\n  attr {\\n    key: &quotdtype&quot\\n    value {\\n      type: DT_FLOAT\\n    }\\n  }\\n  attr {\\n    key: &quotvalue&quot\\n    value {\\n      tensor {\\n        dtype: DT_FLOAT\\n        tensor_shape {\\n        }\\n        float_val: 1.0\\n      }\\n    }\\n  }\\n}\\nnode {\\n  name: &quotf_2_level_1/mul&quot\\n  op: &quotMul&quot\\n  input: &quotf_2_level_1/mul/x&quot\\n  input: &quotf_1_level_1/Exp&quot\\n  attr {\\n    key: &quotT&quot\\n    value {\\n      type: DT_FLOAT\\n    }\\n  }\\n}\\nnode {\\n  name: &quotf_2_level_1/add/x&quot\\n  op: &quotConst&quot\\n  attr {\\n    key: &quotdtype&quot\\n    value {\\n      type: DT_FLOAT\\n    }\\n  }\\n  attr {\\n    key: &quotvalue&quot\\n    value {\\n      tensor {\\n        dtype: DT_FLOAT\\n        tensor_shape {\\n        }\\n        float_val: 0.0\\n      }\\n    }\\n  }\\n}\\nnode {\\n  name: &quotf_2_level_1/add&quot\\n  op: &quotAdd&quot\\n  input: &quotf_2_level_1/add/x&quot\\n  input: &quotf_2_level_1/mul&quot\\n  attr {\\n    key: &quotT&quot\\n    value {\\n      type: DT_FLOAT\\n    }\\n  }\\n}\\nnode {\\n  name: &quotf_2_level_1/Exp&quot\\n  op: &quotExp&quot\\n  input: &quotf_2_level_1/add&quot\\n  attr {\\n    key: &quotT&quot\\n    value {\\n      type: DT_FLOAT\\n    }\\n  }\\n}\\n';\n",
       "        }\n",
       "    </script>\n",
       "    <link rel=&quotimport&quot href=&quothttps://tensorboard.appspot.com/tf-graph-basic.build.html&quot onload=load()>\n",
       "    <div style=&quotheight:600px&quot>\n",
       "        <tf-graph-basic id=&quotgraph0.7319939418114051&quot></tf-graph-basic>\n",
       "    </div>\n",
       "    \"></iframe>\n",
       "    "
      ],
      "text/plain": [
       "<IPython.core.display.HTML object>"
      ]
     },
     "metadata": {},
     "output_type": "display_data"
    }
   ],
   "source": [
    "show_graph(tf.get_default_graph())"
   ]
  },
  {
   "cell_type": "code",
   "execution_count": null,
   "metadata": {},
   "outputs": [],
   "source": []
  }
 ],
 "metadata": {
  "kernelspec": {
   "display_name": "Python 3",
   "language": "python",
   "name": "python3"
  },
  "language_info": {
   "codemirror_mode": {
    "name": "ipython",
    "version": 3
   },
   "file_extension": ".py",
   "mimetype": "text/x-python",
   "name": "python",
   "nbconvert_exporter": "python",
   "pygments_lexer": "ipython3",
   "version": "3.6.5"
  }
 },
 "nbformat": 4,
 "nbformat_minor": 2
}
