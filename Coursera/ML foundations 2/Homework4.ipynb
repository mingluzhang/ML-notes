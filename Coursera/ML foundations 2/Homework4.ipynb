{
 "cells": [
  {
   "cell_type": "code",
   "execution_count": 9,
   "metadata": {},
   "outputs": [],
   "source": [
    "import sympy\n",
    "import math\n",
    "import numpy as np\n",
    "import seaborn as sb\n",
    "import pandas as pd"
   ]
  },
  {
   "cell_type": "code",
   "execution_count": 5,
   "metadata": {},
   "outputs": [
    {
     "name": "stdout",
     "output_type": "stream",
     "text": [
      "[-4.33566130724400, 4.33566130724400, -0.893285492512171*I, 0.893285492512171*I]\n"
     ]
    }
   ],
   "source": [
    "y = sympy.Symbol('y')\n",
    "# f = sympy.Pow(y, 2) - 4\n",
    "f = 1.0 / sympy.Pow((y + 1), 2) + 1.0 / sympy.Pow((y - 1), 2) - 1.0 / 8\n",
    "res = sympy.solve(f)\n",
    "print(res)"
   ]
  },
  {
   "cell_type": "code",
   "execution_count": 7,
   "metadata": {},
   "outputs": [
    {
     "data": {
      "text/plain": [
       "2.3941701709713277"
      ]
     },
     "execution_count": 7,
     "metadata": {},
     "output_type": "execute_result"
    }
   ],
   "source": [
    "math.sqrt(math.sqrt(3) + 4)"
   ]
  },
  {
   "cell_type": "code",
   "execution_count": 8,
   "metadata": {},
   "outputs": [
    {
     "data": {
      "text/plain": [
       "4.335661307243996"
      ]
     },
     "execution_count": 8,
     "metadata": {},
     "output_type": "execute_result"
    }
   ],
   "source": [
    "math.sqrt(9 + 4 * math.sqrt(6))"
   ]
  },
  {
   "cell_type": "code",
   "execution_count": 120,
   "metadata": {},
   "outputs": [],
   "source": [
    "def sign(x):\n",
    "    return ((x > 0).astype(np.int32) - 0.5) * 2"
   ]
  },
  {
   "cell_type": "code",
   "execution_count": 121,
   "metadata": {},
   "outputs": [],
   "source": [
    "train1 = pd.read_csv(\n",
    "    \"hw4_train.dat\", \n",
    "    header=None, \n",
    "    sep=\" \"\n",
    ")\n",
    "test1 = pd.read_csv(\n",
    "    \"hw4_test.dat\", \n",
    "    header=None, \n",
    "    sep=\" \"\n",
    ")\n",
    "# print(train[:10, :])"
   ]
  },
  {
   "cell_type": "code",
   "execution_count": 122,
   "metadata": {},
   "outputs": [],
   "source": [
    "train = train1.values\n",
    "test = test1.values\n",
    "train = np.hstack([np.ones((train.shape[0],1)), train])\n",
    "test = np.hstack([np.ones((test.shape[0],1)), test])"
   ]
  },
  {
   "cell_type": "code",
   "execution_count": 133,
   "metadata": {},
   "outputs": [
    {
     "name": "stdout",
     "output_type": "stream",
     "text": [
      "(80, 3)\n"
     ]
    }
   ],
   "source": [
    "Z = train[:,:-1]\n",
    "y = train[:, -1].reshape(-1, 1)\n",
    "Z_train = train[:120, :-1]\n",
    "y_train = train[:120, -1].reshape(-1, 1)\n",
    "Z_val = train[120:, :-1]\n",
    "y_val = train[120:, -1].reshape(-1, 1)\n",
    "print(Z_val.shape)"
   ]
  },
  {
   "cell_type": "code",
   "execution_count": 124,
   "metadata": {},
   "outputs": [],
   "source": [
    "Zt = test[:,:-1]\n",
    "yt = test[:, -1].reshape(-1, 1)"
   ]
  },
  {
   "cell_type": "code",
   "execution_count": 125,
   "metadata": {},
   "outputs": [],
   "source": [
    "def train_process(Z, y, learning_rate):\n",
    "    a = np.dot(Z.T, Z)\n",
    "    b = a + np.eye(a.shape[0]) * learning_rate\n",
    "    w = np.dot(np.dot(np.linalg.inv(b), Z.T), y)\n",
    "    return w"
   ]
  },
  {
   "cell_type": "code",
   "execution_count": 126,
   "metadata": {},
   "outputs": [],
   "source": [
    "def pred_process(Z, y, w):\n",
    "    pred = np.dot(Z, w)\n",
    "    res = sign(pred)\n",
    "    err = (sign(pred) != y).astype(np.int32)\n",
    "    err = np.mean(err)\n",
    "    return err"
   ]
  },
  {
   "cell_type": "code",
   "execution_count": 112,
   "metadata": {},
   "outputs": [],
   "source": [
    "# ------------"
   ]
  },
  {
   "cell_type": "code",
   "execution_count": 113,
   "metadata": {},
   "outputs": [],
   "source": [
    "learning_rate = 10"
   ]
  },
  {
   "cell_type": "code",
   "execution_count": 115,
   "metadata": {},
   "outputs": [],
   "source": [
    "w = train_process(Z, y, learning_rate)"
   ]
  },
  {
   "cell_type": "code",
   "execution_count": 116,
   "metadata": {},
   "outputs": [
    {
     "name": "stdout",
     "output_type": "stream",
     "text": [
      "0.05\n"
     ]
    }
   ],
   "source": [
    "print(pred_process(Z, y, w))"
   ]
  },
  {
   "cell_type": "code",
   "execution_count": 117,
   "metadata": {},
   "outputs": [
    {
     "name": "stdout",
     "output_type": "stream",
     "text": [
      "0.045\n"
     ]
    }
   ],
   "source": [
    "print(pred_process(Zt, yt, w))"
   ]
  },
  {
   "cell_type": "code",
   "execution_count": 130,
   "metadata": {},
   "outputs": [
    {
     "name": "stdout",
     "output_type": "stream",
     "text": [
      "-7 0.03 0.015\n"
     ]
    }
   ],
   "source": [
    "min_lr = -10\n",
    "min_ein = 9999\n",
    "min_eout = 9999\n",
    "for lr in range(2, -11, -1):\n",
    "    w = train_process(Z, y, math.pow(10, lr))\n",
    "    ein = pred_process(Z, y, w)\n",
    "    eout = pred_process(Zt, yt, w)\n",
    "#     print(lr, ein, eout)\n",
    "#     if ein < min_ein:\n",
    "    if eout < min_eout:\n",
    "        min_ein = ein\n",
    "        min_eout = eout\n",
    "        min_lr = lr\n",
    "        \n",
    "print(min_lr, min_ein, min_eout)"
   ]
  },
  {
   "cell_type": "code",
   "execution_count": 136,
   "metadata": {},
   "outputs": [
    {
     "name": "stdout",
     "output_type": "stream",
     "text": [
      "0 0.03333333333333333 0.0375 0.028\n"
     ]
    }
   ],
   "source": [
    "min_lr = -10\n",
    "min_ein = 9999\n",
    "min_ev = 9999\n",
    "min_eout = 9999\n",
    "for lr in range(2, -11, -1):\n",
    "    w = train_process(Z_train, y_train, math.pow(10, lr))\n",
    "    ein = pred_process(Z_train, y_train, w)\n",
    "    ev = pred_process(Z_val, y_val, w)\n",
    "    eout = pred_process(Zt, yt, w)\n",
    "#     print(lr, ein, eout)\n",
    "#     if ein < min_ein:\n",
    "    if ev < min_ev:\n",
    "#     if eout < min_eout:\n",
    "        min_ein = ein\n",
    "        min_eout = eout\n",
    "        min_ev = ev\n",
    "        min_lr = lr\n",
    "        \n",
    "print(min_lr, min_ein, min_ev, min_eout)"
   ]
  },
  {
   "cell_type": "code",
   "execution_count": 152,
   "metadata": {},
   "outputs": [
    {
     "name": "stdout",
     "output_type": "stream",
     "text": [
      "0.015 0.02\n"
     ]
    }
   ],
   "source": [
    "w = train_process(Z, y, math.pow(10, -8))\n",
    "ein = pred_process(Z, y, w)\n",
    "eout = pred_process(Zt, yt, w)\n",
    "print(ein, eout)"
   ]
  },
  {
   "cell_type": "code",
   "execution_count": 151,
   "metadata": {},
   "outputs": [
    {
     "name": "stdout",
     "output_type": "stream",
     "text": [
      "2 0.31999999999999995\n",
      "1 0.075\n",
      "0 0.034999999999999996\n",
      "-1 0.034999999999999996\n",
      "-2 0.034999999999999996\n",
      "-3 0.034999999999999996\n",
      "-4 0.034999999999999996\n",
      "-5 0.034999999999999996\n",
      "-6 0.034999999999999996\n",
      "-7 0.034999999999999996\n",
      "-8 0.034999999999999996\n",
      "-9 0.034999999999999996\n",
      "-10 0.034999999999999996\n",
      "0 0.034999999999999996\n"
     ]
    }
   ],
   "source": [
    "min_lr = -10\n",
    "min_ev = 9999\n",
    "for lr in range(2, -11, -1):\n",
    "    evv = [0] * 5\n",
    "    for k in range(5):\n",
    "        Z1 = Z[k*40:(k+1)*40, :-1]\n",
    "        y1 = y[k*40:(k+1)*40]\n",
    "        Z2 = np.vstack([Z[:k*40, :-1], Z[(k+1)*40:, :-1]])\n",
    "        y2 = np.vstack([y[:k*40], y[(k+1)*40:]])\n",
    "        w = train_process(Z2, y2, math.pow(10, lr))\n",
    "        ev = pred_process(Z1, y1, w)\n",
    "        evv[k] = ev\n",
    "    print(lr, np.mean(evv))\n",
    "    if np.mean(evv) < min_ev:\n",
    "        min_ev = np.mean(evv)\n",
    "        min_lr = lr\n",
    "        \n",
    "print(min_lr, min_ev)"
   ]
  },
  {
   "cell_type": "code",
   "execution_count": null,
   "metadata": {},
   "outputs": [],
   "source": []
  }
 ],
 "metadata": {
  "kernelspec": {
   "display_name": "Python 3",
   "language": "python",
   "name": "python3"
  },
  "language_info": {
   "codemirror_mode": {
    "name": "ipython",
    "version": 3
   },
   "file_extension": ".py",
   "mimetype": "text/x-python",
   "name": "python",
   "nbconvert_exporter": "python",
   "pygments_lexer": "ipython3",
   "version": "3.6.5"
  }
 },
 "nbformat": 4,
 "nbformat_minor": 2
}
