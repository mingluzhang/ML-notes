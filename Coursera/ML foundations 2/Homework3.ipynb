{
 "cells": [
  {
   "cell_type": "code",
   "execution_count": 105,
   "metadata": {},
   "outputs": [],
   "source": [
    "import numpy as np\n",
    "from sklearn.metrics import accuracy_score\n",
    "import seaborn as sb\n",
    "import matplotlib.pyplot as plt\n",
    "import pandas as pd"
   ]
  },
  {
   "cell_type": "code",
   "execution_count": 29,
   "metadata": {},
   "outputs": [],
   "source": [
    "x = np.random.randn(2000) * 2\n",
    "x = np.sort(x)"
   ]
  },
  {
   "cell_type": "code",
   "execution_count": 30,
   "metadata": {},
   "outputs": [],
   "source": [
    "y = np.log(1 + np.exp(-1 * x))"
   ]
  },
  {
   "cell_type": "code",
   "execution_count": 31,
   "metadata": {},
   "outputs": [
    {
     "data": {
      "image/png": "[encoded data removed]",
      "text/plain": [
       "<Figure size 432x288 with 1 Axes>"
      ]
     },
     "metadata": {},
     "output_type": "display_data"
    }
   ],
   "source": [
    "plt.plot(x, y)\n",
    "plt.show()"
   ]
  },
  {
   "cell_type": "code",
   "execution_count": 33,
   "metadata": {},
   "outputs": [],
   "source": [
    "yy = 1 / (1 + np.exp(-x))"
   ]
  },
  {
   "cell_type": "code",
   "execution_count": 34,
   "metadata": {},
   "outputs": [
    {
     "data": {
      "image/png": "[encoded data removed]",
      "text/plain": [
       "<Figure size 432x288 with 1 Axes>"
      ]
     },
     "metadata": {},
     "output_type": "display_data"
    }
   ],
   "source": [
    "plt.plot(x, yy)\n",
    "plt.show()"
   ]
  },
  {
   "cell_type": "code",
   "execution_count": 90,
   "metadata": {},
   "outputs": [],
   "source": [
    "N = 1000"
   ]
  },
  {
   "cell_type": "code",
   "execution_count": 91,
   "metadata": {},
   "outputs": [],
   "source": [
    "def sign0(x):\n",
    "    return ((x > 0).astype(np.int32) - 0.5) * 2\n",
    "\n",
    "def sign1(x):\n",
    "    return (x > 0).astype(np.int32)"
   ]
  },
  {
   "cell_type": "code",
   "execution_count": 97,
   "metadata": {},
   "outputs": [],
   "source": [
    "def generate_data(seed, N):\n",
    "    np.random.seed(seed)\n",
    "    x1 = np.random.randn(N).reshape(-1, 1)\n",
    "    x11 = np.square(x1)\n",
    "    x2 = np.random.randn(N).reshape(-1, 1)\n",
    "    x22 = np.square(x2)\n",
    "    noise = np.random.randint(10, size=N).reshape(-1, 1)\n",
    "#     print(noise)\n",
    "    noise = (noise < 1).astype(np.int32)\n",
    "#     print(noise)\n",
    "    y = sign0(x11 + x22 - 0.6)\n",
    "#     print(y)\n",
    "    noise = -2 * noise * y\n",
    "    y = sign1(y + noise)\n",
    "#     print(y)\n",
    "#     return np.hstack((np.ones((N,1)), x1, x2, x1*x2, x11, x22, y))\n",
    "#     return np.hstack((np.ones((N,1)), x1, x2, y))\n",
    "    return np.hstack((np.ones((N,1)), x11, x22, y))"
   ]
  },
  {
   "cell_type": "code",
   "execution_count": 98,
   "metadata": {},
   "outputs": [],
   "source": [
    "data = generate_data(1, N)\n",
    "# print(data[:5,:])"
   ]
  },
  {
   "cell_type": "code",
   "execution_count": 99,
   "metadata": {},
   "outputs": [],
   "source": [
    "# data\n",
    "# print(data.shape)"
   ]
  },
  {
   "cell_type": "code",
   "execution_count": 103,
   "metadata": {},
   "outputs": [
    {
     "name": "stdout",
     "output_type": "stream",
     "text": [
      "0.712\n",
      "0.704\n",
      "0.675\n",
      "0.685\n",
      "0.692\n",
      "0.683\n",
      "0.682\n",
      "0.679\n",
      "0.702\n",
      "0.683\n",
      "0.6897\n"
     ]
    }
   ],
   "source": [
    "from sklearn.linear_model import LinearRegression\n",
    "c = 10\n",
    "acc = 0\n",
    "score = 0\n",
    "for i in range(c):\n",
    "    seed = i+10000\n",
    "    data = generate_data(seed, N)\n",
    "    lr = LinearRegression()\n",
    "    lr.fit(data[:,:-1], data[:,-1])\n",
    "    pred = lr.predict(data[:,:-1])\n",
    "    a = accuracy_score(sign1(pred), data[:,-1])\n",
    "    print(a)\n",
    "    acc = acc + a\n",
    "#     score = score + lr.score(data[:, :-1], data[:,-1])\n",
    "print(acc / c)\n",
    "# print(score / c)\n",
    "# lr.intercept_, coef_"
   ]
  },
  {
   "cell_type": "code",
   "execution_count": 96,
   "metadata": {},
   "outputs": [
    {
     "name": "stdout",
     "output_type": "stream",
     "text": [
      "0.515021670099838 [ 0.          0.0028303   0.02372063 -0.00050137  0.08397211  0.0853726 ]\n"
     ]
    }
   ],
   "source": [
    "print(lr.intercept_, lr.coef_)"
   ]
  },
  {
   "cell_type": "code",
   "execution_count": 49,
   "metadata": {},
   "outputs": [
    {
     "data": {
      "text/plain": [
       "['__abstractmethods__',\n",
       " '__class__',\n",
       " '__delattr__',\n",
       " '__dict__',\n",
       " '__dir__',\n",
       " '__doc__',\n",
       " '__eq__',\n",
       " '__format__',\n",
       " '__ge__',\n",
       " '__getattribute__',\n",
       " '__getstate__',\n",
       " '__gt__',\n",
       " '__hash__',\n",
       " '__init__',\n",
       " '__init_subclass__',\n",
       " '__le__',\n",
       " '__lt__',\n",
       " '__module__',\n",
       " '__ne__',\n",
       " '__new__',\n",
       " '__reduce__',\n",
       " '__reduce_ex__',\n",
       " '__repr__',\n",
       " '__setattr__',\n",
       " '__setstate__',\n",
       " '__sizeof__',\n",
       " '__str__',\n",
       " '__subclasshook__',\n",
       " '__weakref__',\n",
       " '_abc_cache',\n",
       " '_abc_negative_cache',\n",
       " '_abc_negative_cache_version',\n",
       " '_abc_registry',\n",
       " '_decision_function',\n",
       " '_estimator_type',\n",
       " '_get_param_names',\n",
       " '_preprocess_data',\n",
       " '_residues',\n",
       " '_set_intercept',\n",
       " 'coef_',\n",
       " 'copy_X',\n",
       " 'fit',\n",
       " 'fit_intercept',\n",
       " 'get_params',\n",
       " 'intercept_',\n",
       " 'n_jobs',\n",
       " 'normalize',\n",
       " 'predict',\n",
       " 'rank_',\n",
       " 'score',\n",
       " 'set_params',\n",
       " 'singular_']"
      ]
     },
     "execution_count": 49,
     "metadata": {},
     "output_type": "execute_result"
    }
   ],
   "source": [
    "dir(lr)"
   ]
  },
  {
   "cell_type": "code",
   "execution_count": 50,
   "metadata": {},
   "outputs": [
    {
     "ename": "TypeError",
     "evalue": "score() missing 2 required positional arguments: 'X' and 'y'",
     "output_type": "error",
     "traceback": [
      "\u001b[0;31m---------------------------------------------------------------------------\u001b[0m",
      "\u001b[0;31mTypeError\u001b[0m                                 Traceback (most recent call last)",
      "\u001b[0;32m<ipython-input-50-7323ecef16c4>\u001b[0m in \u001b[0;36m<module>\u001b[0;34m()\u001b[0m\n\u001b[0;32m----> 1\u001b[0;31m \u001b[0mprint\u001b[0m\u001b[0;34m(\u001b[0m\u001b[0mlr\u001b[0m\u001b[0;34m.\u001b[0m\u001b[0mscore\u001b[0m\u001b[0;34m(\u001b[0m\u001b[0;34m)\u001b[0m\u001b[0;34m)\u001b[0m\u001b[0;34m\u001b[0m\u001b[0m\n\u001b[0m",
      "\u001b[0;31mTypeError\u001b[0m: score() missing 2 required positional arguments: 'X' and 'y'"
     ]
    }
   ],
   "source": [
    "print(lr.score())"
   ]
  },
  {
   "cell_type": "code",
   "execution_count": 51,
   "metadata": {},
   "outputs": [
    {
     "data": {
      "text/plain": [
       "0.1203330437254837"
      ]
     },
     "execution_count": 51,
     "metadata": {},
     "output_type": "execute_result"
    }
   ],
   "source": [
    "lr.score(data[:,:-1], data[:,-1])"
   ]
  },
  {
   "cell_type": "code",
   "execution_count": 208,
   "metadata": {},
   "outputs": [],
   "source": [
    "train = pd.read_csv(\n",
    "    \"hw3_train.dat\", \n",
    "    header=None, \n",
    "    sep=\" \"\n",
    ")\n",
    "test = pd.read_csv(\n",
    "    \"hw3_test.dat\", \n",
    "    header=None, \n",
    "    sep=\" \"\n",
    ")"
   ]
  },
  {
   "cell_type": "code",
   "execution_count": 209,
   "metadata": {},
   "outputs": [],
   "source": [
    "# train.head(20)"
   ]
  },
  {
   "cell_type": "code",
   "execution_count": 210,
   "metadata": {},
   "outputs": [],
   "source": [
    "train = train.iloc[:,1:]\n",
    "train = np.hstack([np.ones((train.shape[0],1)), train.values])\n",
    "# print(train[:5,:])\n",
    "# print(train.shape)\n",
    "test = test.iloc[:,1:]\n",
    "test = np.hstack([np.ones((test.shape[0],1)), test.values])\n",
    "# print(test[:5,:])\n",
    "# print(test.shape)"
   ]
  },
  {
   "cell_type": "code",
   "execution_count": 256,
   "metadata": {},
   "outputs": [],
   "source": [
    "# w = np.random.randn(train.shape[1]-1).reshape(-1, 1)\n",
    "# print(w.shape)\n",
    "w = np.zeros((train.shape[1]-1, 1))"
   ]
  },
  {
   "cell_type": "code",
   "execution_count": 257,
   "metadata": {},
   "outputs": [],
   "source": [
    "def sigmoid(x):\n",
    "    return 1 / (1 + np.exp(-x))"
   ]
  },
  {
   "cell_type": "code",
   "execution_count": 258,
   "metadata": {},
   "outputs": [],
   "source": [
    "T = 2000\n",
    "ita = 0.001"
   ]
  },
  {
   "cell_type": "code",
   "execution_count": 259,
   "metadata": {},
   "outputs": [],
   "source": [
    "# d = train.shape[1] - 1\n",
    "# N = train.shape[0]\n",
    "# for i in range(T):\n",
    "#     e = np.zeros((d, 1))\n",
    "#     for j in range(N):\n",
    "#         x = train[j, :-1].reshape(-1, 1)\n",
    "#         y = train[j, -1]\n",
    "#         e = e + sigmoid(-1 * y * np.dot(w.T, x)) * (-1 * y * x)\n",
    "#     e = e / N\n",
    "#     w = w - ita * e"
   ]
  },
  {
   "cell_type": "code",
   "execution_count": 260,
   "metadata": {},
   "outputs": [],
   "source": [
    "d = train.shape[1] - 1\n",
    "N = train.shape[0]\n",
    "j = -1\n",
    "for i in range(T):\n",
    "#     e = np.zeros((d, 1))\n",
    "#     for j in range(N):\n",
    "#         x = train[j, :-1].reshape(-1, 1)\n",
    "#         y = train[j, -1]\n",
    "    j = (j + 1) % N\n",
    "    x = train[j, :-1].reshape(-1, 1)\n",
    "    y = train[j, -1]\n",
    "    e = sigmoid(-1 * y * np.dot(w.T, x)) * (-1 * y * x)\n",
    "    w = w - ita * e"
   ]
  },
  {
   "cell_type": "code",
   "execution_count": 261,
   "metadata": {},
   "outputs": [
    {
     "name": "stdout",
     "output_type": "stream",
     "text": [
      "(21, 1)\n"
     ]
    }
   ],
   "source": [
    "print(w.shape)"
   ]
  },
  {
   "cell_type": "code",
   "execution_count": 262,
   "metadata": {},
   "outputs": [
    {
     "name": "stdout",
     "output_type": "stream",
     "text": [
      "0.473\n"
     ]
    }
   ],
   "source": [
    "pred = np.dot(test[:,:-1], w)\n",
    "# print(pred)\n",
    "a = sign0(pred)\n",
    "b = (a != test[:,-1].reshape(-1, 1)).astype(np.int32)\n",
    "# print(np.sum(b))\n",
    "print(np.sum(b) / test.shape[0])\n",
    "# a = sign1(pred) != test[:,-1].reshape(-1, 1)\n",
    "# b = a.astype(np.int32)\n",
    "# print(a)"
   ]
  },
  {
   "cell_type": "code",
   "execution_count": null,
   "metadata": {},
   "outputs": [],
   "source": []
  }
 ],
 "metadata": {
  "kernelspec": {
   "display_name": "Python 3",
   "language": "python",
   "name": "python3"
  },
  "language_info": {
   "codemirror_mode": {
    "name": "ipython",
    "version": 3
   },
   "file_extension": ".py",
   "mimetype": "text/x-python",
   "name": "python",
   "nbconvert_exporter": "python",
   "pygments_lexer": "ipython3",
   "version": "3.6.5"
  }
 },
 "nbformat": 4,
 "nbformat_minor": 2
}
