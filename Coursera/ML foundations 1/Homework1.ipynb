{
 "cells": [
  {
   "cell_type": "markdown",
   "metadata": {},
   "source": [
    "# PLA and Pocket"
   ]
  },
  {
   "cell_type": "markdown",
   "metadata": {},
   "source": [
    "### Init data"
   ]
  },
  {
   "cell_type": "code",
   "execution_count": 87,
   "metadata": {},
   "outputs": [],
   "source": [
    "import pandas as pd\n",
    "import numpy as np"
   ]
  },
  {
   "cell_type": "code",
   "execution_count": 88,
   "metadata": {},
   "outputs": [],
   "source": [
    "data = pd.read_csv(\n",
    "    \"hw1_15_train.dat\", \n",
    "    header=None, \n",
    "    sep=\" \"\n",
    ")"
   ]
  },
  {
   "cell_type": "code",
   "execution_count": 89,
   "metadata": {},
   "outputs": [
    {
     "name": "stdout",
     "output_type": "stream",
     "text": [
      "         0         1        2           3\n",
      "0  0.97681  0.107230  0.64385  0.29556\\t1\n",
      "1  0.67194  0.241800  0.83075  0.42741\\t1\n",
      "2  0.20619  0.233210  0.81004  0.98691\\t1\n",
      "3  0.51583  0.055814  0.92274  0.75797\\t1\n",
      "4  0.70893  0.108360  0.33951  0.77058\\t1\n"
     ]
    }
   ],
   "source": [
    "print(data[:5])"
   ]
  },
  {
   "cell_type": "code",
   "execution_count": 90,
   "metadata": {},
   "outputs": [],
   "source": [
    "y = data[3]"
   ]
  },
  {
   "cell_type": "code",
   "execution_count": 91,
   "metadata": {},
   "outputs": [],
   "source": [
    "# y.head()"
   ]
  },
  {
   "cell_type": "code",
   "execution_count": 92,
   "metadata": {},
   "outputs": [],
   "source": [
    "def func(x, *args, **kwargs):\n",
    "    data=x.split(\"\\t\")\n",
    "    return np.float32(data[1])\n",
    "    \n",
    "y = y.apply(func, axis=1)"
   ]
  },
  {
   "cell_type": "code",
   "execution_count": 93,
   "metadata": {},
   "outputs": [
    {
     "name": "stdout",
     "output_type": "stream",
     "text": [
      "0    1.0\n",
      "1    1.0\n",
      "2    1.0\n",
      "3    1.0\n",
      "4    1.0\n",
      "Name: 3, dtype: float64\n"
     ]
    }
   ],
   "source": [
    "print(y[:5])"
   ]
  },
  {
   "cell_type": "code",
   "execution_count": 94,
   "metadata": {},
   "outputs": [],
   "source": [
    "def func1(x, *args, **kwargs):\n",
    "    data=x.split(\"\\t\")\n",
    "    return np.float32(data[0])\n",
    "    \n",
    "data[3] = data[3].apply(func1, axis=1)"
   ]
  },
  {
   "cell_type": "code",
   "execution_count": 97,
   "metadata": {},
   "outputs": [
    {
     "name": "stdout",
     "output_type": "stream",
     "text": [
      "         0         1        2        3\n",
      "0  0.97681  0.107230  0.64385  0.29556\n",
      "1  0.67194  0.241800  0.83075  0.42741\n",
      "2  0.20619  0.233210  0.81004  0.98691\n",
      "3  0.51583  0.055814  0.92274  0.75797\n",
      "4  0.70893  0.108360  0.33951  0.77058\n"
     ]
    }
   ],
   "source": [
    "# print(data[:5])\n",
    "x = np.hstack([data.values, np.ones((data.shape[0],1)), y.values.reshape(-1, 1)])"
   ]
  },
  {
   "cell_type": "code",
   "execution_count": 98,
   "metadata": {},
   "outputs": [
    {
     "name": "stdout",
     "output_type": "stream",
     "text": [
      "[[0.97681    0.10723    0.64385    0.29556    1.         1.        ]\n",
      " [0.67194    0.2418     0.83075    0.42741001 1.         1.        ]\n",
      " [0.20619    0.23321    0.81004    0.98690999 1.         1.        ]\n",
      " [0.51583    0.055814   0.92274    0.75796998 1.         1.        ]\n",
      " [0.70893    0.10836    0.33951    0.77057999 1.         1.        ]]\n"
     ]
    }
   ],
   "source": [
    "print(x[:5, :])"
   ]
  },
  {
   "cell_type": "code",
   "execution_count": 99,
   "metadata": {},
   "outputs": [],
   "source": [
    "def sign(x):\n",
    "    if x > 0:\n",
    "        return 1.0\n",
    "    else:\n",
    "        return -1.0"
   ]
  },
  {
   "cell_type": "code",
   "execution_count": 119,
   "metadata": {},
   "outputs": [],
   "source": [
    "def test_result(w, x_test):\n",
    "    count = 0\n",
    "    for i in range(x_test.shape[0]):\n",
    "        xx = x_test[i]\n",
    "        if sign(np.dot(w, xx[:-1])) != xx[-1]:\n",
    "            count += 1\n",
    "    return count * 1.0 / x_test.shape[0]"
   ]
  },
  {
   "cell_type": "markdown",
   "metadata": {},
   "source": [
    "### PLA"
   ]
  },
  {
   "cell_type": "code",
   "execution_count": 101,
   "metadata": {},
   "outputs": [],
   "source": [
    "# print(x[0].shape)\n",
    "# w_pla = w_pla + x[0] * 0.3\n",
    "# print(w_pla)"
   ]
  },
  {
   "cell_type": "code",
   "execution_count": 103,
   "metadata": {},
   "outputs": [
    {
     "name": "stdout",
     "output_type": "stream",
     "text": [
      "45\n"
     ]
    }
   ],
   "source": [
    "w_pla = np.array([0, 0, 0, 0, 0], dtype = np.float32)\n",
    "loop = 0\n",
    "idx = 0\n",
    "idx_count = 0\n",
    "while True:\n",
    "    xx = x[idx]\n",
    "    idx_count += 1\n",
    "    if sign(np.dot(w_pla, xx[:-1])) != xx[-1]:\n",
    "#         print(\"idx =\", idx)\n",
    "        w_pla = w_pla + xx[:-1] * xx[-1]\n",
    "        idx_count = 0\n",
    "        loop += 1\n",
    "    idx = (idx + 1) % x.shape[0]\n",
    "    if idx_count > x.shape[0]:\n",
    "        break\n",
    "        \n",
    "print(loop)"
   ]
  },
  {
   "cell_type": "code",
   "execution_count": 104,
   "metadata": {},
   "outputs": [],
   "source": [
    "# permutation = np.random.permutation(x.shape[0])\n",
    "# print(permutation)\n",
    "# new_x = x[permutation, :]\n",
    "# print(new_x.shape)\n",
    "# new_y = y[permutation]\n",
    "# print(new_y.shape)\n",
    "# print(new_y[2])\n",
    "new_x = np.copy(x)\n",
    "np.random.shuffle(new_x)"
   ]
  },
  {
   "cell_type": "code",
   "execution_count": 105,
   "metadata": {},
   "outputs": [
    {
     "name": "stdout",
     "output_type": "stream",
     "text": [
      "33\n"
     ]
    }
   ],
   "source": [
    "w_pla = np.array([0, 0, 0, 0, 0], dtype = np.float32)\n",
    "loop = 0\n",
    "idx = 0\n",
    "idx_count = 0\n",
    "while True:\n",
    "    xx = new_x[idx]\n",
    "    idx_count += 1\n",
    "    if sign(np.dot(w_pla, xx[:-1])) != xx[-1]:\n",
    "#         print(\"idx =\", idx)\n",
    "        w_pla = w_pla + xx[:-1] * xx[-1]\n",
    "        idx_count = 0\n",
    "        loop += 1\n",
    "    idx = (idx + 1) % x.shape[0]\n",
    "    if idx_count > x.shape[0]:\n",
    "        break\n",
    "    if loop > 500:\n",
    "        break\n",
    "print(loop)"
   ]
  },
  {
   "cell_type": "code",
   "execution_count": 118,
   "metadata": {},
   "outputs": [
    {
     "name": "stdout",
     "output_type": "stream",
     "text": [
      "39.914\n"
     ]
    }
   ],
   "source": [
    "c = 2000\n",
    "l = 0\n",
    "for i in range(c):\n",
    "    new_x = np.copy(x)\n",
    "    np.random.shuffle(new_x)\n",
    "    \n",
    "    w_pla = np.array([0, 0, 0, 0, 0], dtype = np.float32)\n",
    "    loop = 0\n",
    "    idx = 0\n",
    "    idx_count = 0\n",
    "    while True:\n",
    "        xx = new_x[idx]\n",
    "        idx_count += 1\n",
    "        if sign(np.dot(w_pla, xx[:-1])) != xx[-1]:\n",
    "            w_pla = w_pla + xx[:-1] * xx[-1] * 0.5\n",
    "            idx_count = 0\n",
    "            loop += 1\n",
    "        idx = (idx + 1) % x.shape[0]\n",
    "        if idx_count > x.shape[0]:\n",
    "            break\n",
    "        if loop > 500:\n",
    "            break\n",
    "    l += loop\n",
    "print(l * 1.0 / c)"
   ]
  },
  {
   "cell_type": "markdown",
   "metadata": {},
   "source": [
    "### Pocket"
   ]
  },
  {
   "cell_type": "code",
   "execution_count": 109,
   "metadata": {},
   "outputs": [],
   "source": [
    "train_data = pd.read_csv(\n",
    "    \"hw1_18_train.dat\", \n",
    "    header=None, \n",
    "    sep=\" \"\n",
    ")\n",
    "test_data = pd.read_csv(\n",
    "    \"hw1_18_test.dat\", \n",
    "    header=None, \n",
    "    sep=\" \"\n",
    ")"
   ]
  },
  {
   "cell_type": "code",
   "execution_count": 110,
   "metadata": {},
   "outputs": [],
   "source": [
    "# test_data.head()"
   ]
  },
  {
   "cell_type": "code",
   "execution_count": 111,
   "metadata": {},
   "outputs": [],
   "source": [
    "y_train = train_data[3]\n",
    "y_test = test_data[3]"
   ]
  },
  {
   "cell_type": "code",
   "execution_count": 112,
   "metadata": {},
   "outputs": [],
   "source": [
    "y_train = y_train.apply(func, axis=1)\n",
    "y_test = y_test.apply(func, axis=1)"
   ]
  },
  {
   "cell_type": "code",
   "execution_count": 113,
   "metadata": {},
   "outputs": [],
   "source": [
    "# y_test.describe()"
   ]
  },
  {
   "cell_type": "code",
   "execution_count": 114,
   "metadata": {},
   "outputs": [],
   "source": [
    "# y_train.describe()"
   ]
  },
  {
   "cell_type": "code",
   "execution_count": 115,
   "metadata": {},
   "outputs": [],
   "source": [
    "train_data[3] = train_data[3].apply(func1, axis=1)\n",
    "test_data[3] = test_data[3].apply(func1, axis=1)"
   ]
  },
  {
   "cell_type": "code",
   "execution_count": 117,
   "metadata": {},
   "outputs": [],
   "source": [
    "x_train = np.hstack([train_data.values, np.ones((train_data.shape[0],1)), y_train.values.reshape(-1, 1)])\n",
    "x_test = np.hstack([test_data.values, np.ones((test_data.shape[0],1)), y_test.values.reshape(-1, 1)])"
   ]
  },
  {
   "cell_type": "markdown",
   "metadata": {},
   "source": [
    "### normal pocket"
   ]
  },
  {
   "cell_type": "code",
   "execution_count": 72,
   "metadata": {},
   "outputs": [],
   "source": [
    "w_pck = np.array([0, 0, 0, 0, 0])"
   ]
  },
  {
   "cell_type": "code",
   "execution_count": 73,
   "metadata": {},
   "outputs": [],
   "source": [
    "x = x_train"
   ]
  },
  {
   "cell_type": "code",
   "execution_count": 120,
   "metadata": {},
   "outputs": [],
   "source": [
    "def test_new_w(w, w_result, error):\n",
    "    err = test_result(w, x_test)\n",
    "    if err < error:\n",
    "        return np.copy(w), err\n",
    "    else:\n",
    "        return np.copy(w_result), error"
   ]
  },
  {
   "cell_type": "code",
   "execution_count": 122,
   "metadata": {},
   "outputs": [
    {
     "name": "stdout",
     "output_type": "stream",
     "text": [
      "0.12701199999999982\n"
     ]
    }
   ],
   "source": [
    "target_loop_count = 50\n",
    "c = 2000\n",
    "e = 0\n",
    "\n",
    "for i in range(c):\n",
    "    new_x = np.copy(x_train)\n",
    "    np.random.shuffle(new_x)\n",
    "    \n",
    "    w_result = np.array([0, 0, 0, 0, 0])\n",
    "    w_pck = np.array([0, 0, 0, 0, 0])\n",
    "    error = 1\n",
    "    \n",
    "    loop = 0\n",
    "    idx = 0\n",
    "    idx_count = 0\n",
    "    while True:\n",
    "        xx = new_x[idx]\n",
    "        idx_count += 1\n",
    "        if sign(np.dot(w_pck, xx[:-1])) != xx[-1]:\n",
    "            w_pck = w_pck + xx[:-1] * xx[-1]\n",
    "            idx_count = 0\n",
    "            loop += 1\n",
    "            w_result, error = test_new_w(w_pck, w_result, error)\n",
    "        idx = (idx + 1) % new_x.shape[0]\n",
    "        if idx_count > new_x.shape[0]:\n",
    "            break\n",
    "        if loop >= target_loop_count:\n",
    "            break\n",
    "#     error = test_result(w_pck, x_test)\n",
    "    e += error\n",
    "print(e * 1.0 / c)"
   ]
  },
  {
   "cell_type": "code",
   "execution_count": 123,
   "metadata": {},
   "outputs": [
    {
     "name": "stdout",
     "output_type": "stream",
     "text": [
      "0.35656599999999977\n"
     ]
    }
   ],
   "source": [
    "target_loop_count = 50\n",
    "c = 2000\n",
    "e = 0\n",
    "\n",
    "for i in range(c):\n",
    "    new_x = np.copy(x_train)\n",
    "    np.random.shuffle(new_x)\n",
    "    \n",
    "    w_result = np.array([0, 0, 0, 0, 0])\n",
    "    w_pck = np.array([0, 0, 0, 0, 0])\n",
    "    error = 1\n",
    "    \n",
    "    loop = 0\n",
    "    idx = 0\n",
    "    idx_count = 0\n",
    "    while True:\n",
    "        xx = new_x[idx]\n",
    "        idx_count += 1\n",
    "        if sign(np.dot(w_pck, xx[:-1])) != xx[-1]:\n",
    "            w_pck = w_pck + xx[:-1] * xx[-1]\n",
    "            idx_count = 0\n",
    "            loop += 1\n",
    "#             w_result, error = test_new_w(w_pck, w_result, error)\n",
    "        idx = (idx + 1) % new_x.shape[0]\n",
    "        if idx_count > new_x.shape[0]:\n",
    "            break\n",
    "        if loop >= target_loop_count:\n",
    "            break\n",
    "    error = test_result(w_pck, x_test)\n",
    "    e += error\n",
    "print(e * 1.0 / c)"
   ]
  },
  {
   "cell_type": "code",
   "execution_count": null,
   "metadata": {},
   "outputs": [],
   "source": []
  }
 ],
 "metadata": {
  "kernelspec": {
   "display_name": "Python 3",
   "language": "python",
   "name": "python3"
  },
  "language_info": {
   "codemirror_mode": {
    "name": "ipython",
    "version": 3
   },
   "file_extension": ".py",
   "mimetype": "text/x-python",
   "name": "python",
   "nbconvert_exporter": "python",
   "pygments_lexer": "ipython3",
   "version": "3.6.5"
  }
 },
 "nbformat": 4,
 "nbformat_minor": 2
}
