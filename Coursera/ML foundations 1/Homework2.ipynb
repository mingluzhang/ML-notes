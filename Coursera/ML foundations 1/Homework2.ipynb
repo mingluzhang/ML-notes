{
 "cells": [
  {
   "cell_type": "code",
   "execution_count": 11,
   "metadata": {},
   "outputs": [],
   "source": [
    "import math\n",
    "import sympy"
   ]
  },
  {
   "cell_type": "code",
   "execution_count": 292,
   "metadata": {},
   "outputs": [],
   "source": [
    "def mh(N):\n",
    "    return np.float64(pow(N, dvc))"
   ]
  },
  {
   "cell_type": "code",
   "execution_count": 293,
   "metadata": {},
   "outputs": [],
   "source": [
    "def vcbound(N):\n",
    "    return math.sqrt(8 / N * math.log(4 * mh(2 * N) / delta))"
   ]
  },
  {
   "cell_type": "markdown",
   "metadata": {},
   "source": [
    "### 3."
   ]
  },
  {
   "cell_type": "code",
   "execution_count": 294,
   "metadata": {},
   "outputs": [],
   "source": [
    "dvc = 10\n",
    "delta = 0.05\n",
    "epsilon = 0.05"
   ]
  },
  {
   "cell_type": "code",
   "execution_count": 295,
   "metadata": {},
   "outputs": [
    {
     "name": "stdout",
     "output_type": "stream",
     "text": [
      "1e+40\n"
     ]
    }
   ],
   "source": [
    "print(mh(10000))"
   ]
  },
  {
   "cell_type": "code",
   "execution_count": 296,
   "metadata": {},
   "outputs": [
    {
     "name": "stdout",
     "output_type": "stream",
     "text": [
      "0.05178593269970576\n"
     ]
    }
   ],
   "source": [
    "print(vcbound(420000))"
   ]
  },
  {
   "cell_type": "code",
   "execution_count": 297,
   "metadata": {},
   "outputs": [
    {
     "name": "stdout",
     "output_type": "stream",
     "text": [
      "0.050678810077732374\n"
     ]
    }
   ],
   "source": [
    "print(vcbound(440000))"
   ]
  },
  {
   "cell_type": "code",
   "execution_count": 298,
   "metadata": {},
   "outputs": [
    {
     "name": "stdout",
     "output_type": "stream",
     "text": [
      "0.04964277890917069\n"
     ]
    }
   ],
   "source": [
    "print(vcbound(460000))"
   ]
  },
  {
   "cell_type": "code",
   "execution_count": 299,
   "metadata": {},
   "outputs": [
    {
     "name": "stdout",
     "output_type": "stream",
     "text": [
      "0.04867047569610589\n"
     ]
    }
   ],
   "source": [
    "print(vcbound(480000))"
   ]
  },
  {
   "cell_type": "code",
   "execution_count": 300,
   "metadata": {},
   "outputs": [
    {
     "name": "stdout",
     "output_type": "stream",
     "text": [
      "0.047755566329267474\n"
     ]
    }
   ],
   "source": [
    "print(vcbound(500000))"
   ]
  },
  {
   "cell_type": "markdown",
   "metadata": {},
   "source": [
    "### 4.5."
   ]
  },
  {
   "cell_type": "code",
   "execution_count": 301,
   "metadata": {},
   "outputs": [],
   "source": [
    "dvc=50"
   ]
  },
  {
   "cell_type": "code",
   "execution_count": 302,
   "metadata": {},
   "outputs": [
    {
     "name": "stdout",
     "output_type": "stream",
     "text": [
      "0.632174915200836\n",
      "13.828161484991483\n"
     ]
    }
   ],
   "source": [
    "print(vcbound(10000))\n",
    "print(vcbound(5))"
   ]
  },
  {
   "cell_type": "code",
   "execution_count": 303,
   "metadata": {},
   "outputs": [],
   "source": [
    "def rpb(N):\n",
    "    return math.sqrt(2 / N * math.log(2 * N * mh(N))) + math.sqrt(2 / N / math.log(1 / delta)) + 1 / N"
   ]
  },
  {
   "cell_type": "code",
   "execution_count": 304,
   "metadata": {},
   "outputs": [
    {
     "name": "stdout",
     "output_type": "stream",
     "text": [
      "6.3195192778301434\n",
      "0.31500209730790407\n"
     ]
    }
   ],
   "source": [
    "print(rpb(5))\n",
    "print(rpb(10000))"
   ]
  },
  {
   "cell_type": "code",
   "execution_count": 305,
   "metadata": {},
   "outputs": [],
   "source": [
    "def pv(N):\n",
    "    y = sympy.Symbol('y')\n",
    "    res = sympy.solve(y - sympy.sqrt(1 / N * (2 * y + sympy.log(6 * mh(2 * N) / delta))), y)\n",
    "    return res"
   ]
  },
  {
   "cell_type": "code",
   "execution_count": 306,
   "metadata": {},
   "outputs": [
    {
     "name": "stdout",
     "output_type": "stream",
     "text": [
      "[5.10136198199000]\n",
      "[0.223698293680786]\n"
     ]
    }
   ],
   "source": [
    "print(pv(5))\n",
    "print(pv(10000))"
   ]
  },
  {
   "cell_type": "code",
   "execution_count": 311,
   "metadata": {},
   "outputs": [],
   "source": [
    "def d(N):\n",
    "    y = sympy.Symbol(\"y\")\n",
    "    f = y - sympy.sqrt(1 / 2 / N * (4 * y * (1+y) + sympy.log(4 / delta) + 200))\n",
    "    res = sympy.solve(f, y)\n",
    "    return res"
   ]
  },
  {
   "cell_type": "code",
   "execution_count": 312,
   "metadata": {},
   "outputs": [
    {
     "name": "stdout",
     "output_type": "stream",
     "text": [
      "[6.17925346765694]\n",
      "[0.101199750789236]\n"
     ]
    }
   ],
   "source": [
    "print(d(5))\n",
    "print(d(10000))"
   ]
  },
  {
   "cell_type": "code",
   "execution_count": 257,
   "metadata": {},
   "outputs": [],
   "source": [
    "def vvcbound(N):\n",
    "    return math.sqrt(16 / N * math.log(2 * mh(N) / math.sqrt(delta)))"
   ]
  },
  {
   "cell_type": "code",
   "execution_count": 258,
   "metadata": {},
   "outputs": [
    {
     "name": "stdout",
     "output_type": "stream",
     "text": [
      "16.264111061012045\n",
      "0.8604259707062739\n"
     ]
    }
   ],
   "source": [
    "print(vvcbound(5))\n",
    "print(vvcbound(10000))"
   ]
  },
  {
   "cell_type": "markdown",
   "metadata": {},
   "source": [
    "### 16~20"
   ]
  },
  {
   "cell_type": "code",
   "execution_count": 140,
   "metadata": {},
   "outputs": [],
   "source": [
    "import numpy as np"
   ]
  },
  {
   "cell_type": "code",
   "execution_count": 141,
   "metadata": {},
   "outputs": [],
   "source": [
    "def sign(x):\n",
    "    return ((x > 0).astype(np.int32) - 0.5) * 2"
   ]
  },
  {
   "cell_type": "code",
   "execution_count": 213,
   "metadata": {},
   "outputs": [],
   "source": [
    "N = 20\n",
    "s = 1\n",
    "c = 3000"
   ]
  },
  {
   "cell_type": "code",
   "execution_count": 214,
   "metadata": {},
   "outputs": [],
   "source": [
    "def generate_data(seed):\n",
    "    np.random.seed(seed)\n",
    "    x = np.random.randn(N).reshape(-1, 1)\n",
    "    noise = np.random.randint(10, size=N).reshape(-1, 1)\n",
    "    noise = (noise < 2).astype(np.int32)\n",
    "    y = sign(x)\n",
    "    noise = -2 * noise * y\n",
    "    y = y + noise\n",
    "    return np.hstack((x, y))"
   ]
  },
  {
   "cell_type": "code",
   "execution_count": 215,
   "metadata": {},
   "outputs": [],
   "source": [
    "# data_ = generate_data(19)\n",
    "# print(data_)\n",
    "# data_ = data_[data_[:,0].argsort()]\n",
    "# print(data_)\n",
    "# data_ = np.vstack(([0, 0], data_))\n",
    "# print(data_)"
   ]
  },
  {
   "cell_type": "code",
   "execution_count": 216,
   "metadata": {},
   "outputs": [],
   "source": [
    "E_out_total = 0\n",
    "E_in_total = 0\n",
    "\n",
    "for i in range(c):\n",
    "    data_ = generate_data(i + 70000)\n",
    "    data_ = data_[data_[:,0].argsort()]\n",
    "    data_ = np.vstack(([data_[0][0] - 0.00002, 0], data_))\n",
    "    \n",
    "    E_in = 1000000\n",
    "    E_out = 0\n",
    "    n_in = 0\n",
    "    \n",
    "    \n",
    "    for j in range(data_.shape[0]):\n",
    "        n = data_[j][0] + 0.00001\n",
    "        a = ((data_[1:, 0] > n).astype(np.int32) - 0.5) * 2.0\n",
    "        e = np.mean((a != data_[1:, 1]).astype(np.int32))\n",
    "        if e < E_in:\n",
    "            E_in = e\n",
    "            n_in = n\n",
    "            \n",
    "    for j in range(data_.shape[0]):\n",
    "        n = data_[j][0] + 0.00001\n",
    "        a = ((data_[1:, 0] <= n).astype(np.int32) - 0.5) * 2.0\n",
    "        e = np.mean((a != data_[1:, 1]).astype(np.int32))\n",
    "        if e < E_in:\n",
    "            E_in = e\n",
    "            n_in = n\n",
    "    \n",
    "    E_out = 0.5 + 0.3 * (abs(n_in * 1.0) - 1)\n",
    "    \n",
    "    E_out_total = E_out_total + E_out\n",
    "    E_in_total = E_in_total + E_in\n",
    "    \n",
    "E_out_total /= c\n",
    "E_in_total /= c"
   ]
  },
  {
   "cell_type": "code",
   "execution_count": 217,
   "metadata": {},
   "outputs": [
    {
     "name": "stdout",
     "output_type": "stream",
     "text": [
      "0.1705833333333324\n",
      "0.28890012604268284\n"
     ]
    }
   ],
   "source": [
    "print(E_in_total)\n",
    "print(E_out_total)"
   ]
  },
  {
   "cell_type": "markdown",
   "metadata": {},
   "source": [
    "### 19~20"
   ]
  },
  {
   "cell_type": "code",
   "execution_count": 219,
   "metadata": {},
   "outputs": [],
   "source": [
    "import pandas as pd"
   ]
  },
  {
   "cell_type": "code",
   "execution_count": 220,
   "metadata": {},
   "outputs": [],
   "source": [
    "data = pd.read_csv(\n",
    "    \"hw2_train.dat\", \n",
    "    header=None, \n",
    "    sep=\" \"\n",
    ")"
   ]
  },
  {
   "cell_type": "code",
   "execution_count": 221,
   "metadata": {},
   "outputs": [
    {
     "data": {
      "text/html": [
       "<div>\n",
       "<style scoped>\n",
       "    .dataframe tbody tr th:only-of-type {\n",
       "        vertical-align: middle;\n",
       "    }\n",
       "\n",
       "    .dataframe tbody tr th {\n",
       "        vertical-align: top;\n",
       "    }\n",
       "\n",
       "    .dataframe thead th {\n",
       "        text-align: right;\n",
       "    }\n",
       "</style>\n",
       "<table border=\"1\" class=\"dataframe\">\n",
       "  <thead>\n",
       "    <tr style=\"text-align: right;\">\n",
       "      <th></th>\n",
       "      <th>0</th>\n",
       "      <th>1</th>\n",
       "      <th>2</th>\n",
       "      <th>3</th>\n",
       "      <th>4</th>\n",
       "      <th>5</th>\n",
       "      <th>6</th>\n",
       "      <th>7</th>\n",
       "      <th>8</th>\n",
       "      <th>9</th>\n",
       "      <th>10</th>\n",
       "    </tr>\n",
       "  </thead>\n",
       "  <tbody>\n",
       "    <tr>\n",
       "      <th>0</th>\n",
       "      <td>NaN</td>\n",
       "      <td>8.105</td>\n",
       "      <td>-3.500</td>\n",
       "      <td>4.769</td>\n",
       "      <td>4.541</td>\n",
       "      <td>-9.829</td>\n",
       "      <td>5.252</td>\n",
       "      <td>3.838</td>\n",
       "      <td>-3.408</td>\n",
       "      <td>-4.824</td>\n",
       "      <td>-1</td>\n",
       "    </tr>\n",
       "    <tr>\n",
       "      <th>1</th>\n",
       "      <td>NaN</td>\n",
       "      <td>-6.273</td>\n",
       "      <td>-2.097</td>\n",
       "      <td>9.404</td>\n",
       "      <td>1.143</td>\n",
       "      <td>3.487</td>\n",
       "      <td>-5.206</td>\n",
       "      <td>0.061</td>\n",
       "      <td>5.024</td>\n",
       "      <td>-6.687</td>\n",
       "      <td>1</td>\n",
       "    </tr>\n",
       "    <tr>\n",
       "      <th>2</th>\n",
       "      <td>NaN</td>\n",
       "      <td>1.624</td>\n",
       "      <td>-1.173</td>\n",
       "      <td>4.260</td>\n",
       "      <td>-3.607</td>\n",
       "      <td>-6.632</td>\n",
       "      <td>4.431</td>\n",
       "      <td>-8.355</td>\n",
       "      <td>7.206</td>\n",
       "      <td>-8.977</td>\n",
       "      <td>1</td>\n",
       "    </tr>\n",
       "    <tr>\n",
       "      <th>3</th>\n",
       "      <td>NaN</td>\n",
       "      <td>-10.000</td>\n",
       "      <td>7.758</td>\n",
       "      <td>-2.670</td>\n",
       "      <td>-8.880</td>\n",
       "      <td>-1.099</td>\n",
       "      <td>-9.183</td>\n",
       "      <td>-4.086</td>\n",
       "      <td>8.962</td>\n",
       "      <td>5.841</td>\n",
       "      <td>1</td>\n",
       "    </tr>\n",
       "    <tr>\n",
       "      <th>4</th>\n",
       "      <td>NaN</td>\n",
       "      <td>8.464</td>\n",
       "      <td>1.762</td>\n",
       "      <td>2.729</td>\n",
       "      <td>2.724</td>\n",
       "      <td>8.155</td>\n",
       "      <td>6.096</td>\n",
       "      <td>-2.844</td>\n",
       "      <td>9.800</td>\n",
       "      <td>3.302</td>\n",
       "      <td>-1</td>\n",
       "    </tr>\n",
       "  </tbody>\n",
       "</table>\n",
       "</div>"
      ],
      "text/plain": [
       "   0       1      2      3      4      5      6      7      8      9   10\n",
       "0 NaN   8.105 -3.500  4.769  4.541 -9.829  5.252  3.838 -3.408 -4.824  -1\n",
       "1 NaN  -6.273 -2.097  9.404  1.143  3.487 -5.206  0.061  5.024 -6.687   1\n",
       "2 NaN   1.624 -1.173  4.260 -3.607 -6.632  4.431 -8.355  7.206 -8.977   1\n",
       "3 NaN -10.000  7.758 -2.670 -8.880 -1.099 -9.183 -4.086  8.962  5.841   1\n",
       "4 NaN   8.464  1.762  2.729  2.724  8.155  6.096 -2.844  9.800  3.302  -1"
      ]
     },
     "execution_count": 221,
     "metadata": {},
     "output_type": "execute_result"
    }
   ],
   "source": [
    "data.head()"
   ]
  },
  {
   "cell_type": "code",
   "execution_count": 224,
   "metadata": {},
   "outputs": [],
   "source": [
    "train = data.iloc[:,1:]"
   ]
  },
  {
   "cell_type": "code",
   "execution_count": 225,
   "metadata": {},
   "outputs": [
    {
     "name": "stdout",
     "output_type": "stream",
     "text": [
      "(100, 10)\n"
     ]
    }
   ],
   "source": [
    "print(train.values.shape)"
   ]
  },
  {
   "cell_type": "code",
   "execution_count": 261,
   "metadata": {},
   "outputs": [
    {
     "name": "stdout",
     "output_type": "stream",
     "text": [
      "[[0.39       0.3960396  0.41176471 0.27184466 0.45192308 0.31428571\n",
      "  0.37735849 0.42990654 0.40740741]]\n",
      "[[ 3.87501 -3.38999 -8.50899  1.46101 -9.62199  4.28801  3.95401 -2.87499\n",
      "  -0.28599]]\n",
      "[4]\n",
      "-1\n"
     ]
    }
   ],
   "source": [
    "E_out_total = 0\n",
    "E_in_total = 0\n",
    "N = train.values.shape[0]\n",
    "dim = train.values.shape[1] - 1\n",
    "res = np.zeros((1, dim))\n",
    "E_in = np.zeros((1, dim))\n",
    "\n",
    "xx = train.values\n",
    "for k in range(dim):\n",
    "    xx = xx[xx[:, k].argsort()]\n",
    "    row = np.zeros((1, dim + 1))\n",
    "    row[0, k] = xx[0, k] - 0.00002\n",
    "    xx = np.vstack((row, xx))\n",
    "\n",
    "    E_in[0, k] = 1000000\n",
    "\n",
    "    for j in range(N + 1):\n",
    "        n = xx[j, k] + 0.00001\n",
    "        a = ((xx[1:, k] > n).astype(np.int32) - 0.5) * 2.0\n",
    "        e = np.mean((a != xx[1:, -1]).astype(np.int32))\n",
    "        if e < E_in[0, k]:\n",
    "            E_in[0, k] = e\n",
    "            res[0, k] = n\n",
    "            sign = 1\n",
    "\n",
    "    for j in range(N + 1):\n",
    "        n = xx[j, k] + 0.00001\n",
    "        a = ((xx[1:, k] <= n).astype(np.int32) - 0.5) * 2.0\n",
    "        e = np.mean((a != xx[1:, -1]).astype(np.int32))\n",
    "        if e < E_in[0, k]:\n",
    "            E_in[0, k] = e\n",
    "            res[0, k] = n\n",
    "            sign = -1\n",
    "idx = np.argmax(E_in, axis=1)\n",
    "print(E_in)\n",
    "print(res)\n",
    "print(idx)\n",
    "print(sign)"
   ]
  },
  {
   "cell_type": "code",
   "execution_count": 262,
   "metadata": {},
   "outputs": [],
   "source": [
    "test = pd.read_csv(\n",
    "    \"hw2_test.dat\", \n",
    "    header=None, \n",
    "    sep=\" \"\n",
    ")"
   ]
  },
  {
   "cell_type": "code",
   "execution_count": 263,
   "metadata": {},
   "outputs": [
    {
     "name": "stdout",
     "output_type": "stream",
     "text": [
      "[[ 0.531 -1.884 -0.351 -1.796 -9.891  6.12   2.486  8.44  -5.123 -1.   ]\n",
      " [ 5.123  5.047  5.404 -1.742 -0.317  9.585 -4.016 -1.8   -5.633  1.   ]\n",
      " [ 3.286  4.251 -4.837 -7.065 -7.546 -4.727  9.055  4.941 -6.287  1.   ]\n",
      " [-0.795 -1.617 -8.414 -5.391  6.641  1.269 -5.806 -7.375  9.469  1.   ]\n",
      " [-4.362  1.49  -7.232  0.802  4.424 -4.777  6.075  3.48  -9.837  1.   ]]\n"
     ]
    }
   ],
   "source": [
    "test = test.iloc[:, 1:]\n",
    "test = test.values\n",
    "print(test[:5, :])"
   ]
  },
  {
   "cell_type": "code",
   "execution_count": 264,
   "metadata": {},
   "outputs": [
    {
     "name": "stdout",
     "output_type": "stream",
     "text": [
      "0.49538\n"
     ]
    }
   ],
   "source": [
    "a = ((test[:, idx-1] <= res[0, idx-1]).astype(np.int32) - 0.5) * 2.0\n",
    "e = np.mean((a != test[:, -1]).astype(np.int32))\n",
    "print(e)"
   ]
  },
  {
   "cell_type": "code",
   "execution_count": 272,
   "metadata": {},
   "outputs": [
    {
     "name": "stdout",
     "output_type": "stream",
     "text": [
      "1: 0.25\n",
      "0.001\n"
     ]
    },
    {
     "name": "stderr",
     "output_type": "stream",
     "text": [
      "/usr/local/Cellar/ipython/6.4.0/libexec/vendor/lib/python3.6/site-packages/ipykernel_launcher.py:72: DeprecationWarning: elementwise != comparison failed; this will raise an error in the future.\n"
     ]
    }
   ],
   "source": [
    "import sys\n",
    "import numpy as np\n",
    "import math\n",
    "from random import *\n",
    "\n",
    "def read_input_data(path):\n",
    "    x = []\n",
    "    y = []\n",
    "    for line in open(path).readlines():\n",
    "        items = line.strip().split(' ')\n",
    "        tmp_x = []\n",
    "        for i in range(0,len(items)-1): tmp_x.append(float(items[i]))\n",
    "        x.append(tmp_x)\n",
    "        y.append(float(items[-1]))\n",
    "    return np.array(x),np.array(y)\n",
    "\n",
    "def calculate_Ein(x,y):\n",
    "    # calculate median of interval & negative infinite & positive infinite\n",
    "    thetas = np.array( [float(\"-inf\")]+[ ( x[i]+x[i+1] )/2 for i in range(0, x.shape[0]-1) ]+[float(\"inf\")] )\n",
    "    Ein = x.shape[0]\n",
    "    sign = 1\n",
    "    target_theta = 0.0\n",
    "    # positive and negative rays\n",
    "    for theta in thetas:\n",
    "        y_positive = np.where(x>theta,1,-1)\n",
    "        y_negative = np.where(x<theta,1,-1)\n",
    "        error_positive = sum(y_positive!=y)\n",
    "        error_negative = sum(y_negative!=y)\n",
    "        if error_positive>error_negative:\n",
    "            if Ein>error_negative:\n",
    "                Ein = error_negative\n",
    "                sign = -1\n",
    "                target_theta = theta\n",
    "        else:\n",
    "            if Ein>error_positive:\n",
    "                Ein = error_positive\n",
    "                sign = 1\n",
    "                target_theta = theta\n",
    "    return Ein, target_theta, sign\n",
    "\n",
    "def main():\n",
    "#     x,y = read_input_data(\"train.dat\")\n",
    "    x = train.values[:, :-1]\n",
    "    y = train.values[:, -1]\n",
    "    # record optimal descision stump parameters\n",
    "    Ein = x.shape[0]\n",
    "    theta = 0\n",
    "    sign = 1\n",
    "    index = 0\n",
    "    # multi decision stump optimal process\n",
    "    for i in range(0,x.shape[1]):\n",
    "        input_x = x[:,i]\n",
    "        input_data = np.transpose(np.array([input_x,y]))\n",
    "        input_data = input_data[np.argsort(input_data[:,0])]\n",
    "        curr_Ein,curr_theta,curr_sign = calculate_Ein(input_data[:,0],input_data[:,1])\n",
    "        if Ein>curr_Ein:\n",
    "            Ein = curr_Ein\n",
    "            theta = curr_theta\n",
    "            sign = curr_sign\n",
    "            index = i\n",
    "    print(\"1:\", Ein*1.0/x.shape[0])\n",
    "    # test process\n",
    "#     test_x,test_y = read_input_data(\"test.dat\")\n",
    "#     test_x = test_x[:,index]\n",
    "    test_x = test[:, :-1]\n",
    "    test_y = test[:, -1]\n",
    "    predict_y = np.array([])\n",
    "    if sign==1:\n",
    "        predict_y = np.where(test_x>theta,1.0,-1.0)\n",
    "    else:\n",
    "        predict_y = np.where(test_x<theta,1.0,-1.0)\n",
    "    Eout = np.sum(predict_y!=test_y)\n",
    "    print (Eout*1.0/test_x.shape[0])\n",
    "    \n",
    "main()"
   ]
  },
  {
   "cell_type": "code",
   "execution_count": null,
   "metadata": {},
   "outputs": [],
   "source": []
  }
 ],
 "metadata": {
  "kernelspec": {
   "display_name": "Python 3",
   "language": "python",
   "name": "python3"
  },
  "language_info": {
   "codemirror_mode": {
    "name": "ipython",
    "version": 3
   },
   "file_extension": ".py",
   "mimetype": "text/x-python",
   "name": "python",
   "nbconvert_exporter": "python",
   "pygments_lexer": "ipython3",
   "version": "3.6.5"
  }
 },
 "nbformat": 4,
 "nbformat_minor": 2
}
