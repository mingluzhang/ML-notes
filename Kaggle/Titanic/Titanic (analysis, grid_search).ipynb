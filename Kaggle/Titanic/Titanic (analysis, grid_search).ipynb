{
 "cells": [
  {
   "cell_type": "markdown",
   "metadata": {},
   "source": [
    "# Titanic with analysis and grid search\n",
    "reference: [Titanic top 4% with ensemble modeling](https://www.kaggle.com/yassineghouzam/titanic-top-4-with-ensemble-modeling)<br>\n",
    "* grid search\n",
    "* normal voting\n",
    "* dummy variables"
   ]
  },
  {
   "cell_type": "code",
   "execution_count": 78,
   "metadata": {},
   "outputs": [],
   "source": [
    "import pandas as pd\n",
    "import numpy as np\n",
    "import sklearn\n",
    "import tensorflow as tf\n",
    "import matplotlib.pyplot as plt\n",
    "import re\n",
    "import seaborn as sb\n",
    "import json\n",
    "from sklearn.metrics import r2_score\n",
    "import xgboost as xgb\n",
    "from sklearn.model_selection import GridSearchCV, cross_val_score, StratifiedKFold, learning_curve"
   ]
  },
  {
   "cell_type": "code",
   "execution_count": 186,
   "metadata": {},
   "outputs": [],
   "source": [
    "CORE_COUNT = 2\n",
    "ONLY_PREDICT = True\n",
    "\n",
    "SEED = 180\n",
    "NFOLDS = 10"
   ]
  },
  {
   "cell_type": "code",
   "execution_count": 187,
   "metadata": {},
   "outputs": [],
   "source": [
    "config = {}"
   ]
  },
  {
   "cell_type": "code",
   "execution_count": 188,
   "metadata": {},
   "outputs": [],
   "source": [
    "config[\"show_visual\"] = False"
   ]
  },
  {
   "cell_type": "code",
   "execution_count": 189,
   "metadata": {},
   "outputs": [],
   "source": [
    "config[\"use_drop_num_outliner\"] = False  # 不适用outliner detection\n",
    "\n",
    "config[\"data_dropped\"] = False\n",
    "config[\"replace_title_to_rare\"] = False\n",
    "config[\"title_to_ordinal\"] = False\n",
    "config[\"converting_sex_feature\"] = False\n",
    "config[\"create_family_size\"] = False\n",
    "config[\"converting_embark_feature\"] = False"
   ]
  },
  {
   "cell_type": "markdown",
   "metadata": {},
   "source": [
    "# Load data"
   ]
  },
  {
   "cell_type": "code",
   "execution_count": 190,
   "metadata": {},
   "outputs": [
    {
     "name": "stdout",
     "output_type": "stream",
     "text": [
      "Data loaded.\n"
     ]
    }
   ],
   "source": [
    "ttrain = pd.read_csv(\"train.csv\")\n",
    "ttest = pd.read_csv(\"test.csv\")\n",
    "label_column = \"Survived\"\n",
    "print(\"Data loaded.\")"
   ]
  },
  {
   "cell_type": "markdown",
   "metadata": {},
   "source": [
    "# Data overview"
   ]
  },
  {
   "cell_type": "code",
   "execution_count": 191,
   "metadata": {},
   "outputs": [],
   "source": [
    "if not ONLY_PREDICT:\n",
    "    print(ttrain.columns.values)\n",
    "    print(len(ttrain.columns.values))\n",
    "\n",
    "    print(ttest.columns.values)\n",
    "    print(len(ttest.columns.values))"
   ]
  },
  {
   "cell_type": "code",
   "execution_count": 192,
   "metadata": {},
   "outputs": [],
   "source": [
    "if not ONLY_PREDICT:\n",
    "    for c in ttrain.columns:\n",
    "        d = ttrain[c]\n",
    "        du = d.unique()\n",
    "        print(c + \".unique = \", len(du))"
   ]
  },
  {
   "cell_type": "code",
   "execution_count": 193,
   "metadata": {},
   "outputs": [
    {
     "data": {
      "text/html": [
       "<div>\n",
       "<style scoped>\n",
       "    .dataframe tbody tr th:only-of-type {\n",
       "        vertical-align: middle;\n",
       "    }\n",
       "\n",
       "    .dataframe tbody tr th {\n",
       "        vertical-align: top;\n",
       "    }\n",
       "\n",
       "    .dataframe thead th {\n",
       "        text-align: right;\n",
       "    }\n",
       "</style>\n",
       "<table border=\"1\" class=\"dataframe\">\n",
       "  <thead>\n",
       "    <tr style=\"text-align: right;\">\n",
       "      <th></th>\n",
       "      <th>PassengerId</th>\n",
       "      <th>Survived</th>\n",
       "      <th>Pclass</th>\n",
       "      <th>Name</th>\n",
       "      <th>Sex</th>\n",
       "      <th>Age</th>\n",
       "      <th>SibSp</th>\n",
       "      <th>Parch</th>\n",
       "      <th>Ticket</th>\n",
       "      <th>Fare</th>\n",
       "      <th>Cabin</th>\n",
       "      <th>Embarked</th>\n",
       "    </tr>\n",
       "  </thead>\n",
       "  <tbody>\n",
       "    <tr>\n",
       "      <th>0</th>\n",
       "      <td>1</td>\n",
       "      <td>0</td>\n",
       "      <td>3</td>\n",
       "      <td>Braund, Mr. Owen Harris</td>\n",
       "      <td>male</td>\n",
       "      <td>22.0</td>\n",
       "      <td>1</td>\n",
       "      <td>0</td>\n",
       "      <td>A/5 21171</td>\n",
       "      <td>7.2500</td>\n",
       "      <td>NaN</td>\n",
       "      <td>S</td>\n",
       "    </tr>\n",
       "    <tr>\n",
       "      <th>1</th>\n",
       "      <td>2</td>\n",
       "      <td>1</td>\n",
       "      <td>1</td>\n",
       "      <td>Cumings, Mrs. John Bradley (Florence Briggs Th...</td>\n",
       "      <td>female</td>\n",
       "      <td>38.0</td>\n",
       "      <td>1</td>\n",
       "      <td>0</td>\n",
       "      <td>PC 17599</td>\n",
       "      <td>71.2833</td>\n",
       "      <td>C85</td>\n",
       "      <td>C</td>\n",
       "    </tr>\n",
       "    <tr>\n",
       "      <th>2</th>\n",
       "      <td>3</td>\n",
       "      <td>1</td>\n",
       "      <td>3</td>\n",
       "      <td>Heikkinen, Miss. Laina</td>\n",
       "      <td>female</td>\n",
       "      <td>26.0</td>\n",
       "      <td>0</td>\n",
       "      <td>0</td>\n",
       "      <td>STON/O2. 3101282</td>\n",
       "      <td>7.9250</td>\n",
       "      <td>NaN</td>\n",
       "      <td>S</td>\n",
       "    </tr>\n",
       "    <tr>\n",
       "      <th>3</th>\n",
       "      <td>4</td>\n",
       "      <td>1</td>\n",
       "      <td>1</td>\n",
       "      <td>Futrelle, Mrs. Jacques Heath (Lily May Peel)</td>\n",
       "      <td>female</td>\n",
       "      <td>35.0</td>\n",
       "      <td>1</td>\n",
       "      <td>0</td>\n",
       "      <td>113803</td>\n",
       "      <td>53.1000</td>\n",
       "      <td>C123</td>\n",
       "      <td>S</td>\n",
       "    </tr>\n",
       "    <tr>\n",
       "      <th>4</th>\n",
       "      <td>5</td>\n",
       "      <td>0</td>\n",
       "      <td>3</td>\n",
       "      <td>Allen, Mr. William Henry</td>\n",
       "      <td>male</td>\n",
       "      <td>35.0</td>\n",
       "      <td>0</td>\n",
       "      <td>0</td>\n",
       "      <td>373450</td>\n",
       "      <td>8.0500</td>\n",
       "      <td>NaN</td>\n",
       "      <td>S</td>\n",
       "    </tr>\n",
       "  </tbody>\n",
       "</table>\n",
       "</div>"
      ],
      "text/plain": [
       "   PassengerId  Survived  Pclass  \\\n",
       "0            1         0       3   \n",
       "1            2         1       1   \n",
       "2            3         1       3   \n",
       "3            4         1       1   \n",
       "4            5         0       3   \n",
       "\n",
       "                                                Name     Sex   Age  SibSp  \\\n",
       "0                            Braund, Mr. Owen Harris    male  22.0      1   \n",
       "1  Cumings, Mrs. John Bradley (Florence Briggs Th...  female  38.0      1   \n",
       "2                             Heikkinen, Miss. Laina  female  26.0      0   \n",
       "3       Futrelle, Mrs. Jacques Heath (Lily May Peel)  female  35.0      1   \n",
       "4                           Allen, Mr. William Henry    male  35.0      0   \n",
       "\n",
       "   Parch            Ticket     Fare Cabin Embarked  \n",
       "0      0         A/5 21171   7.2500   NaN        S  \n",
       "1      0          PC 17599  71.2833   C85        C  \n",
       "2      0  STON/O2. 3101282   7.9250   NaN        S  \n",
       "3      0            113803  53.1000  C123        S  \n",
       "4      0            373450   8.0500   NaN        S  "
      ]
     },
     "execution_count": 193,
     "metadata": {},
     "output_type": "execute_result"
    }
   ],
   "source": [
    "ttrain.head()\n",
    "\n",
    "# no use: PassengerId\n",
    "# string: Name, Ticket, Cabin\n",
    "# categorical: Sex, Embarked, Pclass\n",
    "# numerical: Age, SibSp, Parch, Fare\n",
    "    # SibSp, Parch: can be treated as categorical\n",
    "# label = Survived"
   ]
  },
  {
   "cell_type": "code",
   "execution_count": 194,
   "metadata": {},
   "outputs": [],
   "source": [
    "# ttrain.describe(include='O')"
   ]
  },
  {
   "cell_type": "code",
   "execution_count": 195,
   "metadata": {},
   "outputs": [],
   "source": [
    "# ttrain.describe(include=np.number)"
   ]
  },
  {
   "cell_type": "code",
   "execution_count": 196,
   "metadata": {},
   "outputs": [],
   "source": [
    "if not ONLY_PREDICT:\n",
    "    ttrain.info()\n",
    "    print('_'*40)\n",
    "    ttest.info()"
   ]
  },
  {
   "cell_type": "markdown",
   "metadata": {},
   "source": [
    "# Outliner detection\n",
    "Since outliers can have a dramatic effect on the prediction (espacially for regression problems), i choosed to manage them.<br>\n",
    "<br>\n",
    "I used the Tukey method (Tukey JW., 1977) to detect ouliers which defines an interquartile range comprised between the 1st and 3rd quartile of the distribution values (IQR——四分位数间距). An outlier is a row that have a feature value outside the (IQR +- an outlier step).<br>\n",
    "定义outliner是数值超过分布的四分位数间距 +- outliner step的值。Tukey method<br>\n",
    "<br>\n",
    "I decided to detect outliers from the numerical values features (Age, SibSp, Parch and Fare). Then, i considered outliers as rows that have at least two outlied numerical values.<br>\n",
    "选择数值feature，在row中，如果有超过两个outliner值，则将row作为outliner<br>"
   ]
  },
  {
   "cell_type": "code",
   "execution_count": 197,
   "metadata": {},
   "outputs": [
    {
     "name": "stderr",
     "output_type": "stream",
     "text": [
      "/usr/local/lib/python3.6/site-packages/numpy/lib/function_base.py:4291: RuntimeWarning: Invalid value encountered in percentile\n",
      "  interpolation=interpolation)\n"
     ]
    }
   ],
   "source": [
    "# Outlier detection \n",
    "from collections import Counter\n",
    "\n",
    "def detect_outliers(df, n, features):\n",
    "    \"\"\"\n",
    "    Takes a dataframe df of features and returns a list of the indices\n",
    "    corresponding to the observations containing more than n outliers according\n",
    "    to the Tukey method.\n",
    "    \"\"\"\n",
    "    outlier_indices = []\n",
    "    \n",
    "    # iterate over features(columns)\n",
    "    for col in features:\n",
    "        # 1st quartile (25%)\n",
    "        Q1 = np.percentile(df[col], 25)\n",
    "        # 3rd quartile (75%)\n",
    "        Q3 = np.percentile(df[col], 75)\n",
    "        # Interquartile range (IQR)\n",
    "        IQR = Q3 - Q1\n",
    "        \n",
    "        # outlier step\n",
    "        outlier_step = 1.5 * IQR\n",
    "        \n",
    "        # Determine a list of indices of outliers for feature col\n",
    "        outlier_list_col = df[(df[col] < Q1 - outlier_step) | (df[col] > Q3 + outlier_step )].index\n",
    "        \n",
    "        # append the found outlier indices for col to the list of outlier indices \n",
    "        outlier_indices.extend(outlier_list_col)\n",
    "        \n",
    "    # select observations containing more than 2 outliers\n",
    "    outlier_indices = Counter(outlier_indices)        \n",
    "    multiple_outliers = list( k for k, v in outlier_indices.items() if v > n )\n",
    "    \n",
    "    return multiple_outliers   \n",
    "\n",
    "# detect outliers from Age, SibSp , Parch and Fare\n",
    "# 数值类型的feature只有如下四个。\n",
    "Outliers_to_drop = detect_outliers(ttrain1, 2, [\"Age\", \"SibSp\", \"Parch\", \"Fare\"])\n",
    "\n",
    "if not ONLY_PREDICT:\n",
    "    print(Outliers_to_drop)\n",
    "    \n",
    "if not ONLY_PREDICT:\n",
    "    # Show the outliers rows\n",
    "    ttrain1.loc[Outliers_to_drop]"
   ]
  },
  {
   "cell_type": "markdown",
   "metadata": {},
   "source": [
    "但是个人认为，这四个feature并不像采样数据，这是真实情况的反应，所以不存在measurement error<br>\n",
    "Fare数据跨度大，skewness较大，可以使用np.log<br>\n",
    "Age需要用合适的方式处理缺失值。<br>\n",
    "SibSp和Parch虽然skewness也很大，但是数值是离散分布，可以按照Categorical方式处理分类<br>"
   ]
  },
  {
   "cell_type": "code",
   "execution_count": 198,
   "metadata": {},
   "outputs": [],
   "source": [
    "if not ONLY_PREDICT:\n",
    "    # column_name = \"Age\"\n",
    "    # column_name = \"SibSp\"\n",
    "    # column_name = \"Parch\"\n",
    "    column_name = \"Fare\"\n",
    "    a = ttrain[column_name].dropna()\n",
    "    print(a.describe())\n",
    "    print(\"-\"*10)\n",
    "    print(a.isnull().sum())\n",
    "    print(\"-\"*10)\n",
    "    print(a.skew())\n",
    "\n",
    "    g = sb.distplot(a)"
   ]
  },
  {
   "cell_type": "code",
   "execution_count": 199,
   "metadata": {},
   "outputs": [],
   "source": [
    "# Drop outliers\n",
    "if config.get(\"use_drop_num_outliner\"):\n",
    "    ttrain1 = ttrain1.drop(Outliers_to_drop, axis = 0).reset_index(drop=True)\n",
    "    print(\"use_drop_num_outliner\")"
   ]
  },
  {
   "cell_type": "markdown",
   "metadata": {},
   "source": [
    "# Concatenate train and test"
   ]
  },
  {
   "cell_type": "code",
   "execution_count": 200,
   "metadata": {},
   "outputs": [],
   "source": [
    "import copy\n",
    "ttrain1 = copy.deepcopy(ttrain)\n",
    "ttest1 = copy.deepcopy(ttest)"
   ]
  },
  {
   "cell_type": "code",
   "execution_count": 201,
   "metadata": {
    "scrolled": true
   },
   "outputs": [],
   "source": [
    "dataall = pd.concat(objs=[ttrain1, ttest1], axis=0, sort=False).reset_index(drop=True)\n",
    "dataall = dataall.fillna(np.nan)\n",
    "if not ONLY_PREDICT:\n",
    "    print(dataall.info())\n",
    "    print(\"--\"*20)\n",
    "    print(dataall.isnull().sum())"
   ]
  },
  {
   "cell_type": "markdown",
   "metadata": {},
   "source": [
    "missing values:<br>\n",
    "* Age=263\n",
    "* Fare=1\n",
    "* Cabin=1014\n",
    "* Embarked=2"
   ]
  },
  {
   "cell_type": "markdown",
   "metadata": {},
   "source": [
    "# Feature Analysis"
   ]
  },
  {
   "cell_type": "markdown",
   "metadata": {},
   "source": [
    "### Pclass"
   ]
  },
  {
   "cell_type": "code",
   "execution_count": 202,
   "metadata": {},
   "outputs": [],
   "source": [
    "if config.get(\"show_visual\"):\n",
    "    for x in ttrain[\"Pclass\"].unique(): \n",
    "        ttrain1[\"Age\"][ttrain[\"Pclass\"] == x].plot(kind=\"kde\", label=\"Pclass: {}\".format(x))\n",
    "    plt.legend()"
   ]
  },
  {
   "cell_type": "markdown",
   "metadata": {},
   "source": [
    "### Correlationship in numerical features"
   ]
  },
  {
   "cell_type": "code",
   "execution_count": 203,
   "metadata": {},
   "outputs": [],
   "source": [
    "if config.get(\"show_visual\"):\n",
    "    plt.figure(figsize=(8,6))\n",
    "    plt.title('Pearson Correlation of Features', y=1.05, size=15)\n",
    "    sb.heatmap(dataall[[\"Survived\", \"Age\", \"SibSp\", \"Parch\", \"Fare\"]].corr(),  # 数据tab\n",
    "               linewidths=0.1,\n",
    "               vmax=1.0,  # 值范围\n",
    "               square=True, \n",
    "               cmap=\"coolwarm\", \n",
    "               linecolor=\"white\",  # 间隔线\n",
    "               annot=True)  # 是否显示具体数值\n",
    "\n",
    "# 只有Fare=0.26，和label相关些"
   ]
  },
  {
   "cell_type": "markdown",
   "metadata": {},
   "source": [
    "### SibSp"
   ]
  },
  {
   "cell_type": "code",
   "execution_count": 204,
   "metadata": {},
   "outputs": [],
   "source": [
    "if config.get(\"show_visual\"):\n",
    "    g = sb.catplot(x=\"SibSp\",y=\"Survived\",data=dataall,kind=\"bar\", height=6, palette=\"muted\")\n",
    "    g.despine(left=True)\n",
    "    g = g.set_ylabels(\"survival probability\")\n",
    "    print(dataall[\"SibSp\"].groupby(dataall[\"SibSp\"]).count())"
   ]
  },
  {
   "cell_type": "markdown",
   "metadata": {},
   "source": [
    "### Age"
   ]
  },
  {
   "cell_type": "code",
   "execution_count": 205,
   "metadata": {},
   "outputs": [],
   "source": [
    "# Explore Age distibution \n",
    "if config.get(\"show_visual\"):\n",
    "    g = sb.kdeplot(ttrain1[\"Age\"][(ttrain1[\"Survived\"] == 0) & (ttrain1[\"Age\"].notnull())], color=\"Red\", shade=True)\n",
    "    g = sb.kdeplot(ttrain1[\"Age\"][(ttrain1[\"Survived\"] == 1) & (ttrain1[\"Age\"].notnull())], ax=g, color=\"Blue\", shade=True)\n",
    "    g.set_xlabel(\"Age\")\n",
    "    g.set_ylabel(\"Frequency\")\n",
    "    g = g.legend([\"Not Survived\",\"Survived\"])\n",
    "\n",
    "# 观察peak"
   ]
  },
  {
   "cell_type": "markdown",
   "metadata": {},
   "source": [
    "### Fare"
   ]
  },
  {
   "cell_type": "code",
   "execution_count": 206,
   "metadata": {},
   "outputs": [],
   "source": [
    "# Fare有一个缺失值\n",
    "if not ONLY_PREDICT:\n",
    "    print(dataall[\"Fare\"].isnull().sum())\n",
    "dataall[\"Fare\"] = dataall[\"Fare\"].fillna(dataall[\"Fare\"].median())"
   ]
  },
  {
   "cell_type": "code",
   "execution_count": 207,
   "metadata": {},
   "outputs": [],
   "source": [
    "if config.get(\"show_visual\"):\n",
    "    g = sb.distplot(dataall[\"Fare\"], color=\"m\", label=\"Skewness : %.2f\"%(dataall[\"Fare\"].skew()))\n",
    "    g = g.legend(loc=\"best\")\n",
    "\n",
    "# fare的值偏度很大，会对模型产生影响。使用log值减小偏度"
   ]
  },
  {
   "cell_type": "markdown",
   "metadata": {},
   "source": [
    "### Sex"
   ]
  },
  {
   "cell_type": "code",
   "execution_count": 208,
   "metadata": {},
   "outputs": [],
   "source": [
    "# Explore Pclass vs Survived by Sex\n",
    "if config.get(\"show_visual\"):\n",
    "    g = sb.catplot(x=\"Pclass\", y=\"Survived\", hue=\"Sex\", data=ttrain1, height=6, kind=\"bar\", palette=\"muted\")\n",
    "    g = g.set_ylabels(\"survival probability\")"
   ]
  },
  {
   "cell_type": "code",
   "execution_count": 209,
   "metadata": {
    "scrolled": true
   },
   "outputs": [
    {
     "data": {
      "text/html": [
       "<div>\n",
       "<style scoped>\n",
       "    .dataframe tbody tr th:only-of-type {\n",
       "        vertical-align: middle;\n",
       "    }\n",
       "\n",
       "    .dataframe tbody tr th {\n",
       "        vertical-align: top;\n",
       "    }\n",
       "\n",
       "    .dataframe thead th {\n",
       "        text-align: right;\n",
       "    }\n",
       "</style>\n",
       "<table border=\"1\" class=\"dataframe\">\n",
       "  <thead>\n",
       "    <tr style=\"text-align: right;\">\n",
       "      <th></th>\n",
       "      <th>PassengerId</th>\n",
       "      <th>Survived</th>\n",
       "      <th>Pclass</th>\n",
       "      <th>Name</th>\n",
       "      <th>Sex</th>\n",
       "      <th>Age</th>\n",
       "      <th>SibSp</th>\n",
       "      <th>Parch</th>\n",
       "      <th>Ticket</th>\n",
       "      <th>Fare</th>\n",
       "      <th>Cabin</th>\n",
       "      <th>Embarked</th>\n",
       "    </tr>\n",
       "  </thead>\n",
       "  <tbody>\n",
       "    <tr>\n",
       "      <th>0</th>\n",
       "      <td>1</td>\n",
       "      <td>0.0</td>\n",
       "      <td>3</td>\n",
       "      <td>Braund, Mr. Owen Harris</td>\n",
       "      <td>male</td>\n",
       "      <td>22.0</td>\n",
       "      <td>1</td>\n",
       "      <td>0</td>\n",
       "      <td>A/5 21171</td>\n",
       "      <td>7.2500</td>\n",
       "      <td>NaN</td>\n",
       "      <td>S</td>\n",
       "    </tr>\n",
       "    <tr>\n",
       "      <th>1</th>\n",
       "      <td>2</td>\n",
       "      <td>1.0</td>\n",
       "      <td>1</td>\n",
       "      <td>Cumings, Mrs. John Bradley (Florence Briggs Th...</td>\n",
       "      <td>female</td>\n",
       "      <td>38.0</td>\n",
       "      <td>1</td>\n",
       "      <td>0</td>\n",
       "      <td>PC 17599</td>\n",
       "      <td>71.2833</td>\n",
       "      <td>C85</td>\n",
       "      <td>C</td>\n",
       "    </tr>\n",
       "    <tr>\n",
       "      <th>2</th>\n",
       "      <td>3</td>\n",
       "      <td>1.0</td>\n",
       "      <td>3</td>\n",
       "      <td>Heikkinen, Miss. Laina</td>\n",
       "      <td>female</td>\n",
       "      <td>26.0</td>\n",
       "      <td>0</td>\n",
       "      <td>0</td>\n",
       "      <td>STON/O2. 3101282</td>\n",
       "      <td>7.9250</td>\n",
       "      <td>NaN</td>\n",
       "      <td>S</td>\n",
       "    </tr>\n",
       "    <tr>\n",
       "      <th>3</th>\n",
       "      <td>4</td>\n",
       "      <td>1.0</td>\n",
       "      <td>1</td>\n",
       "      <td>Futrelle, Mrs. Jacques Heath (Lily May Peel)</td>\n",
       "      <td>female</td>\n",
       "      <td>35.0</td>\n",
       "      <td>1</td>\n",
       "      <td>0</td>\n",
       "      <td>113803</td>\n",
       "      <td>53.1000</td>\n",
       "      <td>C123</td>\n",
       "      <td>S</td>\n",
       "    </tr>\n",
       "    <tr>\n",
       "      <th>4</th>\n",
       "      <td>5</td>\n",
       "      <td>0.0</td>\n",
       "      <td>3</td>\n",
       "      <td>Allen, Mr. William Henry</td>\n",
       "      <td>male</td>\n",
       "      <td>35.0</td>\n",
       "      <td>0</td>\n",
       "      <td>0</td>\n",
       "      <td>373450</td>\n",
       "      <td>8.0500</td>\n",
       "      <td>NaN</td>\n",
       "      <td>S</td>\n",
       "    </tr>\n",
       "  </tbody>\n",
       "</table>\n",
       "</div>"
      ],
      "text/plain": [
       "   PassengerId  Survived  Pclass  \\\n",
       "0            1       0.0       3   \n",
       "1            2       1.0       1   \n",
       "2            3       1.0       3   \n",
       "3            4       1.0       1   \n",
       "4            5       0.0       3   \n",
       "\n",
       "                                                Name     Sex   Age  SibSp  \\\n",
       "0                            Braund, Mr. Owen Harris    male  22.0      1   \n",
       "1  Cumings, Mrs. John Bradley (Florence Briggs Th...  female  38.0      1   \n",
       "2                             Heikkinen, Miss. Laina  female  26.0      0   \n",
       "3       Futrelle, Mrs. Jacques Heath (Lily May Peel)  female  35.0      1   \n",
       "4                           Allen, Mr. William Henry    male  35.0      0   \n",
       "\n",
       "   Parch            Ticket     Fare Cabin Embarked  \n",
       "0      0         A/5 21171   7.2500   NaN        S  \n",
       "1      0          PC 17599  71.2833   C85        C  \n",
       "2      0  STON/O2. 3101282   7.9250   NaN        S  \n",
       "3      0            113803  53.1000  C123        S  \n",
       "4      0            373450   8.0500   NaN        S  "
      ]
     },
     "execution_count": 209,
     "metadata": {},
     "output_type": "execute_result"
    }
   ],
   "source": [
    "dataall.head()"
   ]
  },
  {
   "cell_type": "markdown",
   "metadata": {},
   "source": [
    "# Feature engineering"
   ]
  },
  {
   "cell_type": "markdown",
   "metadata": {},
   "source": [
    "### Fare"
   ]
  },
  {
   "cell_type": "code",
   "execution_count": 210,
   "metadata": {},
   "outputs": [],
   "source": [
    "def make_fare_to_log(d):\n",
    "    d[\"Fare\"] = d[\"Fare\"].map(lambda i: np.log(i) if i > 0 else 0)"
   ]
  },
  {
   "cell_type": "code",
   "execution_count": 211,
   "metadata": {},
   "outputs": [
    {
     "name": "stdout",
     "output_type": "stream",
     "text": [
      "make_fare_to_log\n"
     ]
    }
   ],
   "source": [
    "if not config.get(\"make_fare_to_log\"):\n",
    "    make_fare_to_log(dataall)\n",
    "    config[\"make_fare_to_log\"] = True\n",
    "    print(\"make_fare_to_log\")"
   ]
  },
  {
   "cell_type": "code",
   "execution_count": 212,
   "metadata": {},
   "outputs": [],
   "source": [
    "if config.get(\"show_visual\"):\n",
    "    g = sb.distplot(dataall[\"Fare\"], color=\"b\", label=\"Skewness : %.2f\"%(dataall[\"Fare\"].skew()))\n",
    "    g = g.legend(loc=\"best\")"
   ]
  },
  {
   "cell_type": "markdown",
   "metadata": {},
   "source": [
    "### Name/Title"
   ]
  },
  {
   "cell_type": "code",
   "execution_count": 213,
   "metadata": {},
   "outputs": [],
   "source": [
    "# 提取title\n",
    "def extract_title(d):\n",
    "    d[\"Title\"] = d[\"Name\"].str.extract(' ([A-Za-z]+)\\.', expand=False)"
   ]
  },
  {
   "cell_type": "code",
   "execution_count": 214,
   "metadata": {},
   "outputs": [],
   "source": [
    "extract_title(dataall)\n",
    "if not ONLY_PREDICT:\n",
    "    dataall[\"Title\"].head()"
   ]
  },
  {
   "cell_type": "code",
   "execution_count": 215,
   "metadata": {},
   "outputs": [],
   "source": [
    "if not ONLY_PREDICT:\n",
    "    pd.crosstab(dataall['Title'], dataall[\"Sex\"])"
   ]
  },
  {
   "cell_type": "code",
   "execution_count": 216,
   "metadata": {},
   "outputs": [],
   "source": [
    "rare_titles = ['Lady', 'Countess', 'Capt', 'Col', 'Don', 'Dr', 'Major', 'Rev', 'Sir', 'Jonkheer', 'Dona']\n",
    "def replace_title_to_rare(dataset):\n",
    "    dataset['Title'] = dataset['Title'].replace(rare_titles, 'Rare')\n",
    "    dataset['Title'] = dataset['Title'].replace('Mlle', 'Miss')\n",
    "    dataset['Title'] = dataset['Title'].replace('Ms', 'Miss')\n",
    "    dataset['Title'] = dataset['Title'].replace('Mme', 'Mrs')\n",
    "    \n",
    "# dataall[\"Title\"].groupby(dataall[\"Title\"]).count()"
   ]
  },
  {
   "cell_type": "code",
   "execution_count": 217,
   "metadata": {},
   "outputs": [],
   "source": [
    "if not config.get(\"replace_title_to_rare\"):\n",
    "    replace_title_to_rare(dataall)\n",
    "    config[\"replace_title_to_rare\"] = True"
   ]
  },
  {
   "cell_type": "code",
   "execution_count": 218,
   "metadata": {},
   "outputs": [],
   "source": [
    "if not ONLY_PREDICT:\n",
    "    dataall['Title'].groupby(dataall[\"Title\"]).count()"
   ]
  },
  {
   "cell_type": "code",
   "execution_count": 219,
   "metadata": {},
   "outputs": [],
   "source": [
    "if config.get(\"show_visual\"):\n",
    "    g = sb.catplot(x=\"Title\", y=\"Survived\", data=dataall, kind=\"bar\")\n",
    "    g = g.set_xticklabels([\"Master\", \"Miss\", \"Mrs\", \"Mr\", \"Rare\"])\n",
    "    g = g.set_ylabels(\"survival probability\")"
   ]
  },
  {
   "cell_type": "code",
   "execution_count": 220,
   "metadata": {},
   "outputs": [],
   "source": [
    "title_mapping = {\"Mr\": 1, \"Miss\": 2, \"Mrs\": 3, \"Master\": 4, \"Rare\": 5}\n",
    "def title_to_ordinal(dataset):\n",
    "    dataset['Title'] = dataset['Title'].map(title_mapping).astype(np.int32)\n",
    "    dataset['Title'] = dataset['Title'].fillna(0)"
   ]
  },
  {
   "cell_type": "code",
   "execution_count": 221,
   "metadata": {},
   "outputs": [
    {
     "name": "stdout",
     "output_type": "stream",
     "text": [
      "title_to_ordinal\n"
     ]
    }
   ],
   "source": [
    "if not config.get(\"title_to_ordinal\"):\n",
    "    title_to_ordinal(dataall)\n",
    "    config[\"title_to_ordinal\"] = True\n",
    "    print(\"title_to_ordinal\")"
   ]
  },
  {
   "cell_type": "code",
   "execution_count": 222,
   "metadata": {},
   "outputs": [],
   "source": [
    "if not ONLY_PREDICT:\n",
    "    dataall['Title'].groupby(dataall[\"Title\"]).count()"
   ]
  },
  {
   "cell_type": "markdown",
   "metadata": {},
   "source": [
    "### Creating FamilySize"
   ]
  },
  {
   "cell_type": "code",
   "execution_count": 223,
   "metadata": {},
   "outputs": [],
   "source": [
    "def create_family_size(dataset):\n",
    "    dataset[\"FamilySize\"] = dataset[\"SibSp\"] + dataset[\"Parch\"] + 1"
   ]
  },
  {
   "cell_type": "code",
   "execution_count": 224,
   "metadata": {},
   "outputs": [
    {
     "name": "stdout",
     "output_type": "stream",
     "text": [
      "create_family_size\n"
     ]
    }
   ],
   "source": [
    "if not config.get(\"create_family_size\"):\n",
    "    create_family_size(dataall)\n",
    "    config[\"create_family_size\"] = True\n",
    "    print(\"create_family_size\")\n",
    "    \n",
    "if not ONLY_PREDICT:\n",
    "    dataall[['FamilySize', 'Survived']].groupby(['FamilySize'], as_index=False).mean().sort_values(by='Survived', ascending=False)"
   ]
  },
  {
   "cell_type": "code",
   "execution_count": 225,
   "metadata": {},
   "outputs": [],
   "source": [
    "if config.get(\"show_visual\"):\n",
    "    g = sb.catplot(x=\"FamilySize\", y=\"Survived\", data=dataall, kind=\"bar\")\n",
    "    g = g.set_ylabels(\"Survival Probability\")"
   ]
  },
  {
   "cell_type": "markdown",
   "metadata": {},
   "source": [
    "### Converting Embark"
   ]
  },
  {
   "cell_type": "code",
   "execution_count": 226,
   "metadata": {},
   "outputs": [
    {
     "data": {
      "text/plain": [
       "Embarked\n",
       "C    270\n",
       "Q    123\n",
       "S    914\n",
       "Name: Embarked, dtype: int64"
      ]
     },
     "execution_count": 226,
     "metadata": {},
     "output_type": "execute_result"
    }
   ],
   "source": [
    "dataall[\"Embarked\"].groupby(dataall['Embarked']).count()"
   ]
  },
  {
   "cell_type": "code",
   "execution_count": 227,
   "metadata": {},
   "outputs": [],
   "source": [
    "def converting_embark_feature(dataset):\n",
    "    dataset[\"Embarked\"] = dataset[\"Embarked\"].fillna(dataset[\"Embarked\"].dropna().mode().iloc[0])\n",
    "    dataset['Embarked'] = dataset['Embarked'].map({\"Q\": 2, 'S': 1, 'C': 0}).astype(int)"
   ]
  },
  {
   "cell_type": "code",
   "execution_count": 228,
   "metadata": {},
   "outputs": [
    {
     "name": "stdout",
     "output_type": "stream",
     "text": [
      "converting_embark_feature\n"
     ]
    }
   ],
   "source": [
    "if not config.get(\"converting_embark_feature\"):\n",
    "    converting_embark_feature(dataall)\n",
    "    config[\"converting_embark_feature\"] = True\n",
    "    print(\"converting_embark_feature\")"
   ]
  },
  {
   "cell_type": "code",
   "execution_count": 229,
   "metadata": {},
   "outputs": [
    {
     "data": {
      "text/plain": [
       "Embarked\n",
       "0    270\n",
       "1    916\n",
       "2    123\n",
       "Name: Embarked, dtype: int64"
      ]
     },
     "execution_count": 229,
     "metadata": {},
     "output_type": "execute_result"
    }
   ],
   "source": [
    "dataall['Embarked'].groupby(dataall[\"Embarked\"]).count()"
   ]
  },
  {
   "cell_type": "markdown",
   "metadata": {},
   "source": [
    "### Cabin"
   ]
  },
  {
   "cell_type": "code",
   "execution_count": 230,
   "metadata": {},
   "outputs": [],
   "source": [
    "def convert_cabin_to_category(dataset):\n",
    "    dataset[\"Cabin\"] = pd.Series([i[0] if not pd.isnull(i) else 'X' for i in dataset['Cabin'] ])"
   ]
  },
  {
   "cell_type": "code",
   "execution_count": 231,
   "metadata": {},
   "outputs": [
    {
     "data": {
      "text/plain": [
       "Cabin\n",
       "A      22\n",
       "B      65\n",
       "C      94\n",
       "D      46\n",
       "E      41\n",
       "F      21\n",
       "G       5\n",
       "T       1\n",
       "X    1014\n",
       "Name: Cabin, dtype: int64"
      ]
     },
     "execution_count": 231,
     "metadata": {},
     "output_type": "execute_result"
    }
   ],
   "source": [
    "# dataall['Cabin'].groupby(dataall[\"Cabin\"]).count()\n",
    "if not config.get(\"convert_cabin_to_category\"):\n",
    "    convert_cabin_to_category(dataall)\n",
    "    config[\"convert_cabin_to_category\"] = True\n",
    "    \n",
    "dataall['Cabin'].groupby(dataall[\"Cabin\"]).count()"
   ]
  },
  {
   "cell_type": "code",
   "execution_count": 232,
   "metadata": {},
   "outputs": [
    {
     "data": {
      "text/plain": [
       "Cabin\n",
       "1      22\n",
       "2      65\n",
       "3      94\n",
       "4      46\n",
       "5      41\n",
       "6      21\n",
       "7       5\n",
       "8       1\n",
       "9    1014\n",
       "Name: Cabin, dtype: int64"
      ]
     },
     "execution_count": 232,
     "metadata": {},
     "output_type": "execute_result"
    }
   ],
   "source": [
    "if not config.get(\"convert_cabin_to_num\"):\n",
    "    dataall['Cabin'] = dataall['Cabin'].map({\n",
    "        \"B\": 2, 'A': 1, 'C': 3, 'D': 4, 'E': 5, 'F': 6, 'G': 7, 'T': 8, 'X': 9}).astype(int)\n",
    "    config[\"convert_cabin_to_num\"] = True\n",
    "    \n",
    "dataall['Cabin'].groupby(dataall[\"Cabin\"]).count()"
   ]
  },
  {
   "cell_type": "markdown",
   "metadata": {},
   "source": [
    "### Ticket"
   ]
  },
  {
   "cell_type": "code",
   "execution_count": 233,
   "metadata": {},
   "outputs": [],
   "source": [
    "def convert_ticket(d):\n",
    "    res = pd.Series(np.zeros(d[\"Ticket\"].shape))\n",
    "    for i in range(len(d[\"Ticket\"])):\n",
    "        v = d[\"Ticket\"].iloc[i]\n",
    "        if v.isdigit():\n",
    "            res[i] = \"Num\"\n",
    "        else:\n",
    "            res[i] = v.split(\" \")[0].split(\"/\")[0].split(\".\")[0]\n",
    "            \n",
    "        if res[i] in (\"P\", \"PP\"):\n",
    "            res[i] = \"PC\"\n",
    "#         elif res[i] in (\"A4\", \"AQ\"):\n",
    "#             res[i] = \"A\"\n",
    "        elif res[i] in (\"Fa\"):\n",
    "            res[i] = \"F\"\n",
    "        elif res[i] in (\"SCO\", \"SO\"):\n",
    "            res[i] = \"SC\"\n",
    "#         elif res[i] in (\"W\"):\n",
    "#             res[i] = \"WE\"\n",
    "#         elif res[i] in (\"LINE\", \"LP\", \"SW\"):\n",
    "        elif res[i] in (\"LINE\", \"LP\", \"SW\", \"A\", \"A4\", \"AQ\", \"S\", \"CA\", \"W\", \"WE\", \"SOTON\"):\n",
    "            res[i] = \"RARE\"\n",
    "    return res"
   ]
  },
  {
   "cell_type": "code",
   "execution_count": 234,
   "metadata": {},
   "outputs": [],
   "source": [
    "res = convert_ticket(dataall)\n",
    "if not ONLY_PREDICT:\n",
    "    print(res.groupby(res).count())\n",
    "dataall[\"NewTicket\"] = res"
   ]
  },
  {
   "cell_type": "code",
   "execution_count": 235,
   "metadata": {},
   "outputs": [],
   "source": [
    "if config.get(\"show_visual\"):\n",
    "    g = sb.catplot(x=\"NewTicket\", y=\"Survived\", data=dataall, kind=\"bar\")\n",
    "    g = g.set_ylabels(\"Survival Probability\")"
   ]
  },
  {
   "cell_type": "code",
   "execution_count": 236,
   "metadata": {},
   "outputs": [
    {
     "name": "stdout",
     "output_type": "stream",
     "text": [
      "convert_ticket_to_num\n",
      "NewTicket\n",
      "1    137\n",
      "2     98\n",
      "3     22\n",
      "4    957\n",
      "5     55\n",
      "6     13\n",
      "7     27\n",
      "Name: NewTicket, dtype: int64\n"
     ]
    }
   ],
   "source": [
    "if not config.get(\"convert_ticket_to_num\"):\n",
    "    dataall['NewTicket'] = dataall['NewTicket'].map({\n",
    "        \"PC\": 2, 'RARE': 1, 'STON': 3, 'Num': 4, 'C': 5, 'F': 6, 'SC': 7}).astype(int)\n",
    "    config[\"convert_ticket_to_num\"] = True\n",
    "    print(\"convert_ticket_to_num\")\n",
    "    \n",
    "print(dataall['NewTicket'].groupby(dataall['NewTicket']).count())"
   ]
  },
  {
   "cell_type": "markdown",
   "metadata": {},
   "source": [
    "### Sex"
   ]
  },
  {
   "cell_type": "code",
   "execution_count": 237,
   "metadata": {},
   "outputs": [],
   "source": [
    "def converting_sex_feature(dataset):\n",
    "    dataset['Sex'] = dataset['Sex'].map({'female': 1, 'male': 0}).astype(np.int32)"
   ]
  },
  {
   "cell_type": "code",
   "execution_count": 238,
   "metadata": {},
   "outputs": [],
   "source": [
    "if not ONLY_PREDICT:\n",
    "    print(dataall[\"Sex\"].isnull().sum())\n",
    "    dataall['Sex'].groupby(dataall[\"Sex\"]).count()"
   ]
  },
  {
   "cell_type": "code",
   "execution_count": 239,
   "metadata": {},
   "outputs": [
    {
     "name": "stdout",
     "output_type": "stream",
     "text": [
      "converting_sex_feature\n"
     ]
    }
   ],
   "source": [
    "if not config.get(\"converting_sex_feature\"):\n",
    "    converting_sex_feature(dataall)\n",
    "    config[\"converting_sex_feature\"] = True\n",
    "    print(\"converting_sex_feature\")"
   ]
  },
  {
   "cell_type": "code",
   "execution_count": 240,
   "metadata": {},
   "outputs": [
    {
     "data": {
      "text/plain": [
       "Sex\n",
       "0    843\n",
       "1    466\n",
       "Name: Sex, dtype: int64"
      ]
     },
     "execution_count": 240,
     "metadata": {},
     "output_type": "execute_result"
    }
   ],
   "source": [
    "dataall['Sex'].groupby(dataall[\"Sex\"]).count()"
   ]
  },
  {
   "cell_type": "markdown",
   "metadata": {},
   "source": [
    "### Fill nan in  Age\n",
    "Age缺失很多，不能直接简单的用median代替<br>"
   ]
  },
  {
   "cell_type": "code",
   "execution_count": 241,
   "metadata": {},
   "outputs": [
    {
     "data": {
      "text/html": [
       "<div>\n",
       "<style scoped>\n",
       "    .dataframe tbody tr th:only-of-type {\n",
       "        vertical-align: middle;\n",
       "    }\n",
       "\n",
       "    .dataframe tbody tr th {\n",
       "        vertical-align: top;\n",
       "    }\n",
       "\n",
       "    .dataframe thead th {\n",
       "        text-align: right;\n",
       "    }\n",
       "</style>\n",
       "<table border=\"1\" class=\"dataframe\">\n",
       "  <thead>\n",
       "    <tr style=\"text-align: right;\">\n",
       "      <th></th>\n",
       "      <th>PassengerId</th>\n",
       "      <th>Survived</th>\n",
       "      <th>Pclass</th>\n",
       "      <th>Name</th>\n",
       "      <th>Sex</th>\n",
       "      <th>Age</th>\n",
       "      <th>SibSp</th>\n",
       "      <th>Parch</th>\n",
       "      <th>Ticket</th>\n",
       "      <th>Fare</th>\n",
       "      <th>Cabin</th>\n",
       "      <th>Embarked</th>\n",
       "      <th>Title</th>\n",
       "      <th>FamilySize</th>\n",
       "      <th>NewTicket</th>\n",
       "    </tr>\n",
       "  </thead>\n",
       "  <tbody>\n",
       "    <tr>\n",
       "      <th>0</th>\n",
       "      <td>1</td>\n",
       "      <td>0.0</td>\n",
       "      <td>3</td>\n",
       "      <td>Braund, Mr. Owen Harris</td>\n",
       "      <td>0</td>\n",
       "      <td>22.0</td>\n",
       "      <td>1</td>\n",
       "      <td>0</td>\n",
       "      <td>A/5 21171</td>\n",
       "      <td>1.981001</td>\n",
       "      <td>9</td>\n",
       "      <td>1</td>\n",
       "      <td>1</td>\n",
       "      <td>2</td>\n",
       "      <td>1</td>\n",
       "    </tr>\n",
       "    <tr>\n",
       "      <th>1</th>\n",
       "      <td>2</td>\n",
       "      <td>1.0</td>\n",
       "      <td>1</td>\n",
       "      <td>Cumings, Mrs. John Bradley (Florence Briggs Th...</td>\n",
       "      <td>1</td>\n",
       "      <td>38.0</td>\n",
       "      <td>1</td>\n",
       "      <td>0</td>\n",
       "      <td>PC 17599</td>\n",
       "      <td>4.266662</td>\n",
       "      <td>3</td>\n",
       "      <td>0</td>\n",
       "      <td>3</td>\n",
       "      <td>2</td>\n",
       "      <td>2</td>\n",
       "    </tr>\n",
       "    <tr>\n",
       "      <th>2</th>\n",
       "      <td>3</td>\n",
       "      <td>1.0</td>\n",
       "      <td>3</td>\n",
       "      <td>Heikkinen, Miss. Laina</td>\n",
       "      <td>1</td>\n",
       "      <td>26.0</td>\n",
       "      <td>0</td>\n",
       "      <td>0</td>\n",
       "      <td>STON/O2. 3101282</td>\n",
       "      <td>2.070022</td>\n",
       "      <td>9</td>\n",
       "      <td>1</td>\n",
       "      <td>2</td>\n",
       "      <td>1</td>\n",
       "      <td>3</td>\n",
       "    </tr>\n",
       "    <tr>\n",
       "      <th>3</th>\n",
       "      <td>4</td>\n",
       "      <td>1.0</td>\n",
       "      <td>1</td>\n",
       "      <td>Futrelle, Mrs. Jacques Heath (Lily May Peel)</td>\n",
       "      <td>1</td>\n",
       "      <td>35.0</td>\n",
       "      <td>1</td>\n",
       "      <td>0</td>\n",
       "      <td>113803</td>\n",
       "      <td>3.972177</td>\n",
       "      <td>3</td>\n",
       "      <td>1</td>\n",
       "      <td>3</td>\n",
       "      <td>2</td>\n",
       "      <td>4</td>\n",
       "    </tr>\n",
       "    <tr>\n",
       "      <th>4</th>\n",
       "      <td>5</td>\n",
       "      <td>0.0</td>\n",
       "      <td>3</td>\n",
       "      <td>Allen, Mr. William Henry</td>\n",
       "      <td>0</td>\n",
       "      <td>35.0</td>\n",
       "      <td>0</td>\n",
       "      <td>0</td>\n",
       "      <td>373450</td>\n",
       "      <td>2.085672</td>\n",
       "      <td>9</td>\n",
       "      <td>1</td>\n",
       "      <td>1</td>\n",
       "      <td>1</td>\n",
       "      <td>4</td>\n",
       "    </tr>\n",
       "  </tbody>\n",
       "</table>\n",
       "</div>"
      ],
      "text/plain": [
       "   PassengerId  Survived  Pclass  \\\n",
       "0            1       0.0       3   \n",
       "1            2       1.0       1   \n",
       "2            3       1.0       3   \n",
       "3            4       1.0       1   \n",
       "4            5       0.0       3   \n",
       "\n",
       "                                                Name  Sex   Age  SibSp  Parch  \\\n",
       "0                            Braund, Mr. Owen Harris    0  22.0      1      0   \n",
       "1  Cumings, Mrs. John Bradley (Florence Briggs Th...    1  38.0      1      0   \n",
       "2                             Heikkinen, Miss. Laina    1  26.0      0      0   \n",
       "3       Futrelle, Mrs. Jacques Heath (Lily May Peel)    1  35.0      1      0   \n",
       "4                           Allen, Mr. William Henry    0  35.0      0      0   \n",
       "\n",
       "             Ticket      Fare  Cabin  Embarked  Title  FamilySize  NewTicket  \n",
       "0         A/5 21171  1.981001      9         1      1           2          1  \n",
       "1          PC 17599  4.266662      3         0      3           2          2  \n",
       "2  STON/O2. 3101282  2.070022      9         1      2           1          3  \n",
       "3            113803  3.972177      3         1      3           2          4  \n",
       "4            373450  2.085672      9         1      1           1          4  "
      ]
     },
     "execution_count": 241,
     "metadata": {},
     "output_type": "execute_result"
    }
   ],
   "source": [
    "dataall.head()"
   ]
  },
  {
   "cell_type": "code",
   "execution_count": 242,
   "metadata": {},
   "outputs": [
    {
     "data": {
      "text/plain": [
       "<matplotlib.axes._subplots.AxesSubplot at 0x103c5c3c8>"
      ]
     },
     "execution_count": 242,
     "metadata": {},
     "output_type": "execute_result"
    },
    {
     "data": {
      "image/png": "[encoded data removed]",
      "text/plain": [
       "<Figure size 1080x720 with 2 Axes>"
      ]
     },
     "metadata": {},
     "output_type": "display_data"
    }
   ],
   "source": [
    "plt.figure(figsize=(15,10))\n",
    "plt.title('Pearson Correlation of Features', y=1.05, size=15)\n",
    "sb.heatmap(dataall[[\"Age\", \"Pclass\", \"Sex\", \"SibSp\", \"Parch\", \"Fare\", \"Cabin\", \n",
    "                   \"Embarked\", \"Title\", \"FamilySize\", \"NewTicket\"]].corr(),  # 数据tab\n",
    "           linewidths=0.1,\n",
    "           vmax=1.0,  # 值范围\n",
    "           square=True, \n",
    "           cmap=\"coolwarm\", \n",
    "           linecolor=\"white\",  # 间隔线\n",
    "           annot=True)  # 是否显示具体数值\n",
    "\n",
    "# Pclass, SibSp, Parch, Fare, Cabin, FamilySize > 0.1"
   ]
  },
  {
   "cell_type": "code",
   "execution_count": 243,
   "metadata": {},
   "outputs": [],
   "source": [
    "# 这里的思路是，对于缺失的age，如果可以找到相同的SibSp、Parch、Pclass，则使用它们的median，否则使用整体的median\n",
    "# Pclass, SibSp, Parch, Fare, Cabin, FamilySize\n",
    "\n",
    "def guess_age(dataset):\n",
    "    index_NaN_age = list(dataset[\"Age\"][dataset[\"Age\"].isnull()].index)\n",
    "    count = 0\n",
    "    age_med = dataset[\"Age\"].median()\n",
    "    for i in index_NaN_age:\n",
    "        try:\n",
    "            age_pred = dataset[\"Age\"][(\n",
    "                (dataset['SibSp'] == dataset.iloc[i][\"SibSp\"]) & \n",
    "                (dataset['Parch'] == dataset.iloc[i][\"Parch\"]) & \n",
    "                (dataset['Pclass'] == dataset.iloc[i][\"Pclass\"]) &\n",
    "                (abs(dataset['Fare'] - dataset.iloc[i][\"Fare\"]) < 50) &\n",
    "                (dataset[\"Cabin\"] == dataset.iloc[i][\"Cabin\"]) &\n",
    "                (dataset[\"FamilySize\"] == dataset.iloc[i][\"FamilySize\"])\n",
    "            )].median()\n",
    "        except:\n",
    "            age_pred = np.nan\n",
    "        \n",
    "        if not np.isnan(age_pred):\n",
    "            count += 1\n",
    "            dataset['Age'].iloc[i] = age_pred\n",
    "        else:\n",
    "            dataset['Age'].iloc[i] = age_med\n",
    "    \n",
    "    print(\"total missing count =\", len(index_NaN_age), \", find pred count =\", count)\n",
    "    # dataset['Age'] = dataset['Age'].astype(int)"
   ]
  },
  {
   "cell_type": "code",
   "execution_count": 244,
   "metadata": {},
   "outputs": [
    {
     "name": "stderr",
     "output_type": "stream",
     "text": [
      "/usr/local/lib/python3.6/site-packages/pandas/core/indexing.py:189: SettingWithCopyWarning: \n",
      "A value is trying to be set on a copy of a slice from a DataFrame\n",
      "\n",
      "See the caveats in the documentation: http://pandas.pydata.org/pandas-docs/stable/indexing.html#indexing-view-versus-copy\n",
      "  self._setitem_with_indexer(indexer, value)\n",
      "/usr/local/lib/python3.6/site-packages/numpy/lib/nanfunctions.py:1018: RuntimeWarning: Mean of empty slice\n",
      "  return np.nanmean(a, axis, out=out, keepdims=keepdims)\n"
     ]
    },
    {
     "name": "stdout",
     "output_type": "stream",
     "text": [
      "total missing count = 263 , find pred count = 261\n"
     ]
    }
   ],
   "source": [
    "if not config.get(\"guess_age\"):\n",
    "    guess_age(dataall)\n",
    "    config[\"guess_age\"] = True\n",
    "    print(\"guess_age\")\n",
    "\n",
    "# 256个缺失中，有255个找到了对应的median"
   ]
  },
  {
   "cell_type": "code",
   "execution_count": 245,
   "metadata": {},
   "outputs": [],
   "source": [
    "# dataall[\"Age\"] = np.hstack([ttrain[\"Age\"], ttest[\"Age\"]])\n",
    "# print(dataall[\"Age\"].isnull().sum())"
   ]
  },
  {
   "cell_type": "markdown",
   "metadata": {},
   "source": [
    "### Dummy categories"
   ]
  },
  {
   "cell_type": "code",
   "execution_count": 246,
   "metadata": {},
   "outputs": [
    {
     "data": {
      "text/html": [
       "<div>\n",
       "<style scoped>\n",
       "    .dataframe tbody tr th:only-of-type {\n",
       "        vertical-align: middle;\n",
       "    }\n",
       "\n",
       "    .dataframe tbody tr th {\n",
       "        vertical-align: top;\n",
       "    }\n",
       "\n",
       "    .dataframe thead th {\n",
       "        text-align: right;\n",
       "    }\n",
       "</style>\n",
       "<table border=\"1\" class=\"dataframe\">\n",
       "  <thead>\n",
       "    <tr style=\"text-align: right;\">\n",
       "      <th></th>\n",
       "      <th>PassengerId</th>\n",
       "      <th>Survived</th>\n",
       "      <th>Pclass</th>\n",
       "      <th>Sex</th>\n",
       "      <th>Age</th>\n",
       "      <th>SibSp</th>\n",
       "      <th>Parch</th>\n",
       "      <th>Fare</th>\n",
       "      <th>Cabin</th>\n",
       "      <th>Embarked</th>\n",
       "      <th>Title</th>\n",
       "      <th>FamilySize</th>\n",
       "      <th>NewTicket</th>\n",
       "    </tr>\n",
       "  </thead>\n",
       "  <tbody>\n",
       "    <tr>\n",
       "      <th>count</th>\n",
       "      <td>1309.000000</td>\n",
       "      <td>891.000000</td>\n",
       "      <td>1309.000000</td>\n",
       "      <td>1309.000000</td>\n",
       "      <td>1309.000000</td>\n",
       "      <td>1309.000000</td>\n",
       "      <td>1309.000000</td>\n",
       "      <td>1309.000000</td>\n",
       "      <td>1309.000000</td>\n",
       "      <td>1309.000000</td>\n",
       "      <td>1309.000000</td>\n",
       "      <td>1309.000000</td>\n",
       "      <td>1309.000000</td>\n",
       "    </tr>\n",
       "    <tr>\n",
       "      <th>mean</th>\n",
       "      <td>655.000000</td>\n",
       "      <td>0.383838</td>\n",
       "      <td>2.294882</td>\n",
       "      <td>0.355997</td>\n",
       "      <td>29.178892</td>\n",
       "      <td>0.498854</td>\n",
       "      <td>0.385027</td>\n",
       "      <td>2.910408</td>\n",
       "      <td>7.729565</td>\n",
       "      <td>0.887701</td>\n",
       "      <td>1.732620</td>\n",
       "      <td>1.883881</td>\n",
       "      <td>3.643239</td>\n",
       "    </tr>\n",
       "    <tr>\n",
       "      <th>std</th>\n",
       "      <td>378.020061</td>\n",
       "      <td>0.486592</td>\n",
       "      <td>0.837836</td>\n",
       "      <td>0.478997</td>\n",
       "      <td>13.266469</td>\n",
       "      <td>1.041658</td>\n",
       "      <td>0.865560</td>\n",
       "      <td>1.003886</td>\n",
       "      <td>2.454520</td>\n",
       "      <td>0.536505</td>\n",
       "      <td>1.022087</td>\n",
       "      <td>1.583639</td>\n",
       "      <td>1.182955</td>\n",
       "    </tr>\n",
       "    <tr>\n",
       "      <th>min</th>\n",
       "      <td>1.000000</td>\n",
       "      <td>0.000000</td>\n",
       "      <td>1.000000</td>\n",
       "      <td>0.000000</td>\n",
       "      <td>0.170000</td>\n",
       "      <td>0.000000</td>\n",
       "      <td>0.000000</td>\n",
       "      <td>0.000000</td>\n",
       "      <td>1.000000</td>\n",
       "      <td>0.000000</td>\n",
       "      <td>1.000000</td>\n",
       "      <td>1.000000</td>\n",
       "      <td>1.000000</td>\n",
       "    </tr>\n",
       "    <tr>\n",
       "      <th>25%</th>\n",
       "      <td>328.000000</td>\n",
       "      <td>0.000000</td>\n",
       "      <td>2.000000</td>\n",
       "      <td>0.000000</td>\n",
       "      <td>22.000000</td>\n",
       "      <td>0.000000</td>\n",
       "      <td>0.000000</td>\n",
       "      <td>2.066331</td>\n",
       "      <td>9.000000</td>\n",
       "      <td>1.000000</td>\n",
       "      <td>1.000000</td>\n",
       "      <td>1.000000</td>\n",
       "      <td>4.000000</td>\n",
       "    </tr>\n",
       "    <tr>\n",
       "      <th>50%</th>\n",
       "      <td>655.000000</td>\n",
       "      <td>0.000000</td>\n",
       "      <td>3.000000</td>\n",
       "      <td>0.000000</td>\n",
       "      <td>26.000000</td>\n",
       "      <td>0.000000</td>\n",
       "      <td>0.000000</td>\n",
       "      <td>2.670985</td>\n",
       "      <td>9.000000</td>\n",
       "      <td>1.000000</td>\n",
       "      <td>1.000000</td>\n",
       "      <td>1.000000</td>\n",
       "      <td>4.000000</td>\n",
       "    </tr>\n",
       "    <tr>\n",
       "      <th>75%</th>\n",
       "      <td>982.000000</td>\n",
       "      <td>1.000000</td>\n",
       "      <td>3.000000</td>\n",
       "      <td>1.000000</td>\n",
       "      <td>36.000000</td>\n",
       "      <td>1.000000</td>\n",
       "      <td>0.000000</td>\n",
       "      <td>3.442819</td>\n",
       "      <td>9.000000</td>\n",
       "      <td>1.000000</td>\n",
       "      <td>2.000000</td>\n",
       "      <td>2.000000</td>\n",
       "      <td>4.000000</td>\n",
       "    </tr>\n",
       "    <tr>\n",
       "      <th>max</th>\n",
       "      <td>1309.000000</td>\n",
       "      <td>1.000000</td>\n",
       "      <td>3.000000</td>\n",
       "      <td>1.000000</td>\n",
       "      <td>80.000000</td>\n",
       "      <td>8.000000</td>\n",
       "      <td>9.000000</td>\n",
       "      <td>6.238967</td>\n",
       "      <td>9.000000</td>\n",
       "      <td>2.000000</td>\n",
       "      <td>5.000000</td>\n",
       "      <td>11.000000</td>\n",
       "      <td>7.000000</td>\n",
       "    </tr>\n",
       "  </tbody>\n",
       "</table>\n",
       "</div>"
      ],
      "text/plain": [
       "       PassengerId    Survived       Pclass          Sex          Age  \\\n",
       "count  1309.000000  891.000000  1309.000000  1309.000000  1309.000000   \n",
       "mean    655.000000    0.383838     2.294882     0.355997    29.178892   \n",
       "std     378.020061    0.486592     0.837836     0.478997    13.266469   \n",
       "min       1.000000    0.000000     1.000000     0.000000     0.170000   \n",
       "25%     328.000000    0.000000     2.000000     0.000000    22.000000   \n",
       "50%     655.000000    0.000000     3.000000     0.000000    26.000000   \n",
       "75%     982.000000    1.000000     3.000000     1.000000    36.000000   \n",
       "max    1309.000000    1.000000     3.000000     1.000000    80.000000   \n",
       "\n",
       "             SibSp        Parch         Fare        Cabin     Embarked  \\\n",
       "count  1309.000000  1309.000000  1309.000000  1309.000000  1309.000000   \n",
       "mean      0.498854     0.385027     2.910408     7.729565     0.887701   \n",
       "std       1.041658     0.865560     1.003886     2.454520     0.536505   \n",
       "min       0.000000     0.000000     0.000000     1.000000     0.000000   \n",
       "25%       0.000000     0.000000     2.066331     9.000000     1.000000   \n",
       "50%       0.000000     0.000000     2.670985     9.000000     1.000000   \n",
       "75%       1.000000     0.000000     3.442819     9.000000     1.000000   \n",
       "max       8.000000     9.000000     6.238967     9.000000     2.000000   \n",
       "\n",
       "             Title   FamilySize    NewTicket  \n",
       "count  1309.000000  1309.000000  1309.000000  \n",
       "mean      1.732620     1.883881     3.643239  \n",
       "std       1.022087     1.583639     1.182955  \n",
       "min       1.000000     1.000000     1.000000  \n",
       "25%       1.000000     1.000000     4.000000  \n",
       "50%       1.000000     1.000000     4.000000  \n",
       "75%       2.000000     2.000000     4.000000  \n",
       "max       5.000000    11.000000     7.000000  "
      ]
     },
     "execution_count": 246,
     "metadata": {},
     "output_type": "execute_result"
    }
   ],
   "source": [
    "dataall.describe()"
   ]
  },
  {
   "cell_type": "code",
   "execution_count": 249,
   "metadata": {},
   "outputs": [
    {
     "name": "stdout",
     "output_type": "stream",
     "text": [
      "PassengerId.unique =  1309 , nan =  0\n",
      "Survived.unique =  3 , nan =  418\n",
      "Pclass.unique =  3 , nan =  0\n",
      "Name.unique =  1307 , nan =  0\n",
      "Sex.unique =  2 , nan =  0\n",
      "Age.unique =  104 , nan =  0\n",
      "SibSp.unique =  7 , nan =  0\n",
      "Parch.unique =  8 , nan =  0\n",
      "Ticket.unique =  929 , nan =  0\n",
      "Fare.unique =  281 , nan =  0\n",
      "Cabin.unique =  9 , nan =  0\n",
      "Embarked.unique =  3 , nan =  0\n",
      "Title.unique =  5 , nan =  0\n",
      "FamilySize.unique =  9 , nan =  0\n",
      "NewTicket.unique =  7 , nan =  0\n"
     ]
    }
   ],
   "source": [
    "for c in dataall.columns:\n",
    "    d = dataall[c]\n",
    "    du = d.unique()\n",
    "    print(c + \".unique = \", len(du), \", nan = \", d.isnull().sum())"
   ]
  },
  {
   "cell_type": "code",
   "execution_count": 250,
   "metadata": {},
   "outputs": [],
   "source": [
    "# Pclass\n",
    "dummy_category = [\"Pclass\", \"SibSp\", \"Parch\", \"Embarked\", \"Cabin\", \"Title\", \"FamilySize\", \"NewTicket\"]\n",
    "for name in dummy_category:\n",
    "    dataall[name] = dataall[name].astype(\"category\")\n",
    "    dataall = pd.get_dummies(dataall, columns=[name])"
   ]
  },
  {
   "cell_type": "markdown",
   "metadata": {},
   "source": [
    "### Dropping data"
   ]
  },
  {
   "cell_type": "code",
   "execution_count": 257,
   "metadata": {},
   "outputs": [
    {
     "name": "stdout",
     "output_type": "stream",
     "text": [
      "Index(['PassengerId', 'Survived', 'Name', 'Sex', 'Age', 'Ticket', 'Fare',\n",
      "       'Pclass_1', 'Pclass_2', 'Pclass_3', 'SibSp_0', 'SibSp_1', 'SibSp_2',\n",
      "       'SibSp_3', 'SibSp_4', 'SibSp_5', 'SibSp_8', 'Parch_0', 'Parch_1',\n",
      "       'Parch_2', 'Parch_3', 'Parch_4', 'Parch_5', 'Parch_6', 'Parch_9',\n",
      "       'Embarked_0', 'Embarked_1', 'Embarked_2', 'Cabin_1', 'Cabin_2',\n",
      "       'Cabin_3', 'Cabin_4', 'Cabin_5', 'Cabin_6', 'Cabin_7', 'Cabin_8',\n",
      "       'Cabin_9', 'Title_1', 'Title_2', 'Title_3', 'Title_4', 'Title_5',\n",
      "       'FamilySize_1', 'FamilySize_2', 'FamilySize_3', 'FamilySize_4',\n",
      "       'FamilySize_5', 'FamilySize_6', 'FamilySize_7', 'FamilySize_8',\n",
      "       'FamilySize_11', 'NewTicket_1', 'NewTicket_2', 'NewTicket_3',\n",
      "       'NewTicket_4', 'NewTicket_5', 'NewTicket_6', 'NewTicket_7'],\n",
      "      dtype='object')\n"
     ]
    }
   ],
   "source": [
    "print(dataall.columns)"
   ]
  },
  {
   "cell_type": "code",
   "execution_count": 258,
   "metadata": {},
   "outputs": [
    {
     "name": "stdout",
     "output_type": "stream",
     "text": [
      "Index(['Survived', 'Sex', 'Age', 'Fare', 'Pclass_1', 'Pclass_2', 'Pclass_3',\n",
      "       'SibSp_0', 'SibSp_1', 'SibSp_2', 'SibSp_3', 'SibSp_4', 'SibSp_5',\n",
      "       'SibSp_8', 'Parch_0', 'Parch_1', 'Parch_2', 'Parch_3', 'Parch_4',\n",
      "       'Parch_5', 'Parch_6', 'Parch_9', 'Embarked_0', 'Embarked_1',\n",
      "       'Embarked_2', 'Cabin_1', 'Cabin_2', 'Cabin_3', 'Cabin_4', 'Cabin_5',\n",
      "       'Cabin_6', 'Cabin_7', 'Cabin_8', 'Cabin_9', 'Title_1', 'Title_2',\n",
      "       'Title_3', 'Title_4', 'Title_5', 'FamilySize_1', 'FamilySize_2',\n",
      "       'FamilySize_3', 'FamilySize_4', 'FamilySize_5', 'FamilySize_6',\n",
      "       'FamilySize_7', 'FamilySize_8', 'FamilySize_11', 'NewTicket_1',\n",
      "       'NewTicket_2', 'NewTicket_3', 'NewTicket_4', 'NewTicket_5',\n",
      "       'NewTicket_6', 'NewTicket_7'],\n",
      "      dtype='object')\n"
     ]
    }
   ],
   "source": [
    "# data_before = dataall\n",
    "# dataall = data_before\n",
    "\n",
    "if not config.get(\"data_dropped\"):\n",
    "    dataall = dataall.drop([\"PassengerId\", \"Name\", \"Ticket\"], axis=1)\n",
    "    config[\"data_dropped\"] = True\n",
    "\n",
    "print(dataall.columns)"
   ]
  },
  {
   "cell_type": "markdown",
   "metadata": {},
   "source": [
    "### Summary"
   ]
  },
  {
   "cell_type": "code",
   "execution_count": 259,
   "metadata": {},
   "outputs": [
    {
     "data": {
      "text/html": [
       "<div>\n",
       "<style scoped>\n",
       "    .dataframe tbody tr th:only-of-type {\n",
       "        vertical-align: middle;\n",
       "    }\n",
       "\n",
       "    .dataframe tbody tr th {\n",
       "        vertical-align: top;\n",
       "    }\n",
       "\n",
       "    .dataframe thead th {\n",
       "        text-align: right;\n",
       "    }\n",
       "</style>\n",
       "<table border=\"1\" class=\"dataframe\">\n",
       "  <thead>\n",
       "    <tr style=\"text-align: right;\">\n",
       "      <th></th>\n",
       "      <th>Survived</th>\n",
       "      <th>Sex</th>\n",
       "      <th>Age</th>\n",
       "      <th>Fare</th>\n",
       "      <th>Pclass_1</th>\n",
       "      <th>Pclass_2</th>\n",
       "      <th>Pclass_3</th>\n",
       "      <th>SibSp_0</th>\n",
       "      <th>SibSp_1</th>\n",
       "      <th>SibSp_2</th>\n",
       "      <th>...</th>\n",
       "      <th>FamilySize_7</th>\n",
       "      <th>FamilySize_8</th>\n",
       "      <th>FamilySize_11</th>\n",
       "      <th>NewTicket_1</th>\n",
       "      <th>NewTicket_2</th>\n",
       "      <th>NewTicket_3</th>\n",
       "      <th>NewTicket_4</th>\n",
       "      <th>NewTicket_5</th>\n",
       "      <th>NewTicket_6</th>\n",
       "      <th>NewTicket_7</th>\n",
       "    </tr>\n",
       "  </thead>\n",
       "  <tbody>\n",
       "    <tr>\n",
       "      <th>count</th>\n",
       "      <td>891.000000</td>\n",
       "      <td>1309.000000</td>\n",
       "      <td>1309.000000</td>\n",
       "      <td>1309.000000</td>\n",
       "      <td>1309.000000</td>\n",
       "      <td>1309.000000</td>\n",
       "      <td>1309.000000</td>\n",
       "      <td>1309.000000</td>\n",
       "      <td>1309.000000</td>\n",
       "      <td>1309.000000</td>\n",
       "      <td>...</td>\n",
       "      <td>1309.000000</td>\n",
       "      <td>1309.000000</td>\n",
       "      <td>1309.000000</td>\n",
       "      <td>1309.000000</td>\n",
       "      <td>1309.000000</td>\n",
       "      <td>1309.000000</td>\n",
       "      <td>1309.000000</td>\n",
       "      <td>1309.000000</td>\n",
       "      <td>1309.000000</td>\n",
       "      <td>1309.000000</td>\n",
       "    </tr>\n",
       "    <tr>\n",
       "      <th>mean</th>\n",
       "      <td>0.383838</td>\n",
       "      <td>0.355997</td>\n",
       "      <td>29.178892</td>\n",
       "      <td>2.910408</td>\n",
       "      <td>0.246753</td>\n",
       "      <td>0.211612</td>\n",
       "      <td>0.541635</td>\n",
       "      <td>0.680672</td>\n",
       "      <td>0.243697</td>\n",
       "      <td>0.032086</td>\n",
       "      <td>...</td>\n",
       "      <td>0.012223</td>\n",
       "      <td>0.006112</td>\n",
       "      <td>0.008403</td>\n",
       "      <td>0.104660</td>\n",
       "      <td>0.074866</td>\n",
       "      <td>0.016807</td>\n",
       "      <td>0.731092</td>\n",
       "      <td>0.042017</td>\n",
       "      <td>0.009931</td>\n",
       "      <td>0.020626</td>\n",
       "    </tr>\n",
       "    <tr>\n",
       "      <th>std</th>\n",
       "      <td>0.486592</td>\n",
       "      <td>0.478997</td>\n",
       "      <td>13.266469</td>\n",
       "      <td>1.003886</td>\n",
       "      <td>0.431287</td>\n",
       "      <td>0.408607</td>\n",
       "      <td>0.498454</td>\n",
       "      <td>0.466394</td>\n",
       "      <td>0.429476</td>\n",
       "      <td>0.176295</td>\n",
       "      <td>...</td>\n",
       "      <td>0.109922</td>\n",
       "      <td>0.077967</td>\n",
       "      <td>0.091319</td>\n",
       "      <td>0.306232</td>\n",
       "      <td>0.263276</td>\n",
       "      <td>0.128596</td>\n",
       "      <td>0.443561</td>\n",
       "      <td>0.200704</td>\n",
       "      <td>0.099197</td>\n",
       "      <td>0.142184</td>\n",
       "    </tr>\n",
       "    <tr>\n",
       "      <th>min</th>\n",
       "      <td>0.000000</td>\n",
       "      <td>0.000000</td>\n",
       "      <td>0.170000</td>\n",
       "      <td>0.000000</td>\n",
       "      <td>0.000000</td>\n",
       "      <td>0.000000</td>\n",
       "      <td>0.000000</td>\n",
       "      <td>0.000000</td>\n",
       "      <td>0.000000</td>\n",
       "      <td>0.000000</td>\n",
       "      <td>...</td>\n",
       "      <td>0.000000</td>\n",
       "      <td>0.000000</td>\n",
       "      <td>0.000000</td>\n",
       "      <td>0.000000</td>\n",
       "      <td>0.000000</td>\n",
       "      <td>0.000000</td>\n",
       "      <td>0.000000</td>\n",
       "      <td>0.000000</td>\n",
       "      <td>0.000000</td>\n",
       "      <td>0.000000</td>\n",
       "    </tr>\n",
       "    <tr>\n",
       "      <th>25%</th>\n",
       "      <td>0.000000</td>\n",
       "      <td>0.000000</td>\n",
       "      <td>22.000000</td>\n",
       "      <td>2.066331</td>\n",
       "      <td>0.000000</td>\n",
       "      <td>0.000000</td>\n",
       "      <td>0.000000</td>\n",
       "      <td>0.000000</td>\n",
       "      <td>0.000000</td>\n",
       "      <td>0.000000</td>\n",
       "      <td>...</td>\n",
       "      <td>0.000000</td>\n",
       "      <td>0.000000</td>\n",
       "      <td>0.000000</td>\n",
       "      <td>0.000000</td>\n",
       "      <td>0.000000</td>\n",
       "      <td>0.000000</td>\n",
       "      <td>0.000000</td>\n",
       "      <td>0.000000</td>\n",
       "      <td>0.000000</td>\n",
       "      <td>0.000000</td>\n",
       "    </tr>\n",
       "    <tr>\n",
       "      <th>50%</th>\n",
       "      <td>0.000000</td>\n",
       "      <td>0.000000</td>\n",
       "      <td>26.000000</td>\n",
       "      <td>2.670985</td>\n",
       "      <td>0.000000</td>\n",
       "      <td>0.000000</td>\n",
       "      <td>1.000000</td>\n",
       "      <td>1.000000</td>\n",
       "      <td>0.000000</td>\n",
       "      <td>0.000000</td>\n",
       "      <td>...</td>\n",
       "      <td>0.000000</td>\n",
       "      <td>0.000000</td>\n",
       "      <td>0.000000</td>\n",
       "      <td>0.000000</td>\n",
       "      <td>0.000000</td>\n",
       "      <td>0.000000</td>\n",
       "      <td>1.000000</td>\n",
       "      <td>0.000000</td>\n",
       "      <td>0.000000</td>\n",
       "      <td>0.000000</td>\n",
       "    </tr>\n",
       "    <tr>\n",
       "      <th>75%</th>\n",
       "      <td>1.000000</td>\n",
       "      <td>1.000000</td>\n",
       "      <td>36.000000</td>\n",
       "      <td>3.442819</td>\n",
       "      <td>0.000000</td>\n",
       "      <td>0.000000</td>\n",
       "      <td>1.000000</td>\n",
       "      <td>1.000000</td>\n",
       "      <td>0.000000</td>\n",
       "      <td>0.000000</td>\n",
       "      <td>...</td>\n",
       "      <td>0.000000</td>\n",
       "      <td>0.000000</td>\n",
       "      <td>0.000000</td>\n",
       "      <td>0.000000</td>\n",
       "      <td>0.000000</td>\n",
       "      <td>0.000000</td>\n",
       "      <td>1.000000</td>\n",
       "      <td>0.000000</td>\n",
       "      <td>0.000000</td>\n",
       "      <td>0.000000</td>\n",
       "    </tr>\n",
       "    <tr>\n",
       "      <th>max</th>\n",
       "      <td>1.000000</td>\n",
       "      <td>1.000000</td>\n",
       "      <td>80.000000</td>\n",
       "      <td>6.238967</td>\n",
       "      <td>1.000000</td>\n",
       "      <td>1.000000</td>\n",
       "      <td>1.000000</td>\n",
       "      <td>1.000000</td>\n",
       "      <td>1.000000</td>\n",
       "      <td>1.000000</td>\n",
       "      <td>...</td>\n",
       "      <td>1.000000</td>\n",
       "      <td>1.000000</td>\n",
       "      <td>1.000000</td>\n",
       "      <td>1.000000</td>\n",
       "      <td>1.000000</td>\n",
       "      <td>1.000000</td>\n",
       "      <td>1.000000</td>\n",
       "      <td>1.000000</td>\n",
       "      <td>1.000000</td>\n",
       "      <td>1.000000</td>\n",
       "    </tr>\n",
       "  </tbody>\n",
       "</table>\n",
       "<p>8 rows × 55 columns</p>\n",
       "</div>"
      ],
      "text/plain": [
       "         Survived          Sex          Age         Fare     Pclass_1  \\\n",
       "count  891.000000  1309.000000  1309.000000  1309.000000  1309.000000   \n",
       "mean     0.383838     0.355997    29.178892     2.910408     0.246753   \n",
       "std      0.486592     0.478997    13.266469     1.003886     0.431287   \n",
       "min      0.000000     0.000000     0.170000     0.000000     0.000000   \n",
       "25%      0.000000     0.000000    22.000000     2.066331     0.000000   \n",
       "50%      0.000000     0.000000    26.000000     2.670985     0.000000   \n",
       "75%      1.000000     1.000000    36.000000     3.442819     0.000000   \n",
       "max      1.000000     1.000000    80.000000     6.238967     1.000000   \n",
       "\n",
       "          Pclass_2     Pclass_3      SibSp_0      SibSp_1      SibSp_2  \\\n",
       "count  1309.000000  1309.000000  1309.000000  1309.000000  1309.000000   \n",
       "mean      0.211612     0.541635     0.680672     0.243697     0.032086   \n",
       "std       0.408607     0.498454     0.466394     0.429476     0.176295   \n",
       "min       0.000000     0.000000     0.000000     0.000000     0.000000   \n",
       "25%       0.000000     0.000000     0.000000     0.000000     0.000000   \n",
       "50%       0.000000     1.000000     1.000000     0.000000     0.000000   \n",
       "75%       0.000000     1.000000     1.000000     0.000000     0.000000   \n",
       "max       1.000000     1.000000     1.000000     1.000000     1.000000   \n",
       "\n",
       "          ...       FamilySize_7  FamilySize_8  FamilySize_11  NewTicket_1  \\\n",
       "count     ...        1309.000000   1309.000000    1309.000000  1309.000000   \n",
       "mean      ...           0.012223      0.006112       0.008403     0.104660   \n",
       "std       ...           0.109922      0.077967       0.091319     0.306232   \n",
       "min       ...           0.000000      0.000000       0.000000     0.000000   \n",
       "25%       ...           0.000000      0.000000       0.000000     0.000000   \n",
       "50%       ...           0.000000      0.000000       0.000000     0.000000   \n",
       "75%       ...           0.000000      0.000000       0.000000     0.000000   \n",
       "max       ...           1.000000      1.000000       1.000000     1.000000   \n",
       "\n",
       "       NewTicket_2  NewTicket_3  NewTicket_4  NewTicket_5  NewTicket_6  \\\n",
       "count  1309.000000  1309.000000  1309.000000  1309.000000  1309.000000   \n",
       "mean      0.074866     0.016807     0.731092     0.042017     0.009931   \n",
       "std       0.263276     0.128596     0.443561     0.200704     0.099197   \n",
       "min       0.000000     0.000000     0.000000     0.000000     0.000000   \n",
       "25%       0.000000     0.000000     0.000000     0.000000     0.000000   \n",
       "50%       0.000000     0.000000     1.000000     0.000000     0.000000   \n",
       "75%       0.000000     0.000000     1.000000     0.000000     0.000000   \n",
       "max       1.000000     1.000000     1.000000     1.000000     1.000000   \n",
       "\n",
       "       NewTicket_7  \n",
       "count  1309.000000  \n",
       "mean      0.020626  \n",
       "std       0.142184  \n",
       "min       0.000000  \n",
       "25%       0.000000  \n",
       "50%       0.000000  \n",
       "75%       0.000000  \n",
       "max       1.000000  \n",
       "\n",
       "[8 rows x 55 columns]"
      ]
     },
     "execution_count": 259,
     "metadata": {},
     "output_type": "execute_result"
    }
   ],
   "source": [
    "dataall.describe()"
   ]
  },
  {
   "cell_type": "code",
   "execution_count": 260,
   "metadata": {},
   "outputs": [],
   "source": [
    "if config.get(\"show_visual\"):\n",
    "    colormap = plt.cm.RdBu\n",
    "    plt.figure(figsize=(14,12))\n",
    "    plt.title('Pearson Correlation of Features', y=1.05, size=15)\n",
    "    sb.heatmap(dataall.astype(float).corr(),\n",
    "               linewidths=0.1,\n",
    "               vmax=1.0, \n",
    "               square=True, \n",
    "               cmap=colormap, \n",
    "               linecolor='white', \n",
    "               annot=True)"
   ]
  },
  {
   "cell_type": "markdown",
   "metadata": {},
   "source": [
    "# Preperation"
   ]
  },
  {
   "cell_type": "code",
   "execution_count": 261,
   "metadata": {},
   "outputs": [
    {
     "name": "stdout",
     "output_type": "stream",
     "text": [
      "(891, 54)\n",
      "(891,)\n",
      "(418, 54)\n"
     ]
    }
   ],
   "source": [
    "test_len = ttest.shape[0]\n",
    "total_len = dataall.shape[0]\n",
    "train_len = total_len - test_len\n",
    "\n",
    "X_train = dataall.iloc[:train_len]\n",
    "X_test = dataall.iloc[train_len:]\n",
    "X_test = X_test.drop(\"Survived\", axis=1).values\n",
    "Y_train = X_train[\"Survived\"].values.astype(np.int32)\n",
    "X_train = X_train.drop(\"Survived\", axis=1).values\n",
    "\n",
    "# print(X_train[:5])\n",
    "# print(Y_train[:5])\n",
    "# print(X_test[:5])\n",
    "print(X_train.shape)\n",
    "print(Y_train.shape)\n",
    "print(X_test.shape)"
   ]
  },
  {
   "cell_type": "code",
   "execution_count": 262,
   "metadata": {},
   "outputs": [],
   "source": [
    "kfold = StratifiedKFold(n_splits=NFOLDS, shuffle=True, random_state=SEED)\n",
    "# for train_index, test_index in kf.split(X_train):\n",
    "#     X_tr, X_te = X_train[train_index], X_train[test_index]\n",
    "#     Y_tr, Y_te = Y_train[train_index], Y_train[test_index]"
   ]
  },
  {
   "cell_type": "markdown",
   "metadata": {},
   "source": [
    "# Rough models"
   ]
  },
  {
   "cell_type": "code",
   "execution_count": 263,
   "metadata": {},
   "outputs": [],
   "source": [
    "from sklearn.ensemble import RandomForestClassifier, AdaBoostClassifier, \\\n",
    "    GradientBoostingClassifier, ExtraTreesClassifier, VotingClassifier\n",
    "from sklearn.discriminant_analysis import LinearDiscriminantAnalysis\n",
    "from sklearn.linear_model import LogisticRegression\n",
    "from sklearn.neighbors import KNeighborsClassifier\n",
    "from sklearn.tree import DecisionTreeClassifier\n",
    "from sklearn.neural_network import MLPClassifier\n",
    "from sklearn.svm import SVC"
   ]
  },
  {
   "cell_type": "code",
   "execution_count": 264,
   "metadata": {},
   "outputs": [],
   "source": [
    "if not ONLY_PREDICT:\n",
    "    classifiers = []\n",
    "    classifiers.append(SVC(random_state=SEED))\n",
    "    classifiers.append(DecisionTreeClassifier(random_state=SEED))\n",
    "    classifiers.append(AdaBoostClassifier(random_state=SEED, learning_rate=0.1))\n",
    "    classifiers.append(RandomForestClassifier(random_state=SEED))\n",
    "    classifiers.append(ExtraTreesClassifier(random_state=SEED))\n",
    "    classifiers.append(GradientBoostingClassifier(random_state=SEED))\n",
    "    classifiers.append(MLPClassifier(random_state=SEED))  # ???\n",
    "    classifiers.append(KNeighborsClassifier())\n",
    "    classifiers.append(LogisticRegression(random_state=SEED))\n",
    "    classifiers.append(LinearDiscriminantAnalysis())  # LDA"
   ]
  },
  {
   "cell_type": "code",
   "execution_count": 265,
   "metadata": {},
   "outputs": [],
   "source": [
    "if not ONLY_PREDICT:\n",
    "    cv_results = []\n",
    "    for c in classifiers:\n",
    "        cv_results.append(cross_val_score(c, X_train, y=Y_train, scoring=\"accuracy\", cv=kfold, n_jobs=-1))"
   ]
  },
  {
   "cell_type": "code",
   "execution_count": 266,
   "metadata": {},
   "outputs": [],
   "source": [
    "if not ONLY_PREDICT:\n",
    "    cv_means = []\n",
    "    cv_std = []\n",
    "    for cv_result in cv_results:\n",
    "        cv_means.append(cv_result.mean())\n",
    "        cv_std.append(cv_result.std())"
   ]
  },
  {
   "cell_type": "code",
   "execution_count": 267,
   "metadata": {},
   "outputs": [],
   "source": [
    "if not ONLY_PREDICT:\n",
    "    cv_res = pd.DataFrame({\n",
    "        \"CrossValMeans\":cv_means,\n",
    "        \"CrossValerrors\": cv_std,\n",
    "        \"Algorithm\":[\n",
    "            \"SVC\",\n",
    "            \"DecisionTree\",\n",
    "            \"AdaBoost\",\n",
    "            \"RandomForest\",\n",
    "            \"ExtraTrees\",\n",
    "            \"GradientBoosting\",\n",
    "            \"MultipleLayerPerceptron\",\n",
    "            \"KNeighboors\",\n",
    "            \"LogisticRegression\",\n",
    "            \"LDA\"\n",
    "        ]})"
   ]
  },
  {
   "cell_type": "code",
   "execution_count": 268,
   "metadata": {},
   "outputs": [],
   "source": [
    "if not ONLY_PREDICT and config.get(\"show_visual\"):\n",
    "    g = sb.barplot(\"CrossValMeans\", \"Algorithm\", data = cv_res, palette=\"Set3\", orient = \"h\", **{'xerr':cv_std})\n",
    "    g.set_xlabel(\"Mean Accuracy\")\n",
    "    g = g.set_title(\"Cross validation scores\")"
   ]
  },
  {
   "cell_type": "markdown",
   "metadata": {},
   "source": [
    "# HP tunning"
   ]
  },
  {
   "cell_type": "markdown",
   "metadata": {},
   "source": [
    "### Adaboost"
   ]
  },
  {
   "cell_type": "code",
   "execution_count": 269,
   "metadata": {},
   "outputs": [],
   "source": [
    "if False:\n",
    "    ada = AdaBoostClassifier(DecisionTreeClassifier(), random_state=SEED)\n",
    "    # print(ada)\n",
    "\n",
    "    ada_param_grid = {\n",
    "        \"base_estimator__splitter\": [\"best\", \"random\"],\n",
    "        \"base_estimator__max_depth\": [1, 3, 5, None],\n",
    "        \"base_estimator__max_features\": [\"sqrt\", \"log2\", 0.5, None],\n",
    "        \"n_estimators\" : [30, 50, 100],\n",
    "        \"learning_rate\": [0.001, 0.003, 0.01, 0.03, 0.1, 0.3, 1],\n",
    "    }\n",
    "\n",
    "    gs_ada = GridSearchCV(ada, param_grid=ada_param_grid, cv=kfold, scoring=\"accuracy\", n_jobs=CORE_COUNT, verbose=1)\n",
    "    # print(gs_ada)\n",
    "\n",
    "    gs_ada.fit(X_train,Y_train)\n",
    "    print(gs_ada.best_estimator_)\n",
    "    print(gs_ada.best_score_)\n",
    "\n",
    "# AdaBoostClassifier(algorithm='SAMME.R',\n",
    "#           base_estimator=DecisionTreeClassifier(class_weight=None, criterion='gini', max_depth=5,\n",
    "#             max_features=0.5, max_leaf_nodes=None,\n",
    "#             min_impurity_decrease=0.0, min_impurity_split=None,\n",
    "#             min_samples_leaf=1, min_samples_split=2,\n",
    "#             min_weight_fraction_leaf=0.0, presort=False, random_state=None,\n",
    "#             splitter='best'),\n",
    "#           learning_rate=0.01, n_estimators=50, random_state=286)\n",
    "# 0.8388195232690124"
   ]
  },
  {
   "cell_type": "code",
   "execution_count": 270,
   "metadata": {},
   "outputs": [
    {
     "name": "stdout",
     "output_type": "stream",
     "text": [
      "0.9326599326599326\n"
     ]
    }
   ],
   "source": [
    "ada = AdaBoostClassifier(\n",
    "    DecisionTreeClassifier(\n",
    "        criterion=\"gini\", max_depth=5, max_features=0.5, min_samples_leaf=1, min_samples_split=2, splitter=\"best\"\n",
    "    ), learning_rate=0.01, n_estimators=50, random_state=SEED)\n",
    "ada.fit(X_train, Y_train)\n",
    "print(ada.score(X_train, Y_train))"
   ]
  },
  {
   "cell_type": "markdown",
   "metadata": {},
   "source": [
    "### RandomForest\n",
    "Use `RandomForestClassifier` with `random_state=SEED`\n",
    "```python\n",
    "    rfc_param_grid = {\n",
    "        \"warm_start\": [True, False],\n",
    "        \"max_depth\": [1, 3, 5, None],\n",
    "        \"max_features\": [\"sqrt\", \"log2\", 0.5, None],\n",
    "        \"min_samples_split\": [2, 5],\n",
    "        \"min_samples_leaf\": [1, 2, 5],\n",
    "        \"bootstrap\": [True, False],\n",
    "        \"n_estimators\" : [30, 50, 100],\n",
    "    }\n",
    "```"
   ]
  },
  {
   "cell_type": "code",
   "execution_count": 304,
   "metadata": {},
   "outputs": [
    {
     "name": "stdout",
     "output_type": "stream",
     "text": [
      "Fitting 10 folds for each of 24 candidates, totalling 240 fits\n"
     ]
    },
    {
     "name": "stderr",
     "output_type": "stream",
     "text": [
      "[Parallel(n_jobs=2)]: Done  74 tasks      | elapsed:   11.7s\n",
      "[Parallel(n_jobs=2)]: Done 224 tasks      | elapsed:   44.3s\n",
      "[Parallel(n_jobs=2)]: Done 240 out of 240 | elapsed:   54.3s finished\n"
     ]
    },
    {
     "name": "stdout",
     "output_type": "stream",
     "text": [
      "RandomForestClassifier(bootstrap=True, class_weight=None, criterion='gini',\n",
      "            max_depth=None, max_features=None, max_leaf_nodes=None,\n",
      "            min_impurity_decrease=0.0, min_impurity_split=None,\n",
      "            min_samples_leaf=1, min_samples_split=2,\n",
      "            min_weight_fraction_leaf=0.0, n_estimators=50, n_jobs=1,\n",
      "            oob_score=False, random_state=180, verbose=0, warm_start=False)\n",
      "0.8215488215488216\n"
     ]
    }
   ],
   "source": [
    "if True:\n",
    "    rfc = RandomForestClassifier(random_state=SEED)\n",
    "    # print(rfc)\n",
    "\n",
    "    rfc_param_grid = {\n",
    "#         \"warm_start\": [True, False],\n",
    "#         \"max_depth\": [1, 3, 5, None],\n",
    "        \"max_features\": [\"sqrt\", \"log2\", 0.5, None],\n",
    "#         \"min_samples_split\": [2, 5],\n",
    "#         \"min_samples_leaf\": [1, 2, 5],\n",
    "#         \"bootstrap\": [True, False],\n",
    "        \"n_estimators\" : [50, 100, 150, 200, 300, 500],\n",
    "    }\n",
    "\n",
    "    gs_rfc = GridSearchCV(rfc, param_grid=rfc_param_grid, cv=kfold, scoring=\"accuracy\", n_jobs=CORE_COUNT, verbose=1)\n",
    "    # print(gs_rfc)\n",
    "\n",
    "    gs_rfc.fit(X_train,Y_train)\n",
    "    print(gs_rfc.best_estimator_)\n",
    "    print(gs_rfc.best_score_)\n",
    "    \n",
    "# RandomForestClassifier(bootstrap=False, class_weight=None, criterion='gini',\n",
    "#             max_depth=5, max_features='sqrt', max_leaf_nodes=None,\n",
    "#             min_impurity_decrease=0.0, min_impurity_split=None,\n",
    "#             min_samples_leaf=1, min_samples_split=2,\n",
    "#             min_weight_fraction_leaf=0.0, n_estimators=100, n_jobs=1,\n",
    "#             oob_score=False, random_state=286, verbose=0, warm_start=True)\n",
    "# 0.8331441543700341"
   ]
  },
  {
   "cell_type": "code",
   "execution_count": 272,
   "metadata": {},
   "outputs": [
    {
     "name": "stdout",
     "output_type": "stream",
     "text": [
      "0.8619528619528619\n"
     ]
    }
   ],
   "source": [
    "rfc = RandomForestClassifier(bootstrap=False, criterion=\"gini\", max_depth=5, max_features=\"sqrt\", \n",
    "                             min_samples_leaf=1, min_samples_split=2, n_estimators=100, warm_start=True,\n",
    "                             random_state=SEED)\n",
    "rfc.fit(X_train, Y_train)\n",
    "print(rfc.score(X_train, Y_train))"
   ]
  },
  {
   "cell_type": "markdown",
   "metadata": {},
   "source": [
    "### ExtraTrees"
   ]
  },
  {
   "cell_type": "code",
   "execution_count": 273,
   "metadata": {},
   "outputs": [],
   "source": [
    "if False:\n",
    "    etc = ExtraTreesClassifier(random_state=SEED)\n",
    "\n",
    "    etc_param_grid = {\n",
    "        \"n_estimators\" : [30, 50, 100],\n",
    "        \"warm_start\": [True, False],\n",
    "        \"max_depth\": [1, 3, 5, None],\n",
    "        \"max_features\": [\"sqrt\", \"log2\", 0.5, None],\n",
    "        \"min_samples_split\": [2, 5],\n",
    "        \"min_samples_leaf\": [1, 2, 5],\n",
    "        \"bootstrap\": [True, False],\n",
    "    }\n",
    "\n",
    "    gs_etc = GridSearchCV(etc, param_grid=etc_param_grid, cv=kfold, scoring=\"accuracy\", n_jobs=CORE_COUNT, verbose=1)\n",
    "\n",
    "    gs_etc.fit(X_train,Y_train)\n",
    "    print(gs_etc.best_estimator_)\n",
    "    print(gs_etc.best_score_)"
   ]
  },
  {
   "cell_type": "code",
   "execution_count": 282,
   "metadata": {},
   "outputs": [
    {
     "name": "stdout",
     "output_type": "stream",
     "text": [
      "0.856341189674523\n"
     ]
    }
   ],
   "source": [
    "etc = ExtraTreesClassifier(bootstrap=True, criterion='gini', max_depth=5, max_features=0.5, min_impurity_decrease=0.0, \n",
    "                           min_samples_leaf=2, min_samples_split=2, n_estimators=100, random_state=SEED, \n",
    "                           warm_start=True)\n",
    "etc.fit(X_train, Y_train)\n",
    "print(etc.score(X_train, Y_train))"
   ]
  },
  {
   "cell_type": "markdown",
   "metadata": {},
   "source": [
    "### GradientBoost"
   ]
  },
  {
   "cell_type": "code",
   "execution_count": 275,
   "metadata": {},
   "outputs": [],
   "source": [
    "if False:\n",
    "    gbc = GradientBoostingClassifier(loss=\"deviance\", random_state=SEED)\n",
    "\n",
    "    gbc_param_grid = {\n",
    "        \"learning_rate\": [0.001, 0.003, 0.01, 0.03, 0.1, 0.3, 1],\n",
    "        \"n_estimators\" : [30, 50, 100],\n",
    "        \"max_depth\": [1, 3, 5, None],\n",
    "        \"max_features\": [\"sqrt\", \"log2\", 0.5, None],\n",
    "        \"min_samples_split\": [2, 5],\n",
    "        \"min_samples_leaf\": [1, 2, 5],\n",
    "        \"warm_start\": [True, False],\n",
    "    }\n",
    "\n",
    "    gs_gbc = GridSearchCV(gbc, param_grid=gbc_param_grid, cv=kfold, scoring=\"accuracy\", n_jobs=CORE_COUNT, verbose=1)\n",
    "\n",
    "    gs_gbc.fit(X_train,Y_train)\n",
    "    print(gs_gbc.best_estimator_)\n",
    "    print(gs_gbc.best_score_)\n",
    "    \n",
    "# GradientBoostingClassifier(criterion='friedman_mse', init=None,\n",
    "#               learning_rate=0.1, loss='deviance', max_depth=5,\n",
    "#               max_features=0.5, max_leaf_nodes=None,\n",
    "#               min_impurity_decrease=0.0, min_impurity_split=None,\n",
    "#               min_samples_leaf=1, min_samples_split=2,\n",
    "#               min_weight_fraction_leaf=0.0, n_estimators=30,\n",
    "#               presort='auto', random_state=286, subsample=1.0, verbose=0,\n",
    "#               warm_start=True)\n",
    "# 0.8365493757094211"
   ]
  },
  {
   "cell_type": "code",
   "execution_count": 283,
   "metadata": {},
   "outputs": [
    {
     "name": "stdout",
     "output_type": "stream",
     "text": [
      "0.9079685746352413\n"
     ]
    }
   ],
   "source": [
    "gbc = GradientBoostingClassifier(criterion='friedman_mse', learning_rate=0.1, loss='deviance', max_depth=5,\n",
    "                                 max_features=0.5, min_samples_leaf=1, min_samples_split=2, n_estimators=30,\n",
    "                                 random_state=SEED, warm_start=True)\n",
    "gbc.fit(X_train, Y_train)\n",
    "print(gbc.score(X_train, Y_train))"
   ]
  },
  {
   "cell_type": "markdown",
   "metadata": {},
   "source": [
    "### SVM"
   ]
  },
  {
   "cell_type": "code",
   "execution_count": 277,
   "metadata": {},
   "outputs": [],
   "source": [
    "if False:\n",
    "    svc = SVC(probability=True, random_state=SEED)\n",
    "\n",
    "    svc_param_grid = {\n",
    "#         \"C\": [1, 3, 10, 30, 100, 300, 1000],\n",
    "#         \"kernel\": [\"rbf\", \"linear\", \"poly\"],\n",
    "#         \"degree\": [2, 3, 4],\n",
    "#         \"shrinking\": [True, False],\n",
    "        'kernel': ['rbf'], \n",
    "        'gamma': [ 0.001, 0.01, 0.1, 1],\n",
    "        'C': [1, 10, 50, 100,200,300, 1000]\n",
    "    }\n",
    "\n",
    "    gs_svc = GridSearchCV(svc, param_grid=svc_param_grid, cv=kfold, scoring=\"accuracy\", n_jobs=CORE_COUNT, verbose=1)\n",
    "\n",
    "    gs_svc.fit(X_train,Y_train)\n",
    "    print(gs_svc.best_estimator_)\n",
    "    print(gs_svc.best_score_)\n",
    "    \n",
    "# SVC(C=50, cache_size=200, class_weight=None, coef0=0.0,\n",
    "#   decision_function_shape='ovr', degree=3, gamma=0.001, kernel='rbf',\n",
    "#   max_iter=-1, probability=True, random_state=286, shrinking=True,\n",
    "#   tol=0.001, verbose=False)\n",
    "# 0.8229284903518729"
   ]
  },
  {
   "cell_type": "code",
   "execution_count": 284,
   "metadata": {},
   "outputs": [
    {
     "name": "stdout",
     "output_type": "stream",
     "text": [
      "0.8305274971941639\n"
     ]
    }
   ],
   "source": [
    "svc = SVC(C=50, gamma=0.001, kernel='rbf', probability=True, random_state=SEED)\n",
    "svc.fit(X_train, Y_train)\n",
    "print(svc.score(X_train, Y_train))"
   ]
  },
  {
   "cell_type": "markdown",
   "metadata": {},
   "source": [
    "### MLP"
   ]
  },
  {
   "cell_type": "code",
   "execution_count": 279,
   "metadata": {},
   "outputs": [],
   "source": [
    "if False:\n",
    "    mlp = MLPClassifier(early_stopping=True, solver='adam', random_state=SEED)\n",
    "\n",
    "    mlp_param_grid = {\n",
    "        'hidden_layer_sizes': [(100,), (50, 50), (30, 30, 30)], \n",
    "        'activation': [\"relu\", \"tanh\"],\n",
    "        'alpha': [0.003, 0.01, 0.03, 0.1, 0.3, 1, 3, 10],\n",
    "        \"learning_rate_init\": [0.01, 0.03, 0.1, 0.3, 1],\n",
    "        \"batch_size\": [30],\n",
    "        \"max_iter\": [500],\n",
    "    }\n",
    "\n",
    "    gs_mlp = GridSearchCV(mlp, param_grid=mlp_param_grid, cv=kfold, scoring=\"accuracy\", n_jobs=CORE_COUNT, verbose=1)\n",
    "\n",
    "    gs_mlp.fit(X_train,Y_train)\n",
    "    print(gs_mlp.best_estimator_)\n",
    "    print(gs_mlp.best_score_)"
   ]
  },
  {
   "cell_type": "code",
   "execution_count": 285,
   "metadata": {},
   "outputs": [
    {
     "name": "stdout",
     "output_type": "stream",
     "text": [
      "0.8249158249158249\n"
     ]
    }
   ],
   "source": [
    "mlp = MLPClassifier(activation='tanh', alpha=0.03, batch_size=50, early_stopping=True, \n",
    "                    hidden_layer_sizes=(50, 50), learning_rate_init=0.03, max_iter=200, \n",
    "                    random_state=SEED, solver='adam')\n",
    "mlp.fit(X_train, Y_train)\n",
    "print(mlp.score(X_train, Y_train))"
   ]
  },
  {
   "cell_type": "markdown",
   "metadata": {},
   "source": [
    "# Learning curve"
   ]
  },
  {
   "cell_type": "code",
   "execution_count": 287,
   "metadata": {},
   "outputs": [],
   "source": [
    "def plot_learning_curve(estimator, title, X, y, ylim=None, cv=None, n_jobs=-1, train_sizes=np.linspace(.1, 1.0, 5)):\n",
    "    \"\"\"\n",
    "    Generate a simple plot of the test and training learning curve\n",
    "    \"\"\"\n",
    "    plt.figure()\n",
    "    plt.title(title)\n",
    "    if ylim is not None:\n",
    "        plt.ylim(*ylim)\n",
    "    plt.xlabel(\"Training examples\")\n",
    "    plt.ylabel(\"Score\")\n",
    "    train_sizes, train_scores, test_scores = learning_curve(\n",
    "        estimator, X, y, cv=cv, n_jobs=n_jobs, train_sizes=train_sizes)\n",
    "    train_scores_mean = np.mean(train_scores, axis=1)\n",
    "    train_scores_std = np.std(train_scores, axis=1)\n",
    "    test_scores_mean = np.mean(test_scores, axis=1)\n",
    "    test_scores_std = np.std(test_scores, axis=1)\n",
    "    plt.grid()\n",
    "\n",
    "    plt.fill_between(train_sizes, train_scores_mean - train_scores_std,\n",
    "                     train_scores_mean + train_scores_std, alpha=0.1,\n",
    "                     color=\"r\")\n",
    "    plt.fill_between(train_sizes, test_scores_mean - test_scores_std,\n",
    "                     test_scores_mean + test_scores_std, alpha=0.1, color=\"g\")\n",
    "    plt.plot(train_sizes, train_scores_mean, 'o-', color=\"r\",\n",
    "             label=\"Training score\")\n",
    "    plt.plot(train_sizes, test_scores_mean, 'o-', color=\"g\",\n",
    "             label=\"Cross-validation score\")\n",
    "\n",
    "    plt.legend(loc=\"best\")\n",
    "    return plt"
   ]
  },
  {
   "cell_type": "code",
   "execution_count": 288,
   "metadata": {},
   "outputs": [],
   "source": [
    "config[\"show_visual\"] = True"
   ]
  },
  {
   "cell_type": "code",
   "execution_count": 289,
   "metadata": {},
   "outputs": [
    {
     "data": {
      "image/png": "[encoded data removed]",
      "text/plain": [
       "<Figure size 432x288 with 1 Axes>"
      ]
     },
     "metadata": {},
     "output_type": "display_data"
    }
   ],
   "source": [
    "if config.get(\"show_visual\"):\n",
    "    g = plot_learning_curve(rfc,\"RF mearning curves\",X_train,Y_train,cv=kfold)"
   ]
  },
  {
   "cell_type": "code",
   "execution_count": 290,
   "metadata": {},
   "outputs": [
    {
     "data": {
      "image/png": "[encoded data removed]",
      "text/plain": [
       "<Figure size 432x288 with 1 Axes>"
      ]
     },
     "metadata": {},
     "output_type": "display_data"
    }
   ],
   "source": [
    "if config.get(\"show_visual\"):\n",
    "    g = plot_learning_curve(etc,\"ExtraTrees learning curves\",X_train,Y_train,cv=kfold)"
   ]
  },
  {
   "cell_type": "code",
   "execution_count": 291,
   "metadata": {},
   "outputs": [
    {
     "data": {
      "image/png": "[encoded data removed]",
      "text/plain": [
       "<Figure size 432x288 with 1 Axes>"
      ]
     },
     "metadata": {},
     "output_type": "display_data"
    }
   ],
   "source": [
    "if config.get(\"show_visual\"):\n",
    "    g = plot_learning_curve(svc,\"SVC learning curves\",X_train,Y_train,cv=kfold)"
   ]
  },
  {
   "cell_type": "code",
   "execution_count": 292,
   "metadata": {
    "scrolled": true
   },
   "outputs": [
    {
     "data": {
      "image/png": "[encoded data removed]",
      "text/plain": [
       "<Figure size 432x288 with 1 Axes>"
      ]
     },
     "metadata": {},
     "output_type": "display_data"
    }
   ],
   "source": [
    "if config.get(\"show_visual\"):\n",
    "    g = plot_learning_curve(ada,\"AdaBoost learning curves\",X_train,Y_train,cv=kfold)"
   ]
  },
  {
   "cell_type": "code",
   "execution_count": 293,
   "metadata": {},
   "outputs": [
    {
     "data": {
      "image/png": "[encoded data removed]",
      "text/plain": [
       "<Figure size 432x288 with 1 Axes>"
      ]
     },
     "metadata": {},
     "output_type": "display_data"
    }
   ],
   "source": [
    "if config.get(\"show_visual\"):\n",
    "    g = plot_learning_curve(gbc,\"GradientBoosting learning curves\",X_train,Y_train,cv=kfold)"
   ]
  },
  {
   "attachments": {
    "image.png": {
     "image/png": "[encoded data removed]"
    }
   },
   "cell_type": "markdown",
   "metadata": {},
   "source": [
    "本地执行不起来<br>\n",
    "`g = plot_learning_curve(mlp,\"MLP learning curves\",X_train,Y_train,cv=kfold)`<br>\n",
    "Kaggle上执行结果如图<br>\n",
    "![image.png](attachment:image.png)"
   ]
  },
  {
   "cell_type": "markdown",
   "metadata": {},
   "source": [
    "### result:\n",
    "Adaboost and GradientBoost seems overfit<br>\n",
    "RandomForest and ExtraTrees and SVM and MLP seem to better generalize the prediction since the training and cross-validation curves are close together."
   ]
  },
  {
   "cell_type": "markdown",
   "metadata": {},
   "source": [
    "# Feature importance"
   ]
  },
  {
   "cell_type": "code",
   "execution_count": 294,
   "metadata": {},
   "outputs": [],
   "source": [
    "def plt_feature_importance(classifier, name):\n",
    "    fig, axes = plt.subplots(nrows=1, ncols=1, sharex=\"all\", figsize=(10,10))\n",
    "    indices = np.argsort(classifier.feature_importances_)[::-1][:40]\n",
    "    XX = dataall.iloc[:train_len].drop(\"Survived\", axis=1)\n",
    "    g = sb.barplot(\n",
    "        y=XX.columns[indices][:40], \n",
    "        x=classifier.feature_importances_[indices][:40], \n",
    "        orient='h')\n",
    "    g.set_xlabel(\"Relative importance\", fontsize=12)\n",
    "    g.set_ylabel(\"Features\", fontsize=12)\n",
    "    g.tick_params(labelsize=9)\n",
    "    g.set_title(name + \" feature importance\")"
   ]
  },
  {
   "cell_type": "code",
   "execution_count": 295,
   "metadata": {},
   "outputs": [
    {
     "data": {
      "image/png": "[encoded data removed]",
      "text/plain": [
       "<Figure size 720x720 with 1 Axes>"
      ]
     },
     "metadata": {},
     "output_type": "display_data"
    }
   ],
   "source": [
    "# if config.get(\"show_visual\"):\n",
    "#     plt_feature_importance(ada, \"Adaboost\")"
   ]
  },
  {
   "cell_type": "code",
   "execution_count": 296,
   "metadata": {},
   "outputs": [
    {
     "data": {
      "image/png": "[encoded data removed]",
      "text/plain": [
       "<Figure size 720x720 with 1 Axes>"
      ]
     },
     "metadata": {},
     "output_type": "display_data"
    }
   ],
   "source": [
    "# if config.get(\"show_visual\"):\n",
    "#     plt_feature_importance(gbc, \"GradientBoosting\")"
   ]
  },
  {
   "cell_type": "code",
   "execution_count": 297,
   "metadata": {},
   "outputs": [
    {
     "data": {
      "image/png": "[encoded data removed]",
      "text/plain": [
       "<Figure size 720x720 with 1 Axes>"
      ]
     },
     "metadata": {},
     "output_type": "display_data"
    }
   ],
   "source": [
    "if config.get(\"show_visual\"):\n",
    "    plt_feature_importance(rfc, \"RandomForest\")"
   ]
  },
  {
   "cell_type": "code",
   "execution_count": 298,
   "metadata": {},
   "outputs": [
    {
     "data": {
      "image/png": "[encoded data removed]",
      "text/plain": [
       "<Figure size 720x720 with 1 Axes>"
      ]
     },
     "metadata": {},
     "output_type": "display_data"
    }
   ],
   "source": [
    "# if config.get(\"show_visual\"):\n",
    "#     plt_feature_importance(etc, \"ExtraTrees\")"
   ]
  },
  {
   "cell_type": "markdown",
   "metadata": {},
   "source": [
    "# Finally, Predict"
   ]
  },
  {
   "cell_type": "code",
   "execution_count": 299,
   "metadata": {},
   "outputs": [],
   "source": [
    "test_Survived_RFC = pd.Series(rfc.predict(X_test), name=\"RandomForest\")\n",
    "test_Survived_ExtC = pd.Series(etc.predict(X_test), name=\"ExtraTrees\")\n",
    "test_Survived_SVMC = pd.Series(svc.predict(X_test), name=\"SVM\")\n",
    "test_Survived_AdaC = pd.Series(ada.predict(X_test), name=\"Adaboost\")\n",
    "test_Survived_GBC = pd.Series(gbc.predict(X_test), name=\"GradientBoosting\")\n",
    "test_Survived_MLP = pd.Series(mlp.predict(X_test), name=\"MLP\")"
   ]
  },
  {
   "cell_type": "code",
   "execution_count": 301,
   "metadata": {},
   "outputs": [
    {
     "data": {
      "image/png": "[encoded data removed]",
      "text/plain": [
       "<Figure size 432x288 with 2 Axes>"
      ]
     },
     "metadata": {},
     "output_type": "display_data"
    }
   ],
   "source": [
    "ensemble_results = pd.concat([\n",
    "    test_Survived_RFC,\n",
    "    test_Survived_ExtC,\n",
    "    test_Survived_AdaC,\n",
    "    test_Survived_GBC, \n",
    "    test_Survived_SVMC,\n",
    "    test_Survived_MLP,\n",
    "],axis=1)\n",
    "if config.get(\"show_visual\"):\n",
    "    g = sb.heatmap(ensemble_results.corr(), annot=True)"
   ]
  },
  {
   "cell_type": "code",
   "execution_count": 302,
   "metadata": {},
   "outputs": [],
   "source": [
    "vc = VotingClassifier(\n",
    "    estimators=[\n",
    "        ('rfc', rfc), \n",
    "        ('etc', etc),\n",
    "        ('svc', svc), \n",
    "        ('ada', ada),\n",
    "        ('gbc', gbc),\n",
    "        (\"mlp\", mlp),\n",
    "    ], \n",
    "    voting='hard', \n",
    "#     weights=[1,1,2,1,1,2],\n",
    "    n_jobs=CORE_COUNT)\n",
    "\n",
    "vc = vc.fit(X_train, Y_train)"
   ]
  },
  {
   "cell_type": "code",
   "execution_count": 303,
   "metadata": {},
   "outputs": [
    {
     "name": "stderr",
     "output_type": "stream",
     "text": [
      "/usr/local/lib/python3.6/site-packages/sklearn/preprocessing/label.py:151: DeprecationWarning: The truth value of an empty array is ambiguous. Returning False, but in future this will result in an error. Use `array.size > 0` to check that an array is not empty.\n",
      "  if diff:\n"
     ]
    }
   ],
   "source": [
    "prediction = vc.predict(X_test)\n",
    "# print(prediction)\n",
    "results = pd.DataFrame({\n",
    "    'PassengerId': np.arange(ttrain.shape[0] + 1, ttrain.shape[0] + prediction.shape[0] + 1), \n",
    "    'Survived': prediction.squeeze() })\n",
    "results.to_csv(\"ensemble_python_voting.csv\", index=False)"
   ]
  },
  {
   "cell_type": "markdown",
   "metadata": {},
   "source": [
    "## 结果\n",
    "voting=\"soft\"，结果没有超过0.79<br>\n",
    "voting=\"hard\"，结果接近0.8<br>\n",
    "使用mlp代替gbc，结果并没有提升<br>\n",
    "将mlp直接加入，结果依然没有提升"
   ]
  },
  {
   "cell_type": "code",
   "execution_count": null,
   "metadata": {},
   "outputs": [],
   "source": []
  }
 ],
 "metadata": {
  "kernelspec": {
   "display_name": "Python 3",
   "language": "python",
   "name": "python3"
  },
  "language_info": {
   "codemirror_mode": {
    "name": "ipython",
    "version": 3
   },
   "file_extension": ".py",
   "mimetype": "text/x-python",
   "name": "python",
   "nbconvert_exporter": "python",
   "pygments_lexer": "ipython3",
   "version": "3.6.5"
  }
 },
 "nbformat": 4,
 "nbformat_minor": 2
}
